{
 "cells": [
  {
   "cell_type": "code",
   "execution_count": 1,
   "metadata": {},
   "outputs": [],
   "source": [
    "import numpy as np\n",
    "import networkx as nx\n",
    "from pgmpy.models import BayesianModel\n",
    "from pgmpy.factors.discrete import TabularCPD\n",
    "from pgmpy.inference import VariableElimination\n",
    "from pgmpy.sampling import BayesianModelSampling\n",
    "from scipy.stats import beta, dirichlet\n",
    "from operator import add\n",
    "import matplotlib.pyplot as plt"
   ]
  },
  {
   "cell_type": "markdown",
   "metadata": {},
   "source": [
    "## True Causal Model From Environment:"
   ]
  },
  {
   "cell_type": "code",
   "execution_count": 19,
   "metadata": {},
   "outputs": [],
   "source": [
    "model = BayesianModel([('Enfermedad', 'Final'), ('Tratamiento', 'Final'), ('Tratamiento', 'Reaccion'),\n",
    "                       ('Reaccion', 'Final')])\n",
    "\n",
    "cpd_e = TabularCPD(variable='Enfermedad', variable_card=2, values=[[0.6, 0.4]])\n",
    "cpd_tr = TabularCPD(variable='Tratamiento', variable_card=2, values=[[0.5, 0.5]])\n",
    "\n",
    "cpd_r_tr = TabularCPD(variable='Reaccion', variable_card=2, \n",
    "                   values=[[.7,.4], [.3,.6]], #vivir|farmaco vivir|cirugia #morir|farmaco morir|cirugia\n",
    "                   evidence=['Tratamiento'],\n",
    "                   evidence_card=[2])\n",
    "\n",
    "cpd_f_e_tr_r = TabularCPD(variable='Final', variable_card=2, \n",
    "                   values=[[.6,0,.8,0,.4,0,.9,0],[.4,1,.2,1,.6,1,.1,1]], #vivir|vivir,farmaco,a #morir|\n",
    "                  evidence=['Enfermedad', 'Tratamiento','Reaccion'],\n",
    "                  evidence_card=[2, 2,2])\n",
    "\n",
    "model.add_cpds(cpd_e, cpd_tr, cpd_r_tr, cpd_f_e_tr_r)\n",
    "\n",
    "infer = VariableElimination(model)\n",
    "sampling = BayesianModelSampling(model)"
   ]
  },
  {
   "cell_type": "code",
   "execution_count": 20,
   "metadata": {},
   "outputs": [],
   "source": [
    "class true_causal_model:\n",
    "    def __init__(self,N,infer,sampling,model):\n",
    "        self.num_variables=N\n",
    "        self.infer=infer\n",
    "        self.sampling=sampling\n",
    "        self.true_model=model\n",
    "\n",
    "    def action_simulator(self,chosen_action):\n",
    "        response=dict()\n",
    "        response['Enfermedad']=np.random.randint(0,2)\n",
    "        response['Tratamiento']=chosen_action\n",
    "        response['Reaccion']=self.infer.map_query(['Reaccion'],evidence={'Tratamiento': response['Tratamiento'],'Enfermedad': response['Enfermedad']})['Reaccion']\n",
    "        response['Final']=self.infer.map_query(['Final'],evidence={'Tratamiento': response['Tratamiento'],'Enfermedad': response['Enfermedad'],'Reaccion':response['Reaccion']})['Final']\n",
    "        return(response)"
   ]
  },
  {
   "cell_type": "code",
   "execution_count": 21,
   "metadata": {},
   "outputs": [],
   "source": [
    "class fully_informed_agent:\n",
    "    def __init__(self):\n",
    "        self.beliefs=dict()\n",
    "        self.beliefs['Enfermedad']=[0.6, 0.4]\n",
    "        self.beliefs['Tratamiento']=[0.5, 0.5]\n",
    "        self.beliefs['Reaccion|Tratamiento']=[[.7,.4], [.3,.6]]\n",
    "        self.beliefs['Final|Enfermedad, Tratamiento, Reaccion']=[[.6,0,.8,0,.4,0,.9,0],[.4,1,.2,1,.6,1,.1,1]]\n",
    "        \n",
    "    def do_calculus(self,final,treatment): \n",
    "        #La distribución P(Final|do(Tratamiento))=P(Final|Enfermedad, Tratamiento, Reaccion)P(Reaccion|Tratamiento)P(Enfermedad)\n",
    "        #Treatment = 1 ó 0\n",
    "        #Quiero que me de la probabilidad de vivir=0 ó =1 dado treatment=0 ó =1\n",
    "        if (treatment==0):\n",
    "            res=self.beliefs['Final|Enfermedad, Tratamiento, Reaccion'][final][0]*self.beliefs['Reaccion|Tratamiento'][0][0]*self.beliefs['Enfermedad'][0] \\\n",
    "            +self.beliefs['Final|Enfermedad, Tratamiento, Reaccion'][final][1]*self.beliefs['Reaccion|Tratamiento'][1][0]*self.beliefs['Enfermedad'][0] \\\n",
    "            +self.beliefs['Final|Enfermedad, Tratamiento, Reaccion'][final][4]*self.beliefs['Reaccion|Tratamiento'][0][0]*self.beliefs['Enfermedad'][1] \\\n",
    "            +self.beliefs['Final|Enfermedad, Tratamiento, Reaccion'][final][5]*self.beliefs['Reaccion|Tratamiento'][1][0]*self.beliefs['Enfermedad'][1]\n",
    "        else:\n",
    "            res=self.beliefs['Final|Enfermedad, Tratamiento, Reaccion'][final][2]*self.beliefs['Reaccion|Tratamiento'][0][1]*self.beliefs['Enfermedad'][0] \\\n",
    "                +self.beliefs['Final|Enfermedad, Tratamiento, Reaccion'][final][3]*self.beliefs['Reaccion|Tratamiento'][1][1]*self.beliefs['Enfermedad'][0] \\\n",
    "                +self.beliefs['Final|Enfermedad, Tratamiento, Reaccion'][final][6]*self.beliefs['Reaccion|Tratamiento'][0][1]*self.beliefs['Enfermedad'][1] \\\n",
    "                +self.beliefs['Final|Enfermedad, Tratamiento, Reaccion'][final][7]*self.beliefs['Reaccion|Tratamiento'][1][1]*self.beliefs['Enfermedad'][1]\n",
    "        return(res)\n",
    "    \n",
    "    def make_decision(self,final=1):\n",
    "        f_0= self.do_calculus(final,0)\n",
    "        f_1=self.do_calculus(final,1)\n",
    "        if (f_0 > f_1):\n",
    "            return(0)\n",
    "        else:\n",
    "            return(1)"
   ]
  },
  {
   "cell_type": "code",
   "execution_count": 22,
   "metadata": {},
   "outputs": [],
   "source": [
    "class causal_agent:\n",
    "    def __init__(self, true_model,model_simulator, max_variables, max_valores):\n",
    "        self.max_variables=max_variables\n",
    "        self.local_model=true_model ## Este es el directamente creado con PGMPY, no la clase true_causal_model\n",
    "        self.infer=VariableElimination(self.local_model)\n",
    "        self.beliefs=dict()\n",
    "        self.K=max_valores\n",
    "        self.simulator=model_simulator.action_simulator\n",
    "        \n",
    "        self.alpha_enfermedad=np.random.rand(self.K).tolist()\n",
    "        self.alpha_tratamiento=np.random.rand(self.K).tolist()\n",
    "        self.alpha_reaccion_farmaco=np.random.rand(self.K).tolist()\n",
    "        self.alpha_reaccion_cirugia=np.random.rand(self.K).tolist()\n",
    "        self.alpha_A_f_v=np.random.rand(self.K).tolist()\n",
    "        self.alpha_A_f_m=np.random.rand(self.K).tolist()\n",
    "        self.alpha_A_c_v=np.random.rand(self.K).tolist()\n",
    "        self.alpha_A_c_m=np.random.rand(self.K).tolist()\n",
    "        self.alpha_B_f_v=np.random.rand(self.K).tolist()\n",
    "        self.alpha_B_f_m=np.random.rand(self.K).tolist()\n",
    "        self.alpha_B_c_v=np.random.rand(self.K).tolist()\n",
    "        self.alpha_B_c_m=np.random.rand(self.K).tolist()\n",
    "                \n",
    "        self.conteo_enfermedad_A=0\n",
    "        self.conteo_enfermedad_B=0\n",
    "        self.conteo_tratamiento_f=0\n",
    "        self.conteo_tratamiento_c=0\n",
    "        self.conteo_reaccion_v_f=0\n",
    "        self.conteo_reaccion_m_f=0\n",
    "        self.conteo_reaccion_v_c=0\n",
    "        self.conteo_reaccion_m_c=0\n",
    "        \n",
    "        self.conteo_v_A_f_v=0\n",
    "        self.conteo_v_A_f_m=0\n",
    "        self.conteo_v_A_c_v=0\n",
    "        self.conteo_v_A_c_m=0\n",
    "        self.conteo_v_B_f_v=0\n",
    "        self.conteo_v_B_f_m=0\n",
    "        self.conteo_v_B_c_v=0\n",
    "        self.conteo_v_B_c_m=0\n",
    "        self.conteo_m_A_f_v=0\n",
    "        self.conteo_m_A_f_m=0\n",
    "        self.conteo_m_A_c_v=0\n",
    "        self.conteo_m_A_c_m=0\n",
    "        self.conteo_m_B_f_v=0\n",
    "        self.conteo_m_B_f_m=0\n",
    "        self.conteo_m_B_c_v=0\n",
    "        self.conteo_m_B_c_m=0\n",
    "        \n",
    "        self.recompensa=[0]\n",
    "        self.rounds=0\n",
    "    \n",
    "    def belief_formation(self):\n",
    "        alpha_enfermedad=self.alpha_enfermedad\n",
    "        alpha_tratamiento=self.alpha_tratamiento\n",
    "        \n",
    "        alpha_reaccion_farmaco=self.alpha_reaccion_farmaco\n",
    "        alpha_reaccion_cirugia=self.alpha_reaccion_cirugia\n",
    "        \n",
    "        alpha_A_f_v=self.alpha_A_f_v\n",
    "        alpha_A_f_m=self.alpha_A_f_m\n",
    "        alpha_A_c_v=self.alpha_A_c_v\n",
    "        alpha_A_c_m=self.alpha_A_c_m\n",
    "        alpha_B_f_v=self.alpha_B_f_v\n",
    "        alpha_B_f_m=self.alpha_B_f_m\n",
    "        alpha_B_c_v=self.alpha_B_c_v\n",
    "        alpha_B_c_m=self.alpha_B_c_m\n",
    "        \n",
    "        \n",
    "        lista=dirichlet.rvs(alpha_enfermedad,size=1).tolist()\n",
    "        self.beliefs['Enfermedad']=lista[0]\n",
    "        \n",
    "        lista=dirichlet.rvs(alpha_tratamiento,size=1).tolist()\n",
    "        self.beliefs['Tratamiento']=lista[0]\n",
    "        \n",
    "        lista_1=dirichlet.rvs(alpha_reaccion_farmaco,size=1).tolist()\n",
    "        lista_2=dirichlet.rvs(alpha_reaccion_cirugia,size=1).tolist()\n",
    "        lista_3=np.array([lista_1[0],lista_2[0]]).transpose()\n",
    "        lista_4=lista_3.tolist()\n",
    "        self.beliefs['Reaccion|Tratamiento']=lista_4\n",
    "        \n",
    "        lista_1=dirichlet.rvs(alpha_A_f_v,size=1).tolist()\n",
    "        lista_2=dirichlet.rvs(alpha_A_f_m,size=1).tolist()\n",
    "        lista_3=dirichlet.rvs(alpha_A_c_v,size=1).tolist()\n",
    "        lista_4=dirichlet.rvs(alpha_A_c_m,size=1).tolist()\n",
    "        lista_5=dirichlet.rvs(alpha_B_f_v,size=1).tolist()\n",
    "        lista_6=dirichlet.rvs(alpha_B_f_m,size=1).tolist()\n",
    "        lista_7=dirichlet.rvs(alpha_B_c_v,size=1).tolist()\n",
    "        lista_8=dirichlet.rvs(alpha_B_c_m,size=1).tolist()\n",
    "        lista_9=np.array([lista_1[0],lista_2[0],lista_3[0],lista_4[0],lista_5[0],lista_6[0],lista_7[0],lista_8[0]]).transpose()\n",
    "        lista_10=lista_9.tolist()\n",
    "        self.beliefs['Final|Enfermedad, Tratamiento, Reaccion']=lista_10\n",
    "        print(\"Creencias formadas\")\n",
    "        return(self.beliefs)\n",
    "    \n",
    "    def print_beliefs(self):\n",
    "        return(self.beliefs)\n",
    "    \n",
    "    def fix_causal_model(self):\n",
    "        model1=self.local_model\n",
    "        model=model1.copy()\n",
    "        \n",
    "        cpd_e=TabularCPD(variable='Enfermedad', variable_card=2, values=[self.beliefs['Enfermedad']])\n",
    "        cpd_tr=TabularCPD(variable='Tratamiento', variable_card=2, values=[self.beliefs['Tratamiento']])\n",
    "        cpd_r_tr=cpd_r_tr = TabularCPD(variable='Reaccion', variable_card=2, values=self.beliefs['Reaccion|Tratamiento'], evidence=['Tratamiento'],evidence_card=[2])\n",
    "        cpd_f_e_tr_r= TabularCPD(variable='Final', variable_card=2, values=self.beliefs['Final|Enfermedad, Tratamiento, Reaccion'],evidence=['Enfermedad', 'Tratamiento','Reaccion'],evidence_card=[2, 2,2])\n",
    "        model.add_cpds(cpd_e, cpd_tr, cpd_r_tr, cpd_f_e_tr_r)\n",
    "        \n",
    "        if (model.check_model()):\n",
    "            self.local_model=model\n",
    "            self.infer= VariableElimination(model)\n",
    "            print(\"Modelo Causal local creado\")\n",
    "            return(model,infer)\n",
    "        else:\n",
    "            print(\"Error en CPT\")\n",
    "        \n",
    "    def do_calculus(self,final,treatment): \n",
    "        #La distribución P(Final|do(Tratamiento))=P(Final|Enfermedad, Tratamiento, Reaccion)P(Reaccion|Tratamiento)P(Enfermedad)\n",
    "        #Treatment = 1 ó 0\n",
    "        #Quiero que me de la probabilidad de vivir=0 ó =1 dado treatment=0 ó =1\n",
    "        if (treatment==0):\n",
    "            res=self.beliefs['Final|Enfermedad, Tratamiento, Reaccion'][final][0]*self.beliefs['Reaccion|Tratamiento'][0][0]*self.beliefs['Enfermedad'][0] \\\n",
    "            +self.beliefs['Final|Enfermedad, Tratamiento, Reaccion'][final][1]*self.beliefs['Reaccion|Tratamiento'][1][0]*self.beliefs['Enfermedad'][0] \\\n",
    "            +self.beliefs['Final|Enfermedad, Tratamiento, Reaccion'][final][4]*self.beliefs['Reaccion|Tratamiento'][0][0]*self.beliefs['Enfermedad'][1] \\\n",
    "            +self.beliefs['Final|Enfermedad, Tratamiento, Reaccion'][final][5]*self.beliefs['Reaccion|Tratamiento'][1][0]*self.beliefs['Enfermedad'][1]\n",
    "        else:\n",
    "            res=self.beliefs['Final|Enfermedad, Tratamiento, Reaccion'][final][2]*self.beliefs['Reaccion|Tratamiento'][0][1]*self.beliefs['Enfermedad'][0] \\\n",
    "                +self.beliefs['Final|Enfermedad, Tratamiento, Reaccion'][final][3]*self.beliefs['Reaccion|Tratamiento'][1][1]*self.beliefs['Enfermedad'][0] \\\n",
    "                +self.beliefs['Final|Enfermedad, Tratamiento, Reaccion'][final][6]*self.beliefs['Reaccion|Tratamiento'][0][1]*self.beliefs['Enfermedad'][1] \\\n",
    "                +self.beliefs['Final|Enfermedad, Tratamiento, Reaccion'][final][7]*self.beliefs['Reaccion|Tratamiento'][1][1]*self.beliefs['Enfermedad'][1]\n",
    "        return(res)\n",
    "    \n",
    "    def make_decision(self,final=1):\n",
    "        f_0= self.do_calculus(final,0)\n",
    "        f_1=self.do_calculus(final,1)\n",
    "        if (f_0 > f_1):\n",
    "            return(0)\n",
    "        else:\n",
    "            return(1)\n",
    "        \n",
    "    def observing_external(self):\n",
    "        self.rounds=self.rounds+1\n",
    "        chosen_action=self.make_decision()\n",
    "        datos=self.simulator(chosen_action)\n",
    "        self.recompensa.append(datos['Final'])\n",
    "        return(datos)\n",
    "        \n",
    "    #def prob_data_given_beliefs(self,datos):\n",
    "        #Dados los beliefs, que son distribuciones, genero un modelo gráfico causal\n",
    "        #Este modelo gráfico causal da lugar a una distribución intervencional y puedo calcular\n",
    "        #la probabilidad de ver esa observación dadas las dirichlet\n",
    "        #result = [a * 8 for a in self.alpha]\n",
    "        \n",
    "        \n",
    "    def belief_updating(self):\n",
    "        datos=self.observing_external()\n",
    "        lista_datos=list(datos.values())\n",
    "        #self.alpha=list(map(add,self.alpha,self.conteo))\n",
    "        \n",
    "        #Conteo de enfermedad\n",
    "        if(lista_datos[0]==0):\n",
    "            self.conteo_enfermedad_A=self.conteo_enfermedad_A+1\n",
    "            self.alpha_enfermedad[0]=self.alpha_enfermedad[0]+self.conteo_enfermedad_A\n",
    "        else:\n",
    "            self.conteo_enfermedad_B=self.conteo_enfermedad_B+1\n",
    "            self.alpha_enfermedad[1]=self.alpha_enfermedad[0]+self.conteo_enfermedad_B\n",
    "        \n",
    "        #Conteo de tratamiento\n",
    "        if(lista_datos[1]==0):\n",
    "            self.conteo_tratamiento_f=self.conteo_tratamiento_f+1\n",
    "            self.alpha_tratamiento[0]=self.alpha_tratamiento[0]+self.conteo_tratamiento_f\n",
    "        else:\n",
    "            self.conteo_tratamiento_c=self.conteo_tratamiento_c+1\n",
    "            self.alpha_tratamiento[1]=self.alpha_tratamiento[0]+self.conteo_tratamiento_c\n",
    "        \n",
    "        #Conteo de reaccion dado tratamiento\n",
    "        if(lista_datos[1]==0 & lista_datos[2]==0):\n",
    "            self.conteo_reaccion_v_f=self.conteo_reaccion_v_f+1\n",
    "            self.alpha_reaccion_farmaco[0]=self.alpha_reaccion_farmaco[0]+self.conteo_reaccion_v_f\n",
    "        if(lista_datos[1]==0 & lista_datos[2]==1):\n",
    "            self.conteo_reaccion_m_f=self.conteo_reaccion_m_f+1\n",
    "            self.alpha_reaccion_farmaco[1]=self.alpha_reaccion_farmaco[1]+self.conteo_reaccion_m_f\n",
    "        \n",
    "        if(lista_datos[1]==1 & lista_datos[2]==0):\n",
    "            self.conteo_reaccion_v_c=self.conteo_reaccion_v_c+1\n",
    "            self.alpha_reaccion_cirugia[0]+self.conteo_reaccion_v_c\n",
    "        if(lista_datos[1]==0 & lista_datos[2]==1):\n",
    "            self.conteo_reaccion_m_c=self.conteo_reaccion_m_c+1\n",
    "            self.alpha_reaccion_cirugia[1]=self.alpha_reaccion_cirugia[1]+self.conteo_reaccion_m_c\n",
    "        \n",
    "        #Conteo de vivir dado enfermedad, tratamiento y reaccion\n",
    "        #Para vivir\n",
    "        if(lista_datos[0]==0 & lista_datos[1]==0 & lista_datos[2]==0 & lista_datos[3]==0):\n",
    "            self.conteo_v_A_f_v=self.conteo_v_A_f_v+1\n",
    "            self.alpha_A_f_v[0]=self.alpha_A_f_v[0]+self.conteo_v_A_f_v\n",
    "            \n",
    "        if(lista_datos[0]==0 & lista_datos[1]==0 & lista_datos[2]==1 & lista_datos[3]==0):\n",
    "            self.conteo_v_A_f_m=self.conteo_v_A_f_m+1\n",
    "            self.alpha_A_f_m[0]=self.alpha_A_f_m[0]+self.conteo_v_A_f_m\n",
    "            \n",
    "        if(lista_datos[0]==0 & lista_datos[1]==1 & lista_datos[2]==0 & lista_datos[3]==0):\n",
    "            self.conteo_v_A_c_v=self.conteo_v_A_c_v+1\n",
    "            self.alpha_A_c_v[0]=self.alpha_A_c_v[0]+self.conteo_v_A_c_v\n",
    "            \n",
    "        if(lista_datos[0]==0 & lista_datos[1]==1 & lista_datos[2]==1 & lista_datos[3]==0):\n",
    "            self.conteo_v_A_c_m=self.conteo_v_A_c_m+1\n",
    "            self.alpha_A_c_m[0]=self.alpha_A_c_m[0]+self.conteo_v_A_c_m\n",
    "        \n",
    "        if(lista_datos[0]==1 & lista_datos[1]==0 & lista_datos[2]==0 & lista_datos[3]==0):\n",
    "            self.conteo_v_B_f_v=self.conteo_v_B_f_v+1\n",
    "            self.alpha_B_f_v[0]=self.alpha_B_f_v[0]+self.conteo_v_B_f_v\n",
    "        \n",
    "        if(lista_datos[0]==1 & lista_datos[1]==0 & lista_datos[2]==1 & lista_datos[3]==0):\n",
    "            self.conteo_v_B_f_m=self.conteo_v_B_f_m+1\n",
    "            self.alpha_B_f_m[0]=self.alpha_B_f_m[0]+self.conteo_v_B_f_m\n",
    "            \n",
    "        if(lista_datos[0]==1 & lista_datos[1]==1 & lista_datos[2]==0 & lista_datos[3]==0):\n",
    "            self.conteo_v_B_c_v=self.conteo_v_B_c_v+1\n",
    "            self.alpha_B_c_v[0]=self.alpha_B_c_v[0]+self.conteo_v_B_c_v\n",
    "            \n",
    "        if(lista_datos[0]==1 & lista_datos[1]==1 & lista_datos[2]==1 & lista_datos[3]==0):\n",
    "            self.conteo_v_B_c_m=self.conteo_v_B_c_m+1\n",
    "            self.alpha_B_c_m[0]=self.alpha_B_c_m[0]+self.conteo_v_B_c_m\n",
    "        #Para morir\n",
    "        if(lista_datos[0]==0 & lista_datos[1]==0 & lista_datos[2]==0 & lista_datos[3]==1):\n",
    "            self.conteo_m_A_f_v=self.conteo_m_A_f_v+1\n",
    "            self.alpha_A_f_v[1]=self.alpha_A_f_v[1]+self.conteo_m_A_f_v\n",
    "            \n",
    "        if(lista_datos[0]==0 & lista_datos[1]==0 & lista_datos[2]==1 & lista_datos[3]==1):     \n",
    "            self.conteo_m_A_f_m=self.conteo_m_A_f_m+1\n",
    "            self.alpha_A_f_m[1]=self.alpha_A_f_m[1]+self.conteo_m_A_f_m\n",
    "            \n",
    "        if(lista_datos[0]==0 & lista_datos[1]==1 & lista_datos[2]==0 & lista_datos[3]==1):    \n",
    "            self.conteo_m_A_c_v=self.conteo_m_A_c_v+1\n",
    "            self.alpha_A_c_v[1]=self.alpha_A_c_v[1]+self.conteo_m_A_c_v\n",
    "            \n",
    "        if(lista_datos[0]==0 & lista_datos[1]==1 & lista_datos[2]==1 & lista_datos[3]==1):\n",
    "            self.conteo_m_A_c_m=self.conteo_m_A_c_m+1\n",
    "            self.alpha_A_c_m[1]=self.alpha_A_c_m[1]+self.conteo_m_A_c_m\n",
    "            \n",
    "        if(lista_datos[0]==1 & lista_datos[1]==0 & lista_datos[2]==0 & lista_datos[3]==1):\n",
    "            self.conteo_m_B_f_v=self.conteo_m_B_f_v+1\n",
    "            self.alpha_B_f_v[1]=self.alpha_B_f_v[1]+self.conteo_m_B_f_v\n",
    "            \n",
    "        if(lista_datos[0]==1 & lista_datos[1]==0 & lista_datos[2]==1 & lista_datos[3]==1):\n",
    "            self.conteo_m_B_f_m=self.conteo_m_B_f_m+1\n",
    "            self.alpha_B_f_m[1]=self.alpha_B_f_m[1]+self.conteo_m_B_f_m\n",
    "            \n",
    "        if(lista_datos[0]==1 & lista_datos[1]==1 & lista_datos[2]==0 & lista_datos[3]==1):\n",
    "            self.conteo_m_B_c_v=self.conteo_m_B_c_v+1\n",
    "            self.alpha_B_c_v[1]=self.alpha_B_c_v[1]+self.conteo_m_B_c_v\n",
    "            \n",
    "        if(lista_datos[0]==1 & lista_datos[1]==1 & lista_datos[2]==1 & lista_datos[3]==0):\n",
    "            self.conteo_m_B_c_m=self.conteo_m_B_c_m+1\n",
    "            self.alpha_B_c_m[1]=self.alpha_B_c_m[1]+self.conteo_m_B_c_m\n",
    "        \n",
    "        \n",
    "        self.beliefs=self.belief_formation()\n",
    "        \n",
    "    def get_reward(self):\n",
    "        return(self.recompensa)\n",
    "            \n",
    "    "
   ]
  },
  {
   "cell_type": "code",
   "execution_count": 23,
   "metadata": {},
   "outputs": [],
   "source": [
    "class random_agent:\n",
    "    def __init__(self,true_model,model_simulator, max_variables, max_valores):\n",
    "        self.recompensa=[0]\n",
    "        self.simulator=model_simulator.action_simulator\n",
    "    \n",
    "    def make_decision(self):\n",
    "        p=list(np.random.random_sample(1))\n",
    "        if (p[0] > 0.5):\n",
    "            return(0)\n",
    "        else:\n",
    "            return(1)\n",
    "        \n",
    "    def observing_external(self):\n",
    "        chosen_action=self.make_decision()\n",
    "        datos=self.simulator(chosen_action)\n",
    "        self.recompensa.append(datos['Final'])\n",
    "        return(datos)\n",
    "    \n",
    "    def get_reward(self):\n",
    "        return(self.recompensa)"
   ]
  },
  {
   "cell_type": "code",
   "execution_count": 24,
   "metadata": {},
   "outputs": [],
   "source": [
    "class Q_learning_agent:\n",
    "    def __init__(self, model_simulator, max_valores,epsilon):\n",
    "        self.epsilon = epsilon\n",
    "        self.simulator=model_simulator.action_simulator\n",
    "        self.K=max_valores\n",
    "        self.k = np.zeros(self.K, dtype=np.int)  # number of times action was chosen\n",
    "        self.Q = np.zeros(self.K, dtype=np.float)  # estimated value\n",
    "        self.reward_history = []\n",
    "\n",
    "    # Update Q action-value using:\n",
    "    # Q(a) <- Q(a) + 1/(k+1) * (r(a) - Q(a))\n",
    "    def update_Q(self, action, reward):\n",
    "        self.k[action] += 1  # update action counter k -> k+1\n",
    "        self.Q[action] += (1./self.k[action]) * (reward - self.Q[action])\n",
    "\n",
    "        # Choose action using an epsilon-greedy agent\n",
    "    def choose_action(self, force_explore=False):\n",
    "        rand = np.random.random()  # [0.0,1.0)\n",
    "        if (rand < self.epsilon) or force_explore:\n",
    "            action_explore = np.random.randint(self.K)  # explore random bandit\n",
    "            return action_explore\n",
    "        else:\n",
    "            #action_greedy = np.argmax(self.Q)  # exploit best current bandit\n",
    "            action_greedy = np.random.choice(np.flatnonzero(self.Q == self.Q.max()))\n",
    "            return action_greedy\n",
    "    \n",
    "    def observe_external(self):\n",
    "        chosen_action=self.choose_action()\n",
    "        datos=self.simulator(chosen_action)\n",
    "        reward=datos['Final']\n",
    "        self.update_Q(chosen_action,reward)\n",
    "        self.reward_history.append(reward)\n",
    "        \n",
    "    def get_reward(self):\n",
    "        return(self.reward_history)\n",
    "        "
   ]
  },
  {
   "cell_type": "markdown",
   "metadata": {},
   "source": [
    "### Uso"
   ]
  },
  {
   "cell_type": "code",
   "execution_count": 93,
   "metadata": {},
   "outputs": [],
   "source": [
    "modelo=true_causal_model(4,infer,sampling,model)"
   ]
  },
  {
   "cell_type": "code",
   "execution_count": 94,
   "metadata": {},
   "outputs": [],
   "source": [
    "agente_random=random_agent(model,modelo,4,2)"
   ]
  },
  {
   "cell_type": "code",
   "execution_count": 95,
   "metadata": {},
   "outputs": [],
   "source": [
    "agente=causal_agent(model,modelo,4,2)"
   ]
  },
  {
   "cell_type": "code",
   "execution_count": 96,
   "metadata": {
    "scrolled": true
   },
   "outputs": [
    {
     "name": "stdout",
     "output_type": "stream",
     "text": [
      "Creencias formadas\n"
     ]
    },
    {
     "data": {
      "text/plain": [
       "{'Enfermedad': [0.4287536146713265, 0.5712463853286734],\n",
       " 'Final|Enfermedad, Tratamiento, Reaccion': [[0.9984434981970788,\n",
       "   0.006932879026331323,\n",
       "   0.006932736341363188,\n",
       "   0.5827530877988727,\n",
       "   0.00021277096982100398,\n",
       "   0.7923572546586112,\n",
       "   0.99999999509071,\n",
       "   0.9003701615416853],\n",
       "  [0.0015565018029212836,\n",
       "   0.9930671209736687,\n",
       "   0.9930672636586368,\n",
       "   0.4172469122011273,\n",
       "   0.999787229030179,\n",
       "   0.20764274534138882,\n",
       "   4.909290029534121e-09,\n",
       "   0.09962983845831483]],\n",
       " 'Reaccion|Tratamiento': [[0.027326236176946718, 0.9990591527236359],\n",
       "  [0.9726737638230534, 0.0009408472763640255]],\n",
       " 'Tratamiento': [0.9678774316645173, 0.03212256833548255]}"
      ]
     },
     "execution_count": 96,
     "metadata": {},
     "output_type": "execute_result"
    }
   ],
   "source": [
    "agente.belief_formation()"
   ]
  },
  {
   "cell_type": "code",
   "execution_count": 97,
   "metadata": {},
   "outputs": [
    {
     "data": {
      "text/plain": [
       "{'Enfermedad': [0.4287536146713265, 0.5712463853286734],\n",
       " 'Final|Enfermedad, Tratamiento, Reaccion': [[0.9984434981970788,\n",
       "   0.006932879026331323,\n",
       "   0.006932736341363188,\n",
       "   0.5827530877988727,\n",
       "   0.00021277096982100398,\n",
       "   0.7923572546586112,\n",
       "   0.99999999509071,\n",
       "   0.9003701615416853],\n",
       "  [0.0015565018029212836,\n",
       "   0.9930671209736687,\n",
       "   0.9930672636586368,\n",
       "   0.4172469122011273,\n",
       "   0.999787229030179,\n",
       "   0.20764274534138882,\n",
       "   4.909290029534121e-09,\n",
       "   0.09962983845831483]],\n",
       " 'Reaccion|Tratamiento': [[0.027326236176946718, 0.9990591527236359],\n",
       "  [0.9726737638230534, 0.0009408472763640255]],\n",
       " 'Tratamiento': [0.9678774316645173, 0.03212256833548255]}"
      ]
     },
     "execution_count": 97,
     "metadata": {},
     "output_type": "execute_result"
    }
   ],
   "source": [
    "agente.print_beliefs()"
   ]
  },
  {
   "cell_type": "code",
   "execution_count": 98,
   "metadata": {},
   "outputs": [
    {
     "name": "stderr",
     "output_type": "stream",
     "text": [
      "WARNING:root:Replacing existing CPD for Enfermedad\n",
      "WARNING:root:Replacing existing CPD for Tratamiento\n",
      "WARNING:root:Replacing existing CPD for Reaccion\n",
      "WARNING:root:Replacing existing CPD for Final\n"
     ]
    },
    {
     "name": "stdout",
     "output_type": "stream",
     "text": [
      "Modelo Causal local creado\n"
     ]
    },
    {
     "data": {
      "text/plain": [
       "(<pgmpy.models.BayesianModel.BayesianModel at 0x115a51128>,\n",
       " <pgmpy.inference.ExactInference.VariableElimination at 0x1148d02b0>)"
      ]
     },
     "execution_count": 98,
     "metadata": {},
     "output_type": "execute_result"
    }
   ],
   "source": [
    "agente.fix_causal_model()"
   ]
  },
  {
   "cell_type": "code",
   "execution_count": 203,
   "metadata": {},
   "outputs": [
    {
     "name": "stdout",
     "output_type": "stream",
     "text": [
      "Creencias formadas\n"
     ]
    }
   ],
   "source": [
    "agente.belief_updating()"
   ]
  },
  {
   "cell_type": "code",
   "execution_count": 204,
   "metadata": {},
   "outputs": [
    {
     "name": "stderr",
     "output_type": "stream",
     "text": [
      "WARNING:root:Replacing existing CPD for Enfermedad\n",
      "WARNING:root:Replacing existing CPD for Tratamiento\n",
      "WARNING:root:Replacing existing CPD for Reaccion\n",
      "WARNING:root:Replacing existing CPD for Final\n"
     ]
    },
    {
     "name": "stdout",
     "output_type": "stream",
     "text": [
      "Modelo Causal local creado\n"
     ]
    },
    {
     "data": {
      "text/plain": [
       "(<pgmpy.models.BayesianModel.BayesianModel at 0x1159cdc88>,\n",
       " <pgmpy.inference.ExactInference.VariableElimination at 0x1148d02b0>)"
      ]
     },
     "execution_count": 204,
     "metadata": {},
     "output_type": "execute_result"
    }
   ],
   "source": [
    "agente.fix_causal_model()"
   ]
  },
  {
   "cell_type": "code",
   "execution_count": 205,
   "metadata": {},
   "outputs": [
    {
     "name": "stdout",
     "output_type": "stream",
     "text": [
      "╒══════════════╤══════════╕\n",
      "│ Enfermedad_0 │ 0.461424 │\n",
      "├──────────────┼──────────┤\n",
      "│ Enfermedad_1 │ 0.538576 │\n",
      "╘══════════════╧══════════╛\n"
     ]
    }
   ],
   "source": [
    "print(agente_causal.local_model.get_cpds('Enfermedad'))"
   ]
  },
  {
   "cell_type": "code",
   "execution_count": 115,
   "metadata": {},
   "outputs": [
    {
     "data": {
      "text/plain": [
       "[0, 0, 1, 1, 1, 1, 1]"
      ]
     },
     "execution_count": 115,
     "metadata": {},
     "output_type": "execute_result"
    }
   ],
   "source": [
    "agente.get_reward()"
   ]
  },
  {
   "cell_type": "markdown",
   "metadata": {},
   "source": [
    "## Experimentos numéricos"
   ]
  },
  {
   "cell_type": "markdown",
   "metadata": {},
   "source": [
    "### Causal agent"
   ]
  },
  {
   "cell_type": "code",
   "execution_count": 228,
   "metadata": {},
   "outputs": [
    {
     "name": "stderr",
     "output_type": "stream",
     "text": [
      "WARNING:root:Replacing existing CPD for Enfermedad\n",
      "WARNING:root:Replacing existing CPD for Tratamiento\n",
      "WARNING:root:Replacing existing CPD for Reaccion\n",
      "WARNING:root:Replacing existing CPD for Final\n",
      "WARNING:root:Replacing existing CPD for Enfermedad\n",
      "WARNING:root:Replacing existing CPD for Tratamiento\n",
      "WARNING:root:Replacing existing CPD for Reaccion\n",
      "WARNING:root:Replacing existing CPD for Final\n",
      "WARNING:root:Replacing existing CPD for Enfermedad\n",
      "WARNING:root:Replacing existing CPD for Tratamiento\n",
      "WARNING:root:Replacing existing CPD for Reaccion\n",
      "WARNING:root:Replacing existing CPD for Final\n",
      "WARNING:root:Replacing existing CPD for Enfermedad\n",
      "WARNING:root:Replacing existing CPD for Tratamiento\n",
      "WARNING:root:Replacing existing CPD for Reaccion\n",
      "WARNING:root:Replacing existing CPD for Final\n",
      "WARNING:root:Replacing existing CPD for Enfermedad\n",
      "WARNING:root:Replacing existing CPD for Tratamiento\n",
      "WARNING:root:Replacing existing CPD for Reaccion\n",
      "WARNING:root:Replacing existing CPD for Final\n"
     ]
    },
    {
     "name": "stdout",
     "output_type": "stream",
     "text": [
      "Creencias formadas\n",
      "Creencias formadas\n",
      "Modelo Causal local creado\n",
      "Creencias formadas\n",
      "Modelo Causal local creado\n",
      "Creencias formadas\n",
      "Modelo Causal local creado\n",
      "Creencias formadas\n",
      "Modelo Causal local creado\n",
      "Creencias formadas\n",
      "Modelo Causal local creado\n"
     ]
    },
    {
     "name": "stderr",
     "output_type": "stream",
     "text": [
      "WARNING:root:Replacing existing CPD for Enfermedad\n",
      "WARNING:root:Replacing existing CPD for Tratamiento\n",
      "WARNING:root:Replacing existing CPD for Reaccion\n",
      "WARNING:root:Replacing existing CPD for Final\n",
      "WARNING:root:Replacing existing CPD for Enfermedad\n",
      "WARNING:root:Replacing existing CPD for Tratamiento\n",
      "WARNING:root:Replacing existing CPD for Reaccion\n",
      "WARNING:root:Replacing existing CPD for Final\n",
      "WARNING:root:Replacing existing CPD for Enfermedad\n",
      "WARNING:root:Replacing existing CPD for Tratamiento\n",
      "WARNING:root:Replacing existing CPD for Reaccion\n",
      "WARNING:root:Replacing existing CPD for Final\n",
      "WARNING:root:Replacing existing CPD for Enfermedad\n",
      "WARNING:root:Replacing existing CPD for Tratamiento\n",
      "WARNING:root:Replacing existing CPD for Reaccion\n",
      "WARNING:root:Replacing existing CPD for Final\n",
      "WARNING:root:Replacing existing CPD for Enfermedad\n",
      "WARNING:root:Replacing existing CPD for Tratamiento\n",
      "WARNING:root:Replacing existing CPD for Reaccion\n",
      "WARNING:root:Replacing existing CPD for Final\n",
      "WARNING:root:Replacing existing CPD for Enfermedad\n",
      "WARNING:root:Replacing existing CPD for Tratamiento\n",
      "WARNING:root:Replacing existing CPD for Reaccion\n",
      "WARNING:root:Replacing existing CPD for Final\n",
      "WARNING:root:Replacing existing CPD for Enfermedad\n",
      "WARNING:root:Replacing existing CPD for Tratamiento\n",
      "WARNING:root:Replacing existing CPD for Reaccion\n",
      "WARNING:root:Replacing existing CPD for Final\n"
     ]
    },
    {
     "name": "stdout",
     "output_type": "stream",
     "text": [
      "Creencias formadas\n",
      "Modelo Causal local creado\n",
      "Creencias formadas\n",
      "Modelo Causal local creado\n",
      "Creencias formadas\n",
      "Modelo Causal local creado\n",
      "Creencias formadas\n",
      "Modelo Causal local creado\n",
      "Creencias formadas\n",
      "Modelo Causal local creado\n",
      "Creencias formadas\n",
      "Modelo Causal local creado\n",
      "Creencias formadas\n",
      "Modelo Causal local creado"
     ]
    },
    {
     "name": "stderr",
     "output_type": "stream",
     "text": [
      "WARNING:root:Replacing existing CPD for Enfermedad\n",
      "WARNING:root:Replacing existing CPD for Tratamiento\n",
      "WARNING:root:Replacing existing CPD for Reaccion\n",
      "WARNING:root:Replacing existing CPD for Final\n",
      "WARNING:root:Replacing existing CPD for Enfermedad\n",
      "WARNING:root:Replacing existing CPD for Tratamiento\n",
      "WARNING:root:Replacing existing CPD for Reaccion\n",
      "WARNING:root:Replacing existing CPD for Final\n",
      "WARNING:root:Replacing existing CPD for Enfermedad\n",
      "WARNING:root:Replacing existing CPD for Tratamiento\n",
      "WARNING:root:Replacing existing CPD for Reaccion\n",
      "WARNING:root:Replacing existing CPD for Final\n",
      "WARNING:root:Replacing existing CPD for Enfermedad\n",
      "WARNING:root:Replacing existing CPD for Tratamiento\n",
      "WARNING:root:Replacing existing CPD for Reaccion\n",
      "WARNING:root:Replacing existing CPD for Final\n",
      "WARNING:root:Replacing existing CPD for Enfermedad\n",
      "WARNING:root:Replacing existing CPD for Tratamiento\n",
      "WARNING:root:Replacing existing CPD for Reaccion\n",
      "WARNING:root:Replacing existing CPD for Final\n",
      "WARNING:root:Replacing existing CPD for Enfermedad\n",
      "WARNING:root:Replacing existing CPD for Tratamiento\n",
      "WARNING:root:Replacing existing CPD for Reaccion\n",
      "WARNING:root:Replacing existing CPD for Final\n",
      "WARNING:root:Replacing existing CPD for Enfermedad\n",
      "WARNING:root:Replacing existing CPD for Tratamiento\n",
      "WARNING:root:Replacing existing CPD for Reaccion\n",
      "WARNING:root:Replacing existing CPD for Final\n"
     ]
    },
    {
     "name": "stdout",
     "output_type": "stream",
     "text": [
      "\n",
      "Creencias formadas\n",
      "Modelo Causal local creado\n",
      "Creencias formadas\n",
      "Modelo Causal local creado\n",
      "Creencias formadas\n",
      "Modelo Causal local creado\n",
      "Creencias formadas\n",
      "Modelo Causal local creado\n",
      "Creencias formadas\n",
      "Modelo Causal local creado\n",
      "Creencias formadas\n",
      "Modelo Causal local creado\n",
      "Creencias formadas\n",
      "Modelo Causal local creado\n"
     ]
    },
    {
     "name": "stderr",
     "output_type": "stream",
     "text": [
      "WARNING:root:Replacing existing CPD for Enfermedad\n",
      "WARNING:root:Replacing existing CPD for Tratamiento\n",
      "WARNING:root:Replacing existing CPD for Reaccion\n",
      "WARNING:root:Replacing existing CPD for Final\n",
      "WARNING:root:Replacing existing CPD for Enfermedad\n",
      "WARNING:root:Replacing existing CPD for Tratamiento\n",
      "WARNING:root:Replacing existing CPD for Reaccion\n",
      "WARNING:root:Replacing existing CPD for Final\n",
      "WARNING:root:Replacing existing CPD for Enfermedad\n",
      "WARNING:root:Replacing existing CPD for Tratamiento\n",
      "WARNING:root:Replacing existing CPD for Reaccion\n",
      "WARNING:root:Replacing existing CPD for Final\n",
      "WARNING:root:Replacing existing CPD for Enfermedad\n",
      "WARNING:root:Replacing existing CPD for Tratamiento\n",
      "WARNING:root:Replacing existing CPD for Reaccion\n",
      "WARNING:root:Replacing existing CPD for Final\n",
      "WARNING:root:Replacing existing CPD for Enfermedad\n",
      "WARNING:root:Replacing existing CPD for Tratamiento\n",
      "WARNING:root:Replacing existing CPD for Reaccion\n",
      "WARNING:root:Replacing existing CPD for Final\n",
      "WARNING:root:Replacing existing CPD for Enfermedad\n",
      "WARNING:root:Replacing existing CPD for Tratamiento\n",
      "WARNING:root:Replacing existing CPD for Reaccion\n",
      "WARNING:root:Replacing existing CPD for Final\n",
      "WARNING:root:Replacing existing CPD for Enfermedad\n",
      "WARNING:root:Replacing existing CPD for Tratamiento\n",
      "WARNING:root:Replacing existing CPD for Reaccion\n",
      "WARNING:root:Replacing existing CPD for Final\n",
      "WARNING:root:Replacing existing CPD for Enfermedad\n"
     ]
    },
    {
     "name": "stdout",
     "output_type": "stream",
     "text": [
      "Creencias formadas\n",
      "Modelo Causal local creado\n",
      "Creencias formadas\n",
      "Modelo Causal local creado\n",
      "Creencias formadas\n",
      "Modelo Causal local creado\n",
      "Creencias formadas\n",
      "Modelo Causal local creado\n",
      "Creencias formadas\n",
      "Modelo Causal local creado\n",
      "Creencias formadas\n",
      "Modelo Causal local creado\n",
      "Creencias formadas\n",
      "Modelo Causal local creado\n",
      "Creencias formadas\n"
     ]
    },
    {
     "name": "stderr",
     "output_type": "stream",
     "text": [
      "WARNING:root:Replacing existing CPD for Tratamiento\n",
      "WARNING:root:Replacing existing CPD for Reaccion\n",
      "WARNING:root:Replacing existing CPD for Final\n",
      "WARNING:root:Replacing existing CPD for Enfermedad\n",
      "WARNING:root:Replacing existing CPD for Tratamiento\n",
      "WARNING:root:Replacing existing CPD for Reaccion\n",
      "WARNING:root:Replacing existing CPD for Final\n",
      "WARNING:root:Replacing existing CPD for Enfermedad\n",
      "WARNING:root:Replacing existing CPD for Tratamiento\n",
      "WARNING:root:Replacing existing CPD for Reaccion\n",
      "WARNING:root:Replacing existing CPD for Final\n",
      "WARNING:root:Replacing existing CPD for Enfermedad\n",
      "WARNING:root:Replacing existing CPD for Tratamiento\n",
      "WARNING:root:Replacing existing CPD for Reaccion\n",
      "WARNING:root:Replacing existing CPD for Final\n",
      "WARNING:root:Replacing existing CPD for Enfermedad\n",
      "WARNING:root:Replacing existing CPD for Tratamiento\n",
      "WARNING:root:Replacing existing CPD for Reaccion\n",
      "WARNING:root:Replacing existing CPD for Final\n",
      "WARNING:root:Replacing existing CPD for Enfermedad\n",
      "WARNING:root:Replacing existing CPD for Tratamiento\n",
      "WARNING:root:Replacing existing CPD for Reaccion\n",
      "WARNING:root:Replacing existing CPD for Final\n",
      "WARNING:root:Replacing existing CPD for Enfermedad\n",
      "WARNING:root:Replacing existing CPD for Tratamiento\n",
      "WARNING:root:Replacing existing CPD for Reaccion\n",
      "WARNING:root:Replacing existing CPD for Final\n",
      "WARNING:root:Replacing existing CPD for Enfermedad\n",
      "WARNING:root:Replacing existing CPD for Tratamiento\n",
      "WARNING:root:Replacing existing CPD for Reaccion\n",
      "WARNING:root:Replacing existing CPD for Final\n",
      "WARNING:root:Replacing existing CPD for Enfermedad\n"
     ]
    },
    {
     "name": "stdout",
     "output_type": "stream",
     "text": [
      "Modelo Causal local creado\n",
      "Creencias formadas\n",
      "Modelo Causal local creado\n",
      "Creencias formadas\n",
      "Modelo Causal local creado\n",
      "Creencias formadas\n",
      "Modelo Causal local creado\n",
      "Creencias formadas\n",
      "Modelo Causal local creado\n",
      "Creencias formadas\n",
      "Modelo Causal local creado\n",
      "Creencias formadas\n",
      "Modelo Causal local creado\n",
      "Creencias formadas\n",
      "Modelo Causal local creado\n",
      "Creencias formadas\n"
     ]
    },
    {
     "name": "stderr",
     "output_type": "stream",
     "text": [
      "WARNING:root:Replacing existing CPD for Tratamiento\n",
      "WARNING:root:Replacing existing CPD for Reaccion\n",
      "WARNING:root:Replacing existing CPD for Final\n",
      "WARNING:root:Replacing existing CPD for Enfermedad\n",
      "WARNING:root:Replacing existing CPD for Tratamiento\n",
      "WARNING:root:Replacing existing CPD for Reaccion\n",
      "WARNING:root:Replacing existing CPD for Final\n",
      "WARNING:root:Replacing existing CPD for Enfermedad\n",
      "WARNING:root:Replacing existing CPD for Tratamiento\n",
      "WARNING:root:Replacing existing CPD for Reaccion\n",
      "WARNING:root:Replacing existing CPD for Final\n",
      "WARNING:root:Replacing existing CPD for Enfermedad\n",
      "WARNING:root:Replacing existing CPD for Tratamiento\n",
      "WARNING:root:Replacing existing CPD for Reaccion\n",
      "WARNING:root:Replacing existing CPD for Final\n",
      "WARNING:root:Replacing existing CPD for Enfermedad\n",
      "WARNING:root:Replacing existing CPD for Tratamiento\n",
      "WARNING:root:Replacing existing CPD for Reaccion\n",
      "WARNING:root:Replacing existing CPD for Final\n",
      "WARNING:root:Replacing existing CPD for Enfermedad\n",
      "WARNING:root:Replacing existing CPD for Tratamiento\n",
      "WARNING:root:Replacing existing CPD for Reaccion\n",
      "WARNING:root:Replacing existing CPD for Final\n",
      "WARNING:root:Replacing existing CPD for Enfermedad\n",
      "WARNING:root:Replacing existing CPD for Tratamiento\n",
      "WARNING:root:Replacing existing CPD for Reaccion\n",
      "WARNING:root:Replacing existing CPD for Final\n",
      "WARNING:root:Replacing existing CPD for Enfermedad\n",
      "WARNING:root:Replacing existing CPD for Tratamiento\n"
     ]
    },
    {
     "name": "stdout",
     "output_type": "stream",
     "text": [
      "Modelo Causal local creado\n",
      "Creencias formadas\n",
      "Modelo Causal local creado\n",
      "Creencias formadas\n",
      "Modelo Causal local creado\n",
      "Creencias formadas\n",
      "Modelo Causal local creado\n",
      "Creencias formadas\n",
      "Modelo Causal local creado\n",
      "Creencias formadas\n",
      "Modelo Causal local creado\n",
      "Creencias formadas\n",
      "Modelo Causal local creado\n",
      "Creencias formadas\n"
     ]
    },
    {
     "name": "stderr",
     "output_type": "stream",
     "text": [
      "WARNING:root:Replacing existing CPD for Reaccion\n",
      "WARNING:root:Replacing existing CPD for Final\n",
      "WARNING:root:Replacing existing CPD for Enfermedad\n",
      "WARNING:root:Replacing existing CPD for Tratamiento\n",
      "WARNING:root:Replacing existing CPD for Reaccion\n",
      "WARNING:root:Replacing existing CPD for Final\n",
      "WARNING:root:Replacing existing CPD for Enfermedad\n",
      "WARNING:root:Replacing existing CPD for Tratamiento\n",
      "WARNING:root:Replacing existing CPD for Reaccion\n",
      "WARNING:root:Replacing existing CPD for Final\n",
      "WARNING:root:Replacing existing CPD for Enfermedad\n",
      "WARNING:root:Replacing existing CPD for Tratamiento\n",
      "WARNING:root:Replacing existing CPD for Reaccion\n",
      "WARNING:root:Replacing existing CPD for Final\n",
      "WARNING:root:Replacing existing CPD for Enfermedad\n",
      "WARNING:root:Replacing existing CPD for Tratamiento\n",
      "WARNING:root:Replacing existing CPD for Reaccion\n",
      "WARNING:root:Replacing existing CPD for Final\n",
      "WARNING:root:Replacing existing CPD for Enfermedad\n",
      "WARNING:root:Replacing existing CPD for Tratamiento\n",
      "WARNING:root:Replacing existing CPD for Reaccion\n",
      "WARNING:root:Replacing existing CPD for Final\n",
      "WARNING:root:Replacing existing CPD for Enfermedad\n",
      "WARNING:root:Replacing existing CPD for Tratamiento\n",
      "WARNING:root:Replacing existing CPD for Reaccion\n",
      "WARNING:root:Replacing existing CPD for Final\n"
     ]
    },
    {
     "name": "stdout",
     "output_type": "stream",
     "text": [
      "Modelo Causal local creado\n",
      "Creencias formadas\n",
      "Modelo Causal local creado\n",
      "Creencias formadas\n",
      "Modelo Causal local creado\n",
      "Creencias formadas\n",
      "Modelo Causal local creado\n",
      "Creencias formadas\n",
      "Modelo Causal local creado\n",
      "Creencias formadas\n",
      "Modelo Causal local creado\n",
      "Creencias formadas\n",
      "Modelo Causal local creado"
     ]
    },
    {
     "name": "stderr",
     "output_type": "stream",
     "text": [
      "WARNING:root:Replacing existing CPD for Enfermedad\n",
      "WARNING:root:Replacing existing CPD for Tratamiento\n",
      "WARNING:root:Replacing existing CPD for Reaccion\n",
      "WARNING:root:Replacing existing CPD for Final\n",
      "WARNING:root:Replacing existing CPD for Enfermedad\n",
      "WARNING:root:Replacing existing CPD for Tratamiento\n",
      "WARNING:root:Replacing existing CPD for Reaccion\n",
      "WARNING:root:Replacing existing CPD for Final\n",
      "WARNING:root:Replacing existing CPD for Enfermedad\n",
      "WARNING:root:Replacing existing CPD for Tratamiento\n",
      "WARNING:root:Replacing existing CPD for Reaccion\n",
      "WARNING:root:Replacing existing CPD for Final\n",
      "WARNING:root:Replacing existing CPD for Enfermedad\n",
      "WARNING:root:Replacing existing CPD for Tratamiento\n",
      "WARNING:root:Replacing existing CPD for Reaccion\n",
      "WARNING:root:Replacing existing CPD for Final\n",
      "WARNING:root:Replacing existing CPD for Enfermedad\n",
      "WARNING:root:Replacing existing CPD for Tratamiento\n",
      "WARNING:root:Replacing existing CPD for Reaccion\n",
      "WARNING:root:Replacing existing CPD for Final\n",
      "WARNING:root:Replacing existing CPD for Enfermedad\n",
      "WARNING:root:Replacing existing CPD for Tratamiento\n",
      "WARNING:root:Replacing existing CPD for Reaccion\n",
      "WARNING:root:Replacing existing CPD for Final\n",
      "WARNING:root:Replacing existing CPD for Enfermedad\n",
      "WARNING:root:Replacing existing CPD for Tratamiento\n",
      "WARNING:root:Replacing existing CPD for Reaccion\n",
      "WARNING:root:Replacing existing CPD for Final\n",
      "WARNING:root:Replacing existing CPD for Enfermedad\n",
      "WARNING:root:Replacing existing CPD for Tratamiento\n",
      "WARNING:root:Replacing existing CPD for Reaccion\n",
      "WARNING:root:Replacing existing CPD for Final\n",
      "WARNING:root:Replacing existing CPD for Enfermedad\n"
     ]
    },
    {
     "name": "stdout",
     "output_type": "stream",
     "text": [
      "\n",
      "Creencias formadas\n",
      "Modelo Causal local creado\n",
      "Creencias formadas\n",
      "Modelo Causal local creado\n",
      "Creencias formadas\n",
      "Modelo Causal local creado\n",
      "Creencias formadas\n",
      "Modelo Causal local creado\n",
      "Creencias formadas\n",
      "Modelo Causal local creado\n",
      "Creencias formadas\n",
      "Modelo Causal local creado\n",
      "Creencias formadas\n",
      "Modelo Causal local creado\n",
      "Creencias formadas\n",
      "Modelo Causal local creado\n",
      "Creencias formadas\n"
     ]
    },
    {
     "name": "stderr",
     "output_type": "stream",
     "text": [
      "WARNING:root:Replacing existing CPD for Tratamiento\n",
      "WARNING:root:Replacing existing CPD for Reaccion\n",
      "WARNING:root:Replacing existing CPD for Final\n",
      "WARNING:root:Replacing existing CPD for Enfermedad\n",
      "WARNING:root:Replacing existing CPD for Tratamiento\n",
      "WARNING:root:Replacing existing CPD for Reaccion\n",
      "WARNING:root:Replacing existing CPD for Final\n",
      "WARNING:root:Replacing existing CPD for Enfermedad\n",
      "WARNING:root:Replacing existing CPD for Tratamiento\n",
      "WARNING:root:Replacing existing CPD for Reaccion\n",
      "WARNING:root:Replacing existing CPD for Final\n",
      "WARNING:root:Replacing existing CPD for Enfermedad\n",
      "WARNING:root:Replacing existing CPD for Tratamiento\n",
      "WARNING:root:Replacing existing CPD for Reaccion\n",
      "WARNING:root:Replacing existing CPD for Final\n",
      "WARNING:root:Replacing existing CPD for Enfermedad\n",
      "WARNING:root:Replacing existing CPD for Tratamiento\n",
      "WARNING:root:Replacing existing CPD for Reaccion\n",
      "WARNING:root:Replacing existing CPD for Final\n",
      "WARNING:root:Replacing existing CPD for Enfermedad\n",
      "WARNING:root:Replacing existing CPD for Tratamiento\n",
      "WARNING:root:Replacing existing CPD for Reaccion\n",
      "WARNING:root:Replacing existing CPD for Final\n",
      "WARNING:root:Replacing existing CPD for Enfermedad\n",
      "WARNING:root:Replacing existing CPD for Tratamiento\n",
      "WARNING:root:Replacing existing CPD for Reaccion\n",
      "WARNING:root:Replacing existing CPD for Final\n",
      "WARNING:root:Replacing existing CPD for Enfermedad\n",
      "WARNING:root:Replacing existing CPD for Tratamiento\n",
      "WARNING:root:Replacing existing CPD for Reaccion\n",
      "WARNING:root:Replacing existing CPD for Final\n"
     ]
    },
    {
     "name": "stdout",
     "output_type": "stream",
     "text": [
      "Modelo Causal local creado\n",
      "Creencias formadas\n",
      "Modelo Causal local creado\n",
      "Creencias formadas\n",
      "Modelo Causal local creado\n",
      "Creencias formadas\n",
      "Modelo Causal local creado\n",
      "Creencias formadas\n",
      "Modelo Causal local creado\n",
      "Creencias formadas\n",
      "Modelo Causal local creado\n",
      "Creencias formadas\n",
      "Modelo Causal local creado\n",
      "Creencias formadas\n",
      "Modelo Causal local creado\n"
     ]
    },
    {
     "name": "stderr",
     "output_type": "stream",
     "text": [
      "WARNING:root:Replacing existing CPD for Enfermedad\n",
      "WARNING:root:Replacing existing CPD for Tratamiento\n",
      "WARNING:root:Replacing existing CPD for Reaccion\n",
      "WARNING:root:Replacing existing CPD for Final\n",
      "WARNING:root:Replacing existing CPD for Enfermedad\n",
      "WARNING:root:Replacing existing CPD for Tratamiento\n",
      "WARNING:root:Replacing existing CPD for Reaccion\n",
      "WARNING:root:Replacing existing CPD for Final\n",
      "WARNING:root:Replacing existing CPD for Enfermedad\n",
      "WARNING:root:Replacing existing CPD for Tratamiento\n",
      "WARNING:root:Replacing existing CPD for Reaccion\n",
      "WARNING:root:Replacing existing CPD for Final\n",
      "WARNING:root:Replacing existing CPD for Enfermedad\n",
      "WARNING:root:Replacing existing CPD for Tratamiento\n",
      "WARNING:root:Replacing existing CPD for Reaccion\n",
      "WARNING:root:Replacing existing CPD for Final\n",
      "WARNING:root:Replacing existing CPD for Enfermedad\n",
      "WARNING:root:Replacing existing CPD for Tratamiento\n",
      "WARNING:root:Replacing existing CPD for Reaccion\n",
      "WARNING:root:Replacing existing CPD for Final\n",
      "WARNING:root:Replacing existing CPD for Enfermedad\n",
      "WARNING:root:Replacing existing CPD for Tratamiento\n",
      "WARNING:root:Replacing existing CPD for Reaccion\n",
      "WARNING:root:Replacing existing CPD for Final\n",
      "WARNING:root:Replacing existing CPD for Enfermedad\n",
      "WARNING:root:Replacing existing CPD for Tratamiento\n",
      "WARNING:root:Replacing existing CPD for Reaccion\n",
      "WARNING:root:Replacing existing CPD for Final\n",
      "WARNING:root:Replacing existing CPD for Enfermedad\n"
     ]
    },
    {
     "name": "stdout",
     "output_type": "stream",
     "text": [
      "Creencias formadas\n",
      "Modelo Causal local creado\n",
      "Creencias formadas\n",
      "Modelo Causal local creado\n",
      "Creencias formadas\n",
      "Modelo Causal local creado\n",
      "Creencias formadas\n",
      "Modelo Causal local creado\n",
      "Creencias formadas\n",
      "Modelo Causal local creado\n",
      "Creencias formadas\n",
      "Modelo Causal local creado\n",
      "Creencias formadas\n",
      "Modelo Causal local creado\n",
      "Creencias formadas\n"
     ]
    },
    {
     "name": "stderr",
     "output_type": "stream",
     "text": [
      "WARNING:root:Replacing existing CPD for Tratamiento\n",
      "WARNING:root:Replacing existing CPD for Reaccion\n",
      "WARNING:root:Replacing existing CPD for Final\n",
      "WARNING:root:Replacing existing CPD for Enfermedad\n",
      "WARNING:root:Replacing existing CPD for Tratamiento\n",
      "WARNING:root:Replacing existing CPD for Reaccion\n",
      "WARNING:root:Replacing existing CPD for Final\n",
      "WARNING:root:Replacing existing CPD for Enfermedad\n",
      "WARNING:root:Replacing existing CPD for Tratamiento\n",
      "WARNING:root:Replacing existing CPD for Reaccion\n",
      "WARNING:root:Replacing existing CPD for Final\n",
      "WARNING:root:Replacing existing CPD for Enfermedad\n",
      "WARNING:root:Replacing existing CPD for Tratamiento\n",
      "WARNING:root:Replacing existing CPD for Reaccion\n",
      "WARNING:root:Replacing existing CPD for Final\n",
      "WARNING:root:Replacing existing CPD for Enfermedad\n",
      "WARNING:root:Replacing existing CPD for Tratamiento\n",
      "WARNING:root:Replacing existing CPD for Reaccion\n",
      "WARNING:root:Replacing existing CPD for Final\n",
      "WARNING:root:Replacing existing CPD for Enfermedad\n",
      "WARNING:root:Replacing existing CPD for Tratamiento\n",
      "WARNING:root:Replacing existing CPD for Reaccion\n",
      "WARNING:root:Replacing existing CPD for Final\n",
      "WARNING:root:Replacing existing CPD for Enfermedad\n",
      "WARNING:root:Replacing existing CPD for Tratamiento\n",
      "WARNING:root:Replacing existing CPD for Reaccion\n",
      "WARNING:root:Replacing existing CPD for Final\n",
      "WARNING:root:Replacing existing CPD for Enfermedad\n",
      "WARNING:root:Replacing existing CPD for Tratamiento\n",
      "WARNING:root:Replacing existing CPD for Reaccion\n",
      "WARNING:root:Replacing existing CPD for Final\n"
     ]
    },
    {
     "name": "stdout",
     "output_type": "stream",
     "text": [
      "Modelo Causal local creado\n",
      "Creencias formadas\n",
      "Modelo Causal local creado\n",
      "Creencias formadas\n",
      "Modelo Causal local creado\n",
      "Creencias formadas\n",
      "Modelo Causal local creado\n",
      "Creencias formadas\n",
      "Modelo Causal local creado\n",
      "Creencias formadas\n",
      "Modelo Causal local creado\n",
      "Creencias formadas\n",
      "Modelo Causal local creado\n",
      "Creencias formadas\n",
      "Modelo Causal local creado\n"
     ]
    },
    {
     "name": "stderr",
     "output_type": "stream",
     "text": [
      "WARNING:root:Replacing existing CPD for Enfermedad\n",
      "WARNING:root:Replacing existing CPD for Tratamiento\n",
      "WARNING:root:Replacing existing CPD for Reaccion\n",
      "WARNING:root:Replacing existing CPD for Final\n",
      "WARNING:root:Replacing existing CPD for Enfermedad\n",
      "WARNING:root:Replacing existing CPD for Tratamiento\n",
      "WARNING:root:Replacing existing CPD for Reaccion\n",
      "WARNING:root:Replacing existing CPD for Final\n",
      "WARNING:root:Replacing existing CPD for Enfermedad\n",
      "WARNING:root:Replacing existing CPD for Tratamiento\n",
      "WARNING:root:Replacing existing CPD for Reaccion\n",
      "WARNING:root:Replacing existing CPD for Final\n",
      "WARNING:root:Replacing existing CPD for Enfermedad\n",
      "WARNING:root:Replacing existing CPD for Tratamiento\n",
      "WARNING:root:Replacing existing CPD for Reaccion\n",
      "WARNING:root:Replacing existing CPD for Final\n",
      "WARNING:root:Replacing existing CPD for Enfermedad\n",
      "WARNING:root:Replacing existing CPD for Tratamiento\n",
      "WARNING:root:Replacing existing CPD for Reaccion\n",
      "WARNING:root:Replacing existing CPD for Final\n",
      "WARNING:root:Replacing existing CPD for Enfermedad\n",
      "WARNING:root:Replacing existing CPD for Tratamiento\n",
      "WARNING:root:Replacing existing CPD for Reaccion\n",
      "WARNING:root:Replacing existing CPD for Final\n",
      "WARNING:root:Replacing existing CPD for Enfermedad\n",
      "WARNING:root:Replacing existing CPD for Tratamiento\n",
      "WARNING:root:Replacing existing CPD for Reaccion\n",
      "WARNING:root:Replacing existing CPD for Final\n"
     ]
    },
    {
     "name": "stdout",
     "output_type": "stream",
     "text": [
      "Creencias formadas\n",
      "Modelo Causal local creado\n",
      "Creencias formadas\n",
      "Modelo Causal local creado\n",
      "Creencias formadas\n",
      "Modelo Causal local creado\n",
      "Creencias formadas\n",
      "Modelo Causal local creado\n",
      "Creencias formadas\n",
      "Modelo Causal local creado\n",
      "Creencias formadas\n",
      "Modelo Causal local creado\n",
      "Creencias formadas\n",
      "Modelo Causal local creado"
     ]
    },
    {
     "name": "stderr",
     "output_type": "stream",
     "text": [
      "WARNING:root:Replacing existing CPD for Enfermedad\n",
      "WARNING:root:Replacing existing CPD for Tratamiento\n",
      "WARNING:root:Replacing existing CPD for Reaccion\n",
      "WARNING:root:Replacing existing CPD for Final\n",
      "WARNING:root:Replacing existing CPD for Enfermedad\n",
      "WARNING:root:Replacing existing CPD for Tratamiento\n",
      "WARNING:root:Replacing existing CPD for Reaccion\n",
      "WARNING:root:Replacing existing CPD for Final\n",
      "WARNING:root:Replacing existing CPD for Enfermedad\n",
      "WARNING:root:Replacing existing CPD for Tratamiento\n",
      "WARNING:root:Replacing existing CPD for Reaccion\n",
      "WARNING:root:Replacing existing CPD for Final\n",
      "WARNING:root:Replacing existing CPD for Enfermedad\n",
      "WARNING:root:Replacing existing CPD for Tratamiento\n",
      "WARNING:root:Replacing existing CPD for Reaccion\n",
      "WARNING:root:Replacing existing CPD for Final\n",
      "WARNING:root:Replacing existing CPD for Enfermedad\n",
      "WARNING:root:Replacing existing CPD for Tratamiento\n",
      "WARNING:root:Replacing existing CPD for Reaccion\n",
      "WARNING:root:Replacing existing CPD for Final\n",
      "WARNING:root:Replacing existing CPD for Enfermedad\n",
      "WARNING:root:Replacing existing CPD for Tratamiento\n",
      "WARNING:root:Replacing existing CPD for Reaccion\n",
      "WARNING:root:Replacing existing CPD for Final\n",
      "WARNING:root:Replacing existing CPD for Enfermedad\n",
      "WARNING:root:Replacing existing CPD for Tratamiento\n",
      "WARNING:root:Replacing existing CPD for Reaccion\n",
      "WARNING:root:Replacing existing CPD for Final\n"
     ]
    },
    {
     "name": "stdout",
     "output_type": "stream",
     "text": [
      "\n",
      "Creencias formadas\n",
      "Modelo Causal local creado\n",
      "Creencias formadas\n",
      "Modelo Causal local creado\n",
      "Creencias formadas\n",
      "Modelo Causal local creado\n",
      "Creencias formadas\n",
      "Modelo Causal local creado\n",
      "Creencias formadas\n",
      "Modelo Causal local creado\n",
      "Creencias formadas\n",
      "Modelo Causal local creado\n",
      "Creencias formadas\n",
      "Modelo Causal local creado\n",
      "Creencias formadas\n"
     ]
    },
    {
     "name": "stderr",
     "output_type": "stream",
     "text": [
      "WARNING:root:Replacing existing CPD for Enfermedad\n",
      "WARNING:root:Replacing existing CPD for Tratamiento\n",
      "WARNING:root:Replacing existing CPD for Reaccion\n",
      "WARNING:root:Replacing existing CPD for Final\n",
      "WARNING:root:Replacing existing CPD for Enfermedad\n",
      "WARNING:root:Replacing existing CPD for Tratamiento\n",
      "WARNING:root:Replacing existing CPD for Reaccion\n",
      "WARNING:root:Replacing existing CPD for Final\n",
      "WARNING:root:Replacing existing CPD for Enfermedad\n",
      "WARNING:root:Replacing existing CPD for Tratamiento\n",
      "WARNING:root:Replacing existing CPD for Reaccion\n",
      "WARNING:root:Replacing existing CPD for Final\n",
      "WARNING:root:Replacing existing CPD for Enfermedad\n",
      "WARNING:root:Replacing existing CPD for Tratamiento\n",
      "WARNING:root:Replacing existing CPD for Reaccion\n",
      "WARNING:root:Replacing existing CPD for Final\n",
      "WARNING:root:Replacing existing CPD for Enfermedad\n",
      "WARNING:root:Replacing existing CPD for Tratamiento\n",
      "WARNING:root:Replacing existing CPD for Reaccion\n",
      "WARNING:root:Replacing existing CPD for Final\n",
      "WARNING:root:Replacing existing CPD for Enfermedad\n",
      "WARNING:root:Replacing existing CPD for Tratamiento\n",
      "WARNING:root:Replacing existing CPD for Reaccion\n",
      "WARNING:root:Replacing existing CPD for Final\n",
      "WARNING:root:Replacing existing CPD for Enfermedad\n",
      "WARNING:root:Replacing existing CPD for Tratamiento\n",
      "WARNING:root:Replacing existing CPD for Reaccion\n",
      "WARNING:root:Replacing existing CPD for Final\n",
      "WARNING:root:Replacing existing CPD for Enfermedad\n",
      "WARNING:root:Replacing existing CPD for Tratamiento\n",
      "WARNING:root:Replacing existing CPD for Reaccion\n",
      "WARNING:root:Replacing existing CPD for Final\n"
     ]
    },
    {
     "name": "stdout",
     "output_type": "stream",
     "text": [
      "Modelo Causal local creado\n",
      "Creencias formadas\n",
      "Modelo Causal local creado\n",
      "Creencias formadas\n",
      "Modelo Causal local creado\n",
      "Creencias formadas\n",
      "Modelo Causal local creado\n",
      "Creencias formadas\n",
      "Modelo Causal local creado\n",
      "Creencias formadas\n",
      "Modelo Causal local creado\n",
      "Creencias formadas\n",
      "Modelo Causal local creado\n",
      "Creencias formadas\n",
      "Modelo Causal local creado"
     ]
    },
    {
     "name": "stderr",
     "output_type": "stream",
     "text": [
      "WARNING:root:Replacing existing CPD for Enfermedad\n",
      "WARNING:root:Replacing existing CPD for Tratamiento\n",
      "WARNING:root:Replacing existing CPD for Reaccion\n",
      "WARNING:root:Replacing existing CPD for Final\n",
      "WARNING:root:Replacing existing CPD for Enfermedad\n",
      "WARNING:root:Replacing existing CPD for Tratamiento\n",
      "WARNING:root:Replacing existing CPD for Reaccion\n",
      "WARNING:root:Replacing existing CPD for Final\n",
      "WARNING:root:Replacing existing CPD for Enfermedad\n",
      "WARNING:root:Replacing existing CPD for Tratamiento\n",
      "WARNING:root:Replacing existing CPD for Reaccion\n",
      "WARNING:root:Replacing existing CPD for Final\n",
      "WARNING:root:Replacing existing CPD for Enfermedad\n",
      "WARNING:root:Replacing existing CPD for Tratamiento\n",
      "WARNING:root:Replacing existing CPD for Reaccion\n",
      "WARNING:root:Replacing existing CPD for Final\n",
      "WARNING:root:Replacing existing CPD for Enfermedad\n",
      "WARNING:root:Replacing existing CPD for Tratamiento\n",
      "WARNING:root:Replacing existing CPD for Reaccion\n",
      "WARNING:root:Replacing existing CPD for Final\n",
      "WARNING:root:Replacing existing CPD for Enfermedad\n",
      "WARNING:root:Replacing existing CPD for Tratamiento\n",
      "WARNING:root:Replacing existing CPD for Reaccion\n",
      "WARNING:root:Replacing existing CPD for Final\n",
      "WARNING:root:Replacing existing CPD for Enfermedad\n",
      "WARNING:root:Replacing existing CPD for Tratamiento\n",
      "WARNING:root:Replacing existing CPD for Reaccion\n",
      "WARNING:root:Replacing existing CPD for Final\n",
      "WARNING:root:Replacing existing CPD for Enfermedad\n",
      "WARNING:root:Replacing existing CPD for Tratamiento\n",
      "WARNING:root:Replacing existing CPD for Reaccion\n",
      "WARNING:root:Replacing existing CPD for Final\n",
      "WARNING:root:Replacing existing CPD for Enfermedad\n"
     ]
    },
    {
     "name": "stdout",
     "output_type": "stream",
     "text": [
      "\n",
      "Creencias formadas\n",
      "Modelo Causal local creado\n",
      "Creencias formadas\n",
      "Modelo Causal local creado\n",
      "Creencias formadas\n",
      "Modelo Causal local creado\n",
      "Creencias formadas\n",
      "Modelo Causal local creado\n",
      "Creencias formadas\n",
      "Modelo Causal local creado\n",
      "Creencias formadas\n",
      "Modelo Causal local creado\n",
      "Creencias formadas\n",
      "Modelo Causal local creado\n",
      "Creencias formadas\n",
      "Modelo Causal local creado\n",
      "Creencias formadas\n"
     ]
    },
    {
     "name": "stderr",
     "output_type": "stream",
     "text": [
      "WARNING:root:Replacing existing CPD for Tratamiento\n",
      "WARNING:root:Replacing existing CPD for Reaccion\n",
      "WARNING:root:Replacing existing CPD for Final\n",
      "WARNING:root:Replacing existing CPD for Enfermedad\n",
      "WARNING:root:Replacing existing CPD for Tratamiento\n",
      "WARNING:root:Replacing existing CPD for Reaccion\n",
      "WARNING:root:Replacing existing CPD for Final\n",
      "WARNING:root:Replacing existing CPD for Enfermedad\n",
      "WARNING:root:Replacing existing CPD for Tratamiento\n",
      "WARNING:root:Replacing existing CPD for Reaccion\n",
      "WARNING:root:Replacing existing CPD for Final\n",
      "WARNING:root:Replacing existing CPD for Enfermedad\n",
      "WARNING:root:Replacing existing CPD for Tratamiento\n",
      "WARNING:root:Replacing existing CPD for Reaccion\n",
      "WARNING:root:Replacing existing CPD for Final\n",
      "WARNING:root:Replacing existing CPD for Enfermedad\n",
      "WARNING:root:Replacing existing CPD for Tratamiento\n",
      "WARNING:root:Replacing existing CPD for Reaccion\n",
      "WARNING:root:Replacing existing CPD for Final\n",
      "WARNING:root:Replacing existing CPD for Enfermedad\n",
      "WARNING:root:Replacing existing CPD for Tratamiento\n",
      "WARNING:root:Replacing existing CPD for Reaccion\n",
      "WARNING:root:Replacing existing CPD for Final\n",
      "WARNING:root:Replacing existing CPD for Enfermedad\n",
      "WARNING:root:Replacing existing CPD for Tratamiento\n",
      "WARNING:root:Replacing existing CPD for Reaccion\n",
      "WARNING:root:Replacing existing CPD for Final\n"
     ]
    },
    {
     "name": "stdout",
     "output_type": "stream",
     "text": [
      "Modelo Causal local creado\n",
      "Creencias formadas\n",
      "Modelo Causal local creado\n",
      "Creencias formadas\n",
      "Modelo Causal local creado\n",
      "Creencias formadas\n",
      "Modelo Causal local creado\n",
      "Creencias formadas\n",
      "Modelo Causal local creado\n",
      "Creencias formadas\n",
      "Modelo Causal local creado\n",
      "Creencias formadas\n",
      "Modelo Causal local creado\n"
     ]
    },
    {
     "name": "stderr",
     "output_type": "stream",
     "text": [
      "WARNING:root:Replacing existing CPD for Enfermedad\n",
      "WARNING:root:Replacing existing CPD for Tratamiento\n",
      "WARNING:root:Replacing existing CPD for Reaccion\n",
      "WARNING:root:Replacing existing CPD for Final\n",
      "WARNING:root:Replacing existing CPD for Enfermedad\n",
      "WARNING:root:Replacing existing CPD for Tratamiento\n",
      "WARNING:root:Replacing existing CPD for Reaccion\n",
      "WARNING:root:Replacing existing CPD for Final\n",
      "WARNING:root:Replacing existing CPD for Enfermedad\n",
      "WARNING:root:Replacing existing CPD for Tratamiento\n",
      "WARNING:root:Replacing existing CPD for Reaccion\n",
      "WARNING:root:Replacing existing CPD for Final\n",
      "WARNING:root:Replacing existing CPD for Enfermedad\n",
      "WARNING:root:Replacing existing CPD for Tratamiento\n",
      "WARNING:root:Replacing existing CPD for Reaccion\n",
      "WARNING:root:Replacing existing CPD for Final\n",
      "WARNING:root:Replacing existing CPD for Enfermedad\n",
      "WARNING:root:Replacing existing CPD for Tratamiento\n",
      "WARNING:root:Replacing existing CPD for Reaccion\n",
      "WARNING:root:Replacing existing CPD for Final\n",
      "WARNING:root:Replacing existing CPD for Enfermedad\n",
      "WARNING:root:Replacing existing CPD for Tratamiento\n",
      "WARNING:root:Replacing existing CPD for Reaccion\n",
      "WARNING:root:Replacing existing CPD for Final\n",
      "WARNING:root:Replacing existing CPD for Enfermedad\n",
      "WARNING:root:Replacing existing CPD for Tratamiento\n",
      "WARNING:root:Replacing existing CPD for Reaccion\n",
      "WARNING:root:Replacing existing CPD for Final\n"
     ]
    },
    {
     "name": "stdout",
     "output_type": "stream",
     "text": [
      "Creencias formadas\n",
      "Modelo Causal local creado\n",
      "Creencias formadas\n",
      "Modelo Causal local creado\n",
      "Creencias formadas\n",
      "Modelo Causal local creado\n",
      "Creencias formadas\n",
      "Modelo Causal local creado\n",
      "Creencias formadas\n",
      "Modelo Causal local creado\n",
      "Creencias formadas\n",
      "Modelo Causal local creado\n",
      "Creencias formadas\n",
      "Modelo Causal local creado\n"
     ]
    },
    {
     "name": "stderr",
     "output_type": "stream",
     "text": [
      "WARNING:root:Replacing existing CPD for Enfermedad\n",
      "WARNING:root:Replacing existing CPD for Tratamiento\n",
      "WARNING:root:Replacing existing CPD for Reaccion\n",
      "WARNING:root:Replacing existing CPD for Final\n",
      "WARNING:root:Replacing existing CPD for Enfermedad\n",
      "WARNING:root:Replacing existing CPD for Tratamiento\n",
      "WARNING:root:Replacing existing CPD for Reaccion\n",
      "WARNING:root:Replacing existing CPD for Final\n",
      "WARNING:root:Replacing existing CPD for Enfermedad\n",
      "WARNING:root:Replacing existing CPD for Tratamiento\n",
      "WARNING:root:Replacing existing CPD for Reaccion\n",
      "WARNING:root:Replacing existing CPD for Final\n",
      "WARNING:root:Replacing existing CPD for Enfermedad\n",
      "WARNING:root:Replacing existing CPD for Tratamiento\n",
      "WARNING:root:Replacing existing CPD for Reaccion\n",
      "WARNING:root:Replacing existing CPD for Final\n",
      "WARNING:root:Replacing existing CPD for Enfermedad\n",
      "WARNING:root:Replacing existing CPD for Tratamiento\n",
      "WARNING:root:Replacing existing CPD for Reaccion\n",
      "WARNING:root:Replacing existing CPD for Final\n",
      "WARNING:root:Replacing existing CPD for Enfermedad\n",
      "WARNING:root:Replacing existing CPD for Tratamiento\n",
      "WARNING:root:Replacing existing CPD for Reaccion\n",
      "WARNING:root:Replacing existing CPD for Final\n",
      "WARNING:root:Replacing existing CPD for Enfermedad\n",
      "WARNING:root:Replacing existing CPD for Tratamiento\n",
      "WARNING:root:Replacing existing CPD for Reaccion\n",
      "WARNING:root:Replacing existing CPD for Final\n"
     ]
    },
    {
     "name": "stdout",
     "output_type": "stream",
     "text": [
      "Creencias formadas\n",
      "Modelo Causal local creado\n",
      "Creencias formadas\n",
      "Modelo Causal local creado\n",
      "Creencias formadas\n",
      "Modelo Causal local creado\n",
      "Creencias formadas\n",
      "Modelo Causal local creado\n",
      "Creencias formadas\n",
      "Modelo Causal local creado\n",
      "Creencias formadas\n",
      "Modelo Causal local creado\n",
      "Creencias formadas\n",
      "Modelo Causal local creado\n"
     ]
    },
    {
     "name": "stderr",
     "output_type": "stream",
     "text": [
      "WARNING:root:Replacing existing CPD for Enfermedad\n",
      "WARNING:root:Replacing existing CPD for Tratamiento\n",
      "WARNING:root:Replacing existing CPD for Reaccion\n",
      "WARNING:root:Replacing existing CPD for Final\n",
      "WARNING:root:Replacing existing CPD for Enfermedad\n",
      "WARNING:root:Replacing existing CPD for Tratamiento\n",
      "WARNING:root:Replacing existing CPD for Reaccion\n",
      "WARNING:root:Replacing existing CPD for Final\n",
      "WARNING:root:Replacing existing CPD for Enfermedad\n",
      "WARNING:root:Replacing existing CPD for Tratamiento\n",
      "WARNING:root:Replacing existing CPD for Reaccion\n",
      "WARNING:root:Replacing existing CPD for Final\n",
      "WARNING:root:Replacing existing CPD for Enfermedad\n",
      "WARNING:root:Replacing existing CPD for Tratamiento\n",
      "WARNING:root:Replacing existing CPD for Reaccion\n",
      "WARNING:root:Replacing existing CPD for Final\n",
      "WARNING:root:Replacing existing CPD for Enfermedad\n",
      "WARNING:root:Replacing existing CPD for Tratamiento\n",
      "WARNING:root:Replacing existing CPD for Reaccion\n",
      "WARNING:root:Replacing existing CPD for Final\n",
      "WARNING:root:Replacing existing CPD for Enfermedad\n",
      "WARNING:root:Replacing existing CPD for Tratamiento\n",
      "WARNING:root:Replacing existing CPD for Reaccion\n",
      "WARNING:root:Replacing existing CPD for Final\n",
      "WARNING:root:Replacing existing CPD for Enfermedad\n",
      "WARNING:root:Replacing existing CPD for Tratamiento\n",
      "WARNING:root:Replacing existing CPD for Reaccion\n",
      "WARNING:root:Replacing existing CPD for Final\n"
     ]
    },
    {
     "name": "stdout",
     "output_type": "stream",
     "text": [
      "Creencias formadas\n",
      "Modelo Causal local creado\n",
      "Creencias formadas\n",
      "Modelo Causal local creado\n",
      "Creencias formadas\n",
      "Modelo Causal local creado\n",
      "Creencias formadas\n",
      "Modelo Causal local creado\n",
      "Creencias formadas\n",
      "Modelo Causal local creado\n",
      "Creencias formadas\n",
      "Modelo Causal local creado\n",
      "Creencias formadas\n",
      "Modelo Causal local creado\n"
     ]
    },
    {
     "name": "stderr",
     "output_type": "stream",
     "text": [
      "WARNING:root:Replacing existing CPD for Enfermedad\n",
      "WARNING:root:Replacing existing CPD for Tratamiento\n",
      "WARNING:root:Replacing existing CPD for Reaccion\n",
      "WARNING:root:Replacing existing CPD for Final\n",
      "WARNING:root:Replacing existing CPD for Enfermedad\n",
      "WARNING:root:Replacing existing CPD for Tratamiento\n",
      "WARNING:root:Replacing existing CPD for Reaccion\n",
      "WARNING:root:Replacing existing CPD for Final\n",
      "WARNING:root:Replacing existing CPD for Enfermedad\n",
      "WARNING:root:Replacing existing CPD for Tratamiento\n",
      "WARNING:root:Replacing existing CPD for Reaccion\n",
      "WARNING:root:Replacing existing CPD for Final\n",
      "WARNING:root:Replacing existing CPD for Enfermedad\n",
      "WARNING:root:Replacing existing CPD for Tratamiento\n",
      "WARNING:root:Replacing existing CPD for Reaccion\n",
      "WARNING:root:Replacing existing CPD for Final\n",
      "WARNING:root:Replacing existing CPD for Enfermedad\n",
      "WARNING:root:Replacing existing CPD for Tratamiento\n",
      "WARNING:root:Replacing existing CPD for Reaccion\n",
      "WARNING:root:Replacing existing CPD for Final\n",
      "WARNING:root:Replacing existing CPD for Enfermedad\n",
      "WARNING:root:Replacing existing CPD for Tratamiento\n",
      "WARNING:root:Replacing existing CPD for Reaccion\n",
      "WARNING:root:Replacing existing CPD for Final\n",
      "WARNING:root:Replacing existing CPD for Enfermedad\n",
      "WARNING:root:Replacing existing CPD for Tratamiento\n",
      "WARNING:root:Replacing existing CPD for Reaccion\n",
      "WARNING:root:Replacing existing CPD for Final\n"
     ]
    },
    {
     "name": "stdout",
     "output_type": "stream",
     "text": [
      "Creencias formadas\n",
      "Modelo Causal local creado\n",
      "Creencias formadas\n",
      "Modelo Causal local creado\n",
      "Creencias formadas\n",
      "Modelo Causal local creado\n",
      "Creencias formadas\n",
      "Modelo Causal local creado\n",
      "Creencias formadas\n",
      "Modelo Causal local creado\n",
      "Creencias formadas\n",
      "Modelo Causal local creado\n",
      "Creencias formadas\n",
      "Modelo Causal local creado"
     ]
    },
    {
     "name": "stderr",
     "output_type": "stream",
     "text": [
      "WARNING:root:Replacing existing CPD for Enfermedad\n",
      "WARNING:root:Replacing existing CPD for Tratamiento\n",
      "WARNING:root:Replacing existing CPD for Reaccion\n",
      "WARNING:root:Replacing existing CPD for Final\n",
      "WARNING:root:Replacing existing CPD for Enfermedad\n",
      "WARNING:root:Replacing existing CPD for Tratamiento\n",
      "WARNING:root:Replacing existing CPD for Reaccion\n",
      "WARNING:root:Replacing existing CPD for Final\n",
      "WARNING:root:Replacing existing CPD for Enfermedad\n",
      "WARNING:root:Replacing existing CPD for Tratamiento\n",
      "WARNING:root:Replacing existing CPD for Reaccion\n",
      "WARNING:root:Replacing existing CPD for Final\n",
      "WARNING:root:Replacing existing CPD for Enfermedad\n",
      "WARNING:root:Replacing existing CPD for Tratamiento\n",
      "WARNING:root:Replacing existing CPD for Reaccion\n",
      "WARNING:root:Replacing existing CPD for Final\n",
      "WARNING:root:Replacing existing CPD for Enfermedad\n",
      "WARNING:root:Replacing existing CPD for Tratamiento\n",
      "WARNING:root:Replacing existing CPD for Reaccion\n",
      "WARNING:root:Replacing existing CPD for Final\n",
      "WARNING:root:Replacing existing CPD for Enfermedad\n",
      "WARNING:root:Replacing existing CPD for Tratamiento\n",
      "WARNING:root:Replacing existing CPD for Reaccion\n",
      "WARNING:root:Replacing existing CPD for Final\n"
     ]
    },
    {
     "name": "stdout",
     "output_type": "stream",
     "text": [
      "\n",
      "Creencias formadas\n",
      "Modelo Causal local creado\n",
      "Creencias formadas\n",
      "Modelo Causal local creado\n",
      "Creencias formadas\n",
      "Modelo Causal local creado\n",
      "Creencias formadas\n",
      "Modelo Causal local creado\n",
      "Creencias formadas\n",
      "Modelo Causal local creado\n",
      "Creencias formadas\n",
      "Modelo Causal local creado\n",
      "Creencias formadas"
     ]
    },
    {
     "name": "stderr",
     "output_type": "stream",
     "text": [
      "WARNING:root:Replacing existing CPD for Enfermedad\n",
      "WARNING:root:Replacing existing CPD for Tratamiento\n",
      "WARNING:root:Replacing existing CPD for Reaccion\n",
      "WARNING:root:Replacing existing CPD for Final\n",
      "WARNING:root:Replacing existing CPD for Enfermedad\n",
      "WARNING:root:Replacing existing CPD for Tratamiento\n",
      "WARNING:root:Replacing existing CPD for Reaccion\n",
      "WARNING:root:Replacing existing CPD for Final\n",
      "WARNING:root:Replacing existing CPD for Enfermedad\n",
      "WARNING:root:Replacing existing CPD for Tratamiento\n",
      "WARNING:root:Replacing existing CPD for Reaccion\n",
      "WARNING:root:Replacing existing CPD for Final\n",
      "WARNING:root:Replacing existing CPD for Enfermedad\n",
      "WARNING:root:Replacing existing CPD for Tratamiento\n",
      "WARNING:root:Replacing existing CPD for Reaccion\n",
      "WARNING:root:Replacing existing CPD for Final\n",
      "WARNING:root:Replacing existing CPD for Enfermedad\n",
      "WARNING:root:Replacing existing CPD for Tratamiento\n",
      "WARNING:root:Replacing existing CPD for Reaccion\n",
      "WARNING:root:Replacing existing CPD for Final\n",
      "WARNING:root:Replacing existing CPD for Enfermedad\n",
      "WARNING:root:Replacing existing CPD for Tratamiento\n",
      "WARNING:root:Replacing existing CPD for Reaccion\n",
      "WARNING:root:Replacing existing CPD for Final\n",
      "WARNING:root:Replacing existing CPD for Enfermedad\n",
      "WARNING:root:Replacing existing CPD for Tratamiento\n",
      "WARNING:root:Replacing existing CPD for Reaccion\n",
      "WARNING:root:Replacing existing CPD for Final\n",
      "WARNING:root:Replacing existing CPD for Enfermedad\n"
     ]
    },
    {
     "name": "stdout",
     "output_type": "stream",
     "text": [
      "\n",
      "Modelo Causal local creado\n",
      "Creencias formadas\n",
      "Modelo Causal local creado\n",
      "Creencias formadas\n",
      "Modelo Causal local creado\n",
      "Creencias formadas\n",
      "Modelo Causal local creado\n",
      "Creencias formadas\n",
      "Modelo Causal local creado\n",
      "Creencias formadas\n",
      "Modelo Causal local creado\n",
      "Creencias formadas\n",
      "Modelo Causal local creado\n",
      "Creencias formadas\n"
     ]
    },
    {
     "name": "stderr",
     "output_type": "stream",
     "text": [
      "WARNING:root:Replacing existing CPD for Tratamiento\n",
      "WARNING:root:Replacing existing CPD for Reaccion\n",
      "WARNING:root:Replacing existing CPD for Final\n",
      "WARNING:root:Replacing existing CPD for Enfermedad\n",
      "WARNING:root:Replacing existing CPD for Tratamiento\n",
      "WARNING:root:Replacing existing CPD for Reaccion\n",
      "WARNING:root:Replacing existing CPD for Final\n",
      "WARNING:root:Replacing existing CPD for Enfermedad\n",
      "WARNING:root:Replacing existing CPD for Tratamiento\n",
      "WARNING:root:Replacing existing CPD for Reaccion\n",
      "WARNING:root:Replacing existing CPD for Final\n",
      "WARNING:root:Replacing existing CPD for Enfermedad\n",
      "WARNING:root:Replacing existing CPD for Tratamiento\n",
      "WARNING:root:Replacing existing CPD for Reaccion\n",
      "WARNING:root:Replacing existing CPD for Final\n",
      "WARNING:root:Replacing existing CPD for Enfermedad\n",
      "WARNING:root:Replacing existing CPD for Tratamiento\n",
      "WARNING:root:Replacing existing CPD for Reaccion\n",
      "WARNING:root:Replacing existing CPD for Final\n",
      "WARNING:root:Replacing existing CPD for Enfermedad\n",
      "WARNING:root:Replacing existing CPD for Tratamiento\n",
      "WARNING:root:Replacing existing CPD for Reaccion\n",
      "WARNING:root:Replacing existing CPD for Final\n",
      "WARNING:root:Replacing existing CPD for Enfermedad\n",
      "WARNING:root:Replacing existing CPD for Tratamiento\n",
      "WARNING:root:Replacing existing CPD for Reaccion\n",
      "WARNING:root:Replacing existing CPD for Final\n",
      "WARNING:root:Replacing existing CPD for Enfermedad\n",
      "WARNING:root:Replacing existing CPD for Tratamiento\n"
     ]
    },
    {
     "name": "stdout",
     "output_type": "stream",
     "text": [
      "Modelo Causal local creado\n",
      "Creencias formadas\n",
      "Modelo Causal local creado\n",
      "Creencias formadas\n",
      "Modelo Causal local creado\n",
      "Creencias formadas\n",
      "Modelo Causal local creado\n",
      "Creencias formadas\n",
      "Modelo Causal local creado\n",
      "Creencias formadas\n",
      "Modelo Causal local creado\n",
      "Creencias formadas\n",
      "Modelo Causal local creado\n",
      "Creencias formadas\n"
     ]
    },
    {
     "name": "stderr",
     "output_type": "stream",
     "text": [
      "WARNING:root:Replacing existing CPD for Reaccion\n",
      "WARNING:root:Replacing existing CPD for Final\n",
      "WARNING:root:Replacing existing CPD for Enfermedad\n",
      "WARNING:root:Replacing existing CPD for Tratamiento\n",
      "WARNING:root:Replacing existing CPD for Reaccion\n",
      "WARNING:root:Replacing existing CPD for Final\n",
      "WARNING:root:Replacing existing CPD for Enfermedad\n",
      "WARNING:root:Replacing existing CPD for Tratamiento\n",
      "WARNING:root:Replacing existing CPD for Reaccion\n",
      "WARNING:root:Replacing existing CPD for Final\n",
      "WARNING:root:Replacing existing CPD for Enfermedad\n",
      "WARNING:root:Replacing existing CPD for Tratamiento\n",
      "WARNING:root:Replacing existing CPD for Reaccion\n",
      "WARNING:root:Replacing existing CPD for Final\n",
      "WARNING:root:Replacing existing CPD for Enfermedad\n",
      "WARNING:root:Replacing existing CPD for Tratamiento\n",
      "WARNING:root:Replacing existing CPD for Reaccion\n",
      "WARNING:root:Replacing existing CPD for Final\n",
      "WARNING:root:Replacing existing CPD for Enfermedad\n",
      "WARNING:root:Replacing existing CPD for Tratamiento\n",
      "WARNING:root:Replacing existing CPD for Reaccion\n",
      "WARNING:root:Replacing existing CPD for Final\n",
      "WARNING:root:Replacing existing CPD for Enfermedad\n",
      "WARNING:root:Replacing existing CPD for Tratamiento\n",
      "WARNING:root:Replacing existing CPD for Reaccion\n",
      "WARNING:root:Replacing existing CPD for Final\n"
     ]
    },
    {
     "name": "stdout",
     "output_type": "stream",
     "text": [
      "Modelo Causal local creado\n",
      "Creencias formadas\n",
      "Modelo Causal local creado\n",
      "Creencias formadas\n",
      "Modelo Causal local creado\n",
      "Creencias formadas\n",
      "Modelo Causal local creado\n",
      "Creencias formadas\n",
      "Modelo Causal local creado\n",
      "Creencias formadas\n",
      "Modelo Causal local creado\n",
      "Creencias formadas\n",
      "Modelo Causal local creado\n"
     ]
    },
    {
     "name": "stderr",
     "output_type": "stream",
     "text": [
      "WARNING:root:Replacing existing CPD for Enfermedad\n",
      "WARNING:root:Replacing existing CPD for Tratamiento\n",
      "WARNING:root:Replacing existing CPD for Reaccion\n",
      "WARNING:root:Replacing existing CPD for Final\n",
      "WARNING:root:Replacing existing CPD for Enfermedad\n",
      "WARNING:root:Replacing existing CPD for Tratamiento\n",
      "WARNING:root:Replacing existing CPD for Reaccion\n",
      "WARNING:root:Replacing existing CPD for Final\n",
      "WARNING:root:Replacing existing CPD for Enfermedad\n",
      "WARNING:root:Replacing existing CPD for Tratamiento\n",
      "WARNING:root:Replacing existing CPD for Reaccion\n",
      "WARNING:root:Replacing existing CPD for Final\n",
      "WARNING:root:Replacing existing CPD for Enfermedad\n",
      "WARNING:root:Replacing existing CPD for Tratamiento\n",
      "WARNING:root:Replacing existing CPD for Reaccion\n",
      "WARNING:root:Replacing existing CPD for Final\n",
      "WARNING:root:Replacing existing CPD for Enfermedad\n",
      "WARNING:root:Replacing existing CPD for Tratamiento\n",
      "WARNING:root:Replacing existing CPD for Reaccion\n",
      "WARNING:root:Replacing existing CPD for Final\n",
      "WARNING:root:Replacing existing CPD for Enfermedad\n",
      "WARNING:root:Replacing existing CPD for Tratamiento\n",
      "WARNING:root:Replacing existing CPD for Reaccion\n",
      "WARNING:root:Replacing existing CPD for Final\n",
      "WARNING:root:Replacing existing CPD for Enfermedad\n",
      "WARNING:root:Replacing existing CPD for Tratamiento\n",
      "WARNING:root:Replacing existing CPD for Reaccion\n",
      "WARNING:root:Replacing existing CPD for Final\n",
      "WARNING:root:Replacing existing CPD for Enfermedad\n",
      "WARNING:root:Replacing existing CPD for Tratamiento\n",
      "WARNING:root:Replacing existing CPD for Reaccion\n",
      "WARNING:root:Replacing existing CPD for Final\n"
     ]
    },
    {
     "name": "stdout",
     "output_type": "stream",
     "text": [
      "Creencias formadas\n",
      "Modelo Causal local creado\n",
      "Creencias formadas\n",
      "Modelo Causal local creado\n",
      "Creencias formadas\n",
      "Modelo Causal local creado\n",
      "Creencias formadas\n",
      "Modelo Causal local creado\n",
      "Creencias formadas\n",
      "Modelo Causal local creado\n",
      "Creencias formadas\n",
      "Modelo Causal local creado\n",
      "Creencias formadas\n",
      "Modelo Causal local creado\n",
      "Creencias formadas\n",
      "Modelo Causal local creado\n"
     ]
    },
    {
     "name": "stderr",
     "output_type": "stream",
     "text": [
      "WARNING:root:Replacing existing CPD for Enfermedad\n",
      "WARNING:root:Replacing existing CPD for Tratamiento\n",
      "WARNING:root:Replacing existing CPD for Reaccion\n",
      "WARNING:root:Replacing existing CPD for Final\n",
      "WARNING:root:Replacing existing CPD for Enfermedad\n",
      "WARNING:root:Replacing existing CPD for Tratamiento\n",
      "WARNING:root:Replacing existing CPD for Reaccion\n",
      "WARNING:root:Replacing existing CPD for Final\n",
      "WARNING:root:Replacing existing CPD for Enfermedad\n",
      "WARNING:root:Replacing existing CPD for Tratamiento\n",
      "WARNING:root:Replacing existing CPD for Reaccion\n",
      "WARNING:root:Replacing existing CPD for Final\n",
      "WARNING:root:Replacing existing CPD for Enfermedad\n",
      "WARNING:root:Replacing existing CPD for Tratamiento\n",
      "WARNING:root:Replacing existing CPD for Reaccion\n",
      "WARNING:root:Replacing existing CPD for Final\n",
      "WARNING:root:Replacing existing CPD for Enfermedad\n",
      "WARNING:root:Replacing existing CPD for Tratamiento\n",
      "WARNING:root:Replacing existing CPD for Reaccion\n",
      "WARNING:root:Replacing existing CPD for Final\n",
      "WARNING:root:Replacing existing CPD for Enfermedad\n",
      "WARNING:root:Replacing existing CPD for Tratamiento\n",
      "WARNING:root:Replacing existing CPD for Reaccion\n",
      "WARNING:root:Replacing existing CPD for Final\n",
      "WARNING:root:Replacing existing CPD for Enfermedad\n",
      "WARNING:root:Replacing existing CPD for Tratamiento\n",
      "WARNING:root:Replacing existing CPD for Reaccion\n",
      "WARNING:root:Replacing existing CPD for Final\n"
     ]
    },
    {
     "name": "stdout",
     "output_type": "stream",
     "text": [
      "Creencias formadas\n",
      "Modelo Causal local creado\n",
      "Creencias formadas\n",
      "Modelo Causal local creado\n",
      "Creencias formadas\n",
      "Modelo Causal local creado\n",
      "Creencias formadas\n",
      "Modelo Causal local creado\n",
      "Creencias formadas\n",
      "Modelo Causal local creado\n",
      "Creencias formadas\n",
      "Modelo Causal local creado\n",
      "Creencias formadas\n",
      "Modelo Causal local creado\n"
     ]
    },
    {
     "name": "stderr",
     "output_type": "stream",
     "text": [
      "WARNING:root:Replacing existing CPD for Enfermedad\n",
      "WARNING:root:Replacing existing CPD for Tratamiento\n",
      "WARNING:root:Replacing existing CPD for Reaccion\n",
      "WARNING:root:Replacing existing CPD for Final\n",
      "WARNING:root:Replacing existing CPD for Enfermedad\n",
      "WARNING:root:Replacing existing CPD for Tratamiento\n",
      "WARNING:root:Replacing existing CPD for Reaccion\n",
      "WARNING:root:Replacing existing CPD for Final\n",
      "WARNING:root:Replacing existing CPD for Enfermedad\n",
      "WARNING:root:Replacing existing CPD for Tratamiento\n",
      "WARNING:root:Replacing existing CPD for Reaccion\n",
      "WARNING:root:Replacing existing CPD for Final\n",
      "WARNING:root:Replacing existing CPD for Enfermedad\n",
      "WARNING:root:Replacing existing CPD for Tratamiento\n",
      "WARNING:root:Replacing existing CPD for Reaccion\n",
      "WARNING:root:Replacing existing CPD for Final\n",
      "WARNING:root:Replacing existing CPD for Enfermedad\n",
      "WARNING:root:Replacing existing CPD for Tratamiento\n",
      "WARNING:root:Replacing existing CPD for Reaccion\n",
      "WARNING:root:Replacing existing CPD for Final\n",
      "WARNING:root:Replacing existing CPD for Enfermedad\n",
      "WARNING:root:Replacing existing CPD for Tratamiento\n",
      "WARNING:root:Replacing existing CPD for Reaccion\n",
      "WARNING:root:Replacing existing CPD for Final\n",
      "WARNING:root:Replacing existing CPD for Enfermedad\n",
      "WARNING:root:Replacing existing CPD for Tratamiento\n",
      "WARNING:root:Replacing existing CPD for Reaccion\n",
      "WARNING:root:Replacing existing CPD for Final\n"
     ]
    },
    {
     "name": "stdout",
     "output_type": "stream",
     "text": [
      "Creencias formadas\n",
      "Modelo Causal local creado\n",
      "Creencias formadas\n",
      "Modelo Causal local creado\n",
      "Creencias formadas\n",
      "Modelo Causal local creado\n",
      "Creencias formadas\n",
      "Modelo Causal local creado\n",
      "Creencias formadas\n",
      "Modelo Causal local creado\n",
      "Creencias formadas\n",
      "Modelo Causal local creado\n",
      "Creencias formadas\n"
     ]
    },
    {
     "name": "stderr",
     "output_type": "stream",
     "text": [
      "WARNING:root:Replacing existing CPD for Enfermedad\n",
      "WARNING:root:Replacing existing CPD for Tratamiento\n",
      "WARNING:root:Replacing existing CPD for Reaccion\n",
      "WARNING:root:Replacing existing CPD for Final\n",
      "WARNING:root:Replacing existing CPD for Enfermedad\n",
      "WARNING:root:Replacing existing CPD for Tratamiento\n",
      "WARNING:root:Replacing existing CPD for Reaccion\n",
      "WARNING:root:Replacing existing CPD for Final\n",
      "WARNING:root:Replacing existing CPD for Enfermedad\n",
      "WARNING:root:Replacing existing CPD for Tratamiento\n",
      "WARNING:root:Replacing existing CPD for Reaccion\n",
      "WARNING:root:Replacing existing CPD for Final\n",
      "WARNING:root:Replacing existing CPD for Enfermedad\n",
      "WARNING:root:Replacing existing CPD for Tratamiento\n",
      "WARNING:root:Replacing existing CPD for Reaccion\n",
      "WARNING:root:Replacing existing CPD for Final\n",
      "WARNING:root:Replacing existing CPD for Enfermedad\n",
      "WARNING:root:Replacing existing CPD for Tratamiento\n",
      "WARNING:root:Replacing existing CPD for Reaccion\n",
      "WARNING:root:Replacing existing CPD for Final\n",
      "WARNING:root:Replacing existing CPD for Enfermedad\n",
      "WARNING:root:Replacing existing CPD for Tratamiento\n",
      "WARNING:root:Replacing existing CPD for Reaccion\n",
      "WARNING:root:Replacing existing CPD for Final\n"
     ]
    },
    {
     "name": "stdout",
     "output_type": "stream",
     "text": [
      "Modelo Causal local creado\n",
      "Creencias formadas\n",
      "Modelo Causal local creado\n",
      "Creencias formadas\n",
      "Modelo Causal local creado\n",
      "Creencias formadas\n",
      "Modelo Causal local creado\n",
      "Creencias formadas\n",
      "Modelo Causal local creado\n",
      "Creencias formadas\n",
      "Modelo Causal local creado\n",
      "Creencias formadas\n",
      "Modelo Causal local creado\n"
     ]
    },
    {
     "name": "stderr",
     "output_type": "stream",
     "text": [
      "WARNING:root:Replacing existing CPD for Enfermedad\n",
      "WARNING:root:Replacing existing CPD for Tratamiento\n",
      "WARNING:root:Replacing existing CPD for Reaccion\n",
      "WARNING:root:Replacing existing CPD for Final\n"
     ]
    },
    {
     "name": "stdout",
     "output_type": "stream",
     "text": [
      "Creencias formadas\n",
      "Modelo Causal local creado\n"
     ]
    }
   ],
   "source": [
    "N=200\n",
    "modelo=true_causal_model(4,infer,sampling,model)\n",
    "agente_causal=causal_agent(model,modelo,4,2)\n",
    "agente_causal.belief_formation()\n",
    "recompensa_causal=np.zeros(N,dtype='float')\n",
    "recompensa_promedio_causal=np.zeros(N,dtype='float')\n",
    "for i in range(N):\n",
    "    agente_causal.belief_updating()\n",
    "    agente_causal.fix_causal_model()\n",
    "recompensas_causal=agente_causal.get_reward()\n"
   ]
  },
  {
   "cell_type": "code",
   "execution_count": 229,
   "metadata": {},
   "outputs": [
    {
     "name": "stdout",
     "output_type": "stream",
     "text": [
      "╒══════════════╤══════════╕\n",
      "│ Enfermedad_0 │ 0.512096 │\n",
      "├──────────────┼──────────┤\n",
      "│ Enfermedad_1 │ 0.487904 │\n",
      "╘══════════════╧══════════╛\n"
     ]
    }
   ],
   "source": [
    "print(agente_causal.local_model.get_cpds('Enfermedad'))"
   ]
  },
  {
   "cell_type": "code",
   "execution_count": 230,
   "metadata": {},
   "outputs": [
    {
     "data": {
      "text/plain": [
       "(0, 5)"
      ]
     },
     "execution_count": 230,
     "metadata": {},
     "output_type": "execute_result"
    },
    {
     "data": {
      "image/png": "[encoded data removed]",
      "text/plain": [
       "<matplotlib.figure.Figure at 0x116721860>"
      ]
     },
     "metadata": {},
     "output_type": "display_data"
    }
   ],
   "source": [
    "plt.plot(recompensas_causal)\n",
    "plt.xlim([1, N])\n",
    "plt.ylim([0, 5])"
   ]
  },
  {
   "cell_type": "code",
   "execution_count": 231,
   "metadata": {},
   "outputs": [
    {
     "data": {
      "text/plain": [
       "Text(0,0.5,'Average Reward for Causal Agent')"
      ]
     },
     "execution_count": 231,
     "metadata": {},
     "output_type": "execute_result"
    },
    {
     "data": {
      "image/png": "[encoded data removed]",
      "text/plain": [
       "<matplotlib.figure.Figure at 0x11699be10>"
      ]
     },
     "metadata": {},
     "output_type": "display_data"
    }
   ],
   "source": [
    "recompensa_acumulada_causal=np.cumsum(recompensas_causal)\n",
    "recompensa_promedio_causal=recompensa_acumulada_causal/N\n",
    "plt.plot(recompensa_promedio_causal)\n",
    "plt.xlabel(\"Number Rounds\")\n",
    "plt.ylabel(\"Average Reward for Causal Agent\".format())"
   ]
  },
  {
   "cell_type": "code",
   "execution_count": 232,
   "metadata": {},
   "outputs": [
    {
     "data": {
      "text/plain": [
       "array([  0,   0,   0,   1,   2,   3,   4,   5,   6,   7,   7,   8,   8,\n",
       "         9,  10,  11,  12,  13,  14,  15,  16,  17,  18,  19,  20,  21,\n",
       "        22,  23,  24,  25,  26,  27,  28,  29,  30,  31,  32,  33,  34,\n",
       "        35,  36,  37,  38,  39,  40,  41,  42,  43,  44,  45,  46,  47,\n",
       "        48,  49,  50,  51,  52,  53,  54,  55,  56,  56,  57,  58,  59,\n",
       "        60,  61,  62,  63,  64,  65,  65,  66,  66,  67,  68,  69,  70,\n",
       "        71,  72,  73,  74,  75,  76,  77,  78,  79,  80,  81,  81,  82,\n",
       "        83,  84,  85,  86,  87,  88,  89,  90,  91,  92,  93,  94,  95,\n",
       "        96,  97,  98,  99, 100, 101, 102, 103, 104, 105, 106, 107, 108,\n",
       "       109, 110, 111, 112, 113, 114, 115, 116, 117, 118, 119, 120, 121,\n",
       "       122, 123, 124, 125, 126, 127, 128, 129, 130, 131, 132, 133, 134,\n",
       "       135, 136, 137, 137, 138, 139, 140, 141, 142, 143, 144, 145, 146,\n",
       "       147, 148, 149, 150, 151, 152, 153, 154, 155, 156, 157, 158, 159,\n",
       "       160, 161, 162, 163, 164, 165, 166, 167, 168, 169, 170, 171, 172,\n",
       "       173, 174, 174, 175, 176, 177, 178, 179, 180, 181, 181, 182, 183,\n",
       "       184, 185, 186, 187, 188, 189])"
      ]
     },
     "execution_count": 232,
     "metadata": {},
     "output_type": "execute_result"
    }
   ],
   "source": [
    "recompensa_acumulada_causal"
   ]
  },
  {
   "cell_type": "markdown",
   "metadata": {},
   "source": [
    "### Random agent"
   ]
  },
  {
   "cell_type": "code",
   "execution_count": 233,
   "metadata": {},
   "outputs": [],
   "source": [
    "\n",
    "modelo=true_causal_model(4,infer,sampling,model)\n",
    "agente_random=random_agent(model,modelo,4,2)\n",
    "recompensa_random=np.zeros(N,dtype='float')\n",
    "recompensa_promedio_random=np.zeros(N,dtype='float')\n",
    "for i in range(N):\n",
    "    agente_random.observing_external()\n",
    "recompensas_random=agente_random.get_reward()"
   ]
  },
  {
   "cell_type": "code",
   "execution_count": 234,
   "metadata": {},
   "outputs": [
    {
     "data": {
      "text/plain": [
       "(0, 5)"
      ]
     },
     "execution_count": 234,
     "metadata": {},
     "output_type": "execute_result"
    },
    {
     "data": {
      "image/png": "[encoded data removed]",
      "text/plain": [
       "<matplotlib.figure.Figure at 0x11699f470>"
      ]
     },
     "metadata": {},
     "output_type": "display_data"
    }
   ],
   "source": [
    "plt.plot(recompensas_random)\n",
    "plt.xlim([1, N])\n",
    "plt.ylim([0, 5])"
   ]
  },
  {
   "cell_type": "code",
   "execution_count": 235,
   "metadata": {},
   "outputs": [
    {
     "data": {
      "text/plain": [
       "Text(0,0.5,'Average Reward for random agent')"
      ]
     },
     "execution_count": 235,
     "metadata": {},
     "output_type": "execute_result"
    },
    {
     "data": {
      "image/png": "[encoded data removed]",
      "text/plain": [
       "<matplotlib.figure.Figure at 0x115cecd30>"
      ]
     },
     "metadata": {},
     "output_type": "display_data"
    }
   ],
   "source": [
    "recompensa_acumulada_random=np.cumsum(recompensas_random)\n",
    "recompensa_promedio_random=recompensa_acumulada_random/N\n",
    "plt.plot(recompensa_promedio_random)\n",
    "plt.xlabel(\"Rounds for random agent\")\n",
    "plt.ylabel(\"Average Reward for random agent\".format())"
   ]
  },
  {
   "cell_type": "markdown",
   "metadata": {},
   "source": [
    "### Q-Learning"
   ]
  },
  {
   "cell_type": "code",
   "execution_count": 236,
   "metadata": {},
   "outputs": [],
   "source": [
    "modelo=true_causal_model(4,infer,sampling,model)\n",
    "agente_Q=Q_learning_agent(modelo,2,0.3)\n",
    "recompensa_Q=np.zeros(N,dtype='float')\n",
    "recompensa_Q=np.zeros(N,dtype='float')\n",
    "for i in range(N):\n",
    "    agente_Q.observe_external()\n",
    "    \n",
    "recompensas_Q=agente_Q.get_reward()"
   ]
  },
  {
   "cell_type": "code",
   "execution_count": 237,
   "metadata": {},
   "outputs": [
    {
     "data": {
      "text/plain": [
       "(0, 5)"
      ]
     },
     "execution_count": 237,
     "metadata": {},
     "output_type": "execute_result"
    },
    {
     "data": {
      "image/png": "[encoded data removed]",
      "text/plain": [
       "<matplotlib.figure.Figure at 0x11643e0b8>"
      ]
     },
     "metadata": {},
     "output_type": "display_data"
    }
   ],
   "source": [
    "plt.plot(recompensas_Q)\n",
    "plt.xlim([1, N])\n",
    "plt.ylim([0, 5])"
   ]
  },
  {
   "cell_type": "code",
   "execution_count": 238,
   "metadata": {},
   "outputs": [
    {
     "data": {
      "text/plain": [
       "Text(0,0.5,'Average Reward for Q-learning agent')"
      ]
     },
     "execution_count": 238,
     "metadata": {},
     "output_type": "execute_result"
    },
    {
     "data": {
      "image/png": "[encoded data removed]",
      "text/plain": [
       "<matplotlib.figure.Figure at 0x116632978>"
      ]
     },
     "metadata": {},
     "output_type": "display_data"
    }
   ],
   "source": [
    "recompensa_acumulada_Q=np.cumsum(recompensas_Q)\n",
    "recompensa_promedio_Q=recompensa_acumulada_Q/N\n",
    "plt.plot(recompensa_promedio_Q)\n",
    "plt.xlabel(\"Rounds for Q-learning agent\")\n",
    "plt.ylabel(\"Average Reward for Q-learning agent\".format())"
   ]
  },
  {
   "cell_type": "markdown",
   "metadata": {},
   "source": [
    "### Todos juntos"
   ]
  },
  {
   "cell_type": "code",
   "execution_count": 239,
   "metadata": {},
   "outputs": [
    {
     "data": {
      "text/plain": [
       "Text(0.5,0,'Rounds')"
      ]
     },
     "execution_count": 239,
     "metadata": {},
     "output_type": "execute_result"
    },
    {
     "data": {
      "image/png": "[encoded data removed]",
      "text/plain": [
       "<matplotlib.figure.Figure at 0x114865b38>"
      ]
     },
     "metadata": {},
     "output_type": "display_data"
    }
   ],
   "source": [
    "plt.plot(recompensa_promedio_causal, label='Causal agent')\n",
    "plt.plot(recompensa_promedio_random,label='Random agent')\n",
    "plt.plot(recompensa_promedio_Q,label='Q agent')\n",
    "leg = plt.legend(loc='upper left', shadow=True, fontsize=10)\n",
    "plt.xlim([1, N])\n",
    "plt.ylim([0, 1])\n",
    "plt.ylabel(\"Average Reward for agent\")\n",
    "plt.xlabel(\"Rounds\")"
   ]
  },
  {
   "cell_type": "code",
   "execution_count": 225,
   "metadata": {},
   "outputs": [
    {
     "data": {
      "text/plain": [
       "{'Enfermedad': [0.4998458653044609, 0.500154134695539],\n",
       " 'Final|Enfermedad, Tratamiento, Reaccion': [[0.9999999999982798,\n",
       "   0.9985377711473384,\n",
       "   1.0,\n",
       "   0.9999841609192636,\n",
       "   0.9987336281535343,\n",
       "   0.9999349022780816,\n",
       "   0.9997751251896996,\n",
       "   0.4998611955049478],\n",
       "  [1.7201812317567488e-12,\n",
       "   0.0014622288526614908,\n",
       "   4.461118503766251e-29,\n",
       "   1.583908073640767e-05,\n",
       "   0.001266371846465696,\n",
       "   6.50977219183064e-05,\n",
       "   0.00022487481030027495,\n",
       "   0.5001388044950522]],\n",
       " 'Reaccion|Tratamiento': [[0.9996266188715107, 0.004212345177667678],\n",
       "  [0.00037338112848941225, 0.9957876548223323]],\n",
       " 'Tratamiento': [0.17840062492601486, 0.8215993750739852]}"
      ]
     },
     "execution_count": 225,
     "metadata": {},
     "output_type": "execute_result"
    }
   ],
   "source": [
    "agente_causal.print_beliefs()"
   ]
  },
  {
   "cell_type": "code",
   "execution_count": 226,
   "metadata": {},
   "outputs": [
    {
     "data": {
      "text/plain": [
       "array([  0.00000000e+00,   1.00000000e-04,   1.00000000e-04, ...,\n",
       "         9.96000000e-01,   9.96100000e-01,   9.96200000e-01])"
      ]
     },
     "execution_count": 226,
     "metadata": {},
     "output_type": "execute_result"
    }
   ],
   "source": [
    "recompensa_promedio_causal"
   ]
  },
  {
   "cell_type": "code",
   "execution_count": 227,
   "metadata": {},
   "outputs": [
    {
     "data": {
      "text/plain": [
       "array([   0,    1,    1, ..., 9960, 9961, 9962])"
      ]
     },
     "execution_count": 227,
     "metadata": {},
     "output_type": "execute_result"
    }
   ],
   "source": [
    "recompensa_acumulada_causal"
   ]
  },
  {
   "cell_type": "code",
   "execution_count": null,
   "metadata": {},
   "outputs": [],
   "source": []
  },
  {
   "cell_type": "code",
   "execution_count": null,
   "metadata": {},
   "outputs": [],
   "source": []
  },
  {
   "cell_type": "code",
   "execution_count": null,
   "metadata": {},
   "outputs": [],
   "source": []
  },
  {
   "cell_type": "code",
   "execution_count": null,
   "metadata": {},
   "outputs": [],
   "source": []
  },
  {
   "cell_type": "code",
   "execution_count": null,
   "metadata": {},
   "outputs": [],
   "source": []
  },
  {
   "cell_type": "code",
   "execution_count": null,
   "metadata": {},
   "outputs": [],
   "source": []
  }
 ],
 "metadata": {
  "kernelspec": {
   "display_name": "Python 3",
   "language": "python",
   "name": "python3"
  },
  "language_info": {
   "codemirror_mode": {
    "name": "ipython",
    "version": 3
   },
   "file_extension": ".py",
   "mimetype": "text/x-python",
   "name": "python",
   "nbconvert_exporter": "python",
   "pygments_lexer": "ipython3",
   "version": "3.6.4"
  }
 },
 "nbformat": 4,
 "nbformat_minor": 2
}
