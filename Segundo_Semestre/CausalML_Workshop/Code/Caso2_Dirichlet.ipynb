{
 "cells": [
  {
   "cell_type": "code",
   "execution_count": 67,
   "metadata": {},
   "outputs": [],
   "source": [
    "import numpy as np\n",
    "import networkx as nx\n",
    "from pgmpy.models import BayesianModel\n",
    "from pgmpy.factors.discrete import TabularCPD\n",
    "from pgmpy.inference import VariableElimination\n",
    "from pgmpy.sampling import BayesianModelSampling\n",
    "from scipy.stats import beta, dirichlet\n",
    "from operator import add\n",
    "import matplotlib.pyplot as plt"
   ]
  },
  {
   "cell_type": "markdown",
   "metadata": {},
   "source": [
    "## True Causal Model From Environment:"
   ]
  },
  {
   "cell_type": "code",
   "execution_count": 2,
   "metadata": {},
   "outputs": [],
   "source": [
    "model = BayesianModel([('Enfermedad', 'Final'), ('Tratamiento', 'Final'), ('Tratamiento', 'Reaccion'),\n",
    "                       ('Reaccion', 'Final')])\n",
    "\n",
    "cpd_e = TabularCPD(variable='Enfermedad', variable_card=2, values=[[0.6, 0.4]])\n",
    "cpd_tr = TabularCPD(variable='Tratamiento', variable_card=2, values=[[0.5, 0.5]])\n",
    "\n",
    "cpd_r_tr = TabularCPD(variable='Reaccion', variable_card=2, \n",
    "                   values=[[.7,.4], [.3,.6]], #vivir|farmaco vivir|cirugia #morir|farmaco morir|cirugia\n",
    "                   evidence=['Tratamiento'],\n",
    "                   evidence_card=[2])\n",
    "\n",
    "cpd_f_e_tr_r = TabularCPD(variable='Final', variable_card=2, \n",
    "                   values=[[.9,0,.6,0,.3,0,.8,0],  [.1,1,.4,1,.7,1,.2,1]], #vivir|vivir,farmaco,a #morir|\n",
    "                  evidence=['Enfermedad', 'Tratamiento','Reaccion'],\n",
    "                  evidence_card=[2, 2,2])\n",
    "\n",
    "model.add_cpds(cpd_e, cpd_tr, cpd_r_tr, cpd_f_e_tr_r)\n",
    "\n",
    "infer = VariableElimination(model)\n",
    "sampling = BayesianModelSampling(model)"
   ]
  },
  {
   "cell_type": "code",
   "execution_count": 3,
   "metadata": {},
   "outputs": [],
   "source": [
    "class true_causal_model:\n",
    "    def __init__(self,N,infer,sampling,model):\n",
    "        self.num_variables=N\n",
    "        self.infer=infer\n",
    "        self.sampling=sampling\n",
    "        self.true_model=model\n",
    "\n",
    "    def action_simulator(self,chosen_action):\n",
    "        response=dict()\n",
    "        response['Enfermedad']=np.random.randint(0,2)\n",
    "        response['Tratamiento']=chosen_action\n",
    "        response['Reaccion']=self.infer.map_query(['Reaccion'],evidence={'Tratamiento': response['Tratamiento'],'Enfermedad': response['Enfermedad']})['Reaccion']\n",
    "        response['Final']=self.infer.map_query(['Final'],evidence={'Tratamiento': response['Tratamiento'],'Enfermedad': response['Enfermedad'],'Reaccion':response['Reaccion']})['Final']\n",
    "        return(response)"
   ]
  },
  {
   "cell_type": "code",
   "execution_count": 106,
   "metadata": {},
   "outputs": [],
   "source": [
    "class causal_agent:\n",
    "    def __init__(self, true_model,model_simulator, max_variables, max_valores):\n",
    "        self.max_variables=max_variables\n",
    "        self.local_model=true_model ## Este es el directamente creado con PGMPY, no la clase true_causal_model\n",
    "        self.infer=VariableElimination(self.local_model)\n",
    "        self.beliefs=dict()\n",
    "        self.K=max_valores\n",
    "        self.simulator=model_simulator.action_simulator\n",
    "        \n",
    "        self.alpha_enfermedad=np.random.rand(self.K).tolist()\n",
    "        self.alpha_tratamiento=np.random.rand(self.K).tolist()\n",
    "        self.alpha_reaccion_farmaco=np.random.rand(self.K).tolist()\n",
    "        self.alpha_reaccion_cirugia=np.random.rand(self.K).tolist()\n",
    "        self.alpha_A_f_v=np.random.rand(self.K).tolist()\n",
    "        self.alpha_A_f_m=np.random.rand(self.K).tolist()\n",
    "        self.alpha_A_c_v=np.random.rand(self.K).tolist()\n",
    "        self.alpha_A_c_m=np.random.rand(self.K).tolist()\n",
    "        self.alpha_B_f_v=np.random.rand(self.K).tolist()\n",
    "        self.alpha_B_f_m=np.random.rand(self.K).tolist()\n",
    "        self.alpha_B_c_v=np.random.rand(self.K).tolist()\n",
    "        self.alpha_B_c_m=np.random.rand(self.K).tolist()\n",
    "                \n",
    "        self.conteo_enfermedad_A=0\n",
    "        self.conteo_enfermedad_B=0\n",
    "        self.conteo_tratamiento_f=0\n",
    "        self.conteo_tratamiento_c=0\n",
    "        self.conteo_reaccion_v_f=0\n",
    "        self.conteo_reaccion_m_f=0\n",
    "        self.conteo_reaccion_v_c=0\n",
    "        self.conteo_reaccion_m_c=0\n",
    "        \n",
    "        self.conteo_v_A_f_v=0\n",
    "        self.conteo_v_A_f_m=0\n",
    "        self.conteo_v_A_c_v=0\n",
    "        self.conteo_v_A_c_m=0\n",
    "        self.conteo_v_B_f_v=0\n",
    "        self.conteo_v_B_f_m=0\n",
    "        self.conteo_v_B_c_v=0\n",
    "        self.conteo_v_B_c_m=0\n",
    "        self.conteo_m_A_f_v=0\n",
    "        self.conteo_m_A_f_m=0\n",
    "        self.conteo_m_A_c_v=0\n",
    "        self.conteo_m_A_c_m=0\n",
    "        self.conteo_m_B_f_v=0\n",
    "        self.conteo_m_B_f_m=0\n",
    "        self.conteo_m_B_c_v=0\n",
    "        self.conteo_m_B_c_m=0\n",
    "        \n",
    "        self.recompensa=[0]\n",
    "        self.rounds=0\n",
    "    \n",
    "    def belief_formation(self):\n",
    "        alpha_enfermedad=self.alpha_enfermedad\n",
    "        alpha_tratamiento=self.alpha_tratamiento\n",
    "        \n",
    "        alpha_reaccion_farmaco=self.alpha_reaccion_farmaco\n",
    "        alpha_reaccion_cirugia=self.alpha_reaccion_cirugia\n",
    "        \n",
    "        alpha_A_f_v=self.alpha_A_f_v\n",
    "        alpha_A_f_m=self.alpha_A_f_m\n",
    "        alpha_A_c_v=self.alpha_A_c_v\n",
    "        alpha_A_c_m=self.alpha_A_c_m\n",
    "        alpha_B_f_v=self.alpha_B_f_v\n",
    "        alpha_B_f_m=self.alpha_B_f_m\n",
    "        alpha_B_c_v=self.alpha_B_c_v\n",
    "        alpha_B_c_m=self.alpha_B_c_m\n",
    "        \n",
    "        \n",
    "        lista=dirichlet.rvs(alpha_enfermedad,size=1).tolist()\n",
    "        self.beliefs['Enfermedad']=lista[0]\n",
    "        \n",
    "        lista=dirichlet.rvs(alpha_tratamiento,size=1).tolist()\n",
    "        self.beliefs['Tratamiento']=lista[0]\n",
    "        \n",
    "        lista_1=dirichlet.rvs(alpha_reaccion_farmaco,size=1).tolist()\n",
    "        lista_2=dirichlet.rvs(alpha_reaccion_cirugia,size=1).tolist()\n",
    "        lista_3=np.array([lista_1[0],lista_2[0]]).transpose()\n",
    "        lista_4=lista_3.tolist()\n",
    "        self.beliefs['Reaccion|Tratamiento']=lista_4\n",
    "        \n",
    "        lista_1=dirichlet.rvs(alpha_A_f_v,size=1).tolist()\n",
    "        lista_2=dirichlet.rvs(alpha_A_f_m,size=1).tolist()\n",
    "        lista_3=dirichlet.rvs(alpha_A_c_v,size=1).tolist()\n",
    "        lista_4=dirichlet.rvs(alpha_A_c_m,size=1).tolist()\n",
    "        lista_5=dirichlet.rvs(alpha_B_f_v,size=1).tolist()\n",
    "        lista_6=dirichlet.rvs(alpha_B_f_m,size=1).tolist()\n",
    "        lista_7=dirichlet.rvs(alpha_B_c_v,size=1).tolist()\n",
    "        lista_8=dirichlet.rvs(alpha_B_c_m,size=1).tolist()\n",
    "        lista_9=np.array([lista_1[0],lista_2[0],lista_3[0],lista_4[0],lista_5[0],lista_6[0],lista_7[0],lista_8[0]]).transpose()\n",
    "        lista_10=lista_9.tolist()\n",
    "        self.beliefs['Final|Enfermedad, Tratamiento, Reaccion']=lista_10\n",
    "        print(\"Creencias formadas\")\n",
    "        return(self.beliefs)\n",
    "    \n",
    "    def print_beliefs(self):\n",
    "        return(self.beliefs)\n",
    "    \n",
    "    def fix_causal_model(self):\n",
    "        model1=self.local_model\n",
    "        model=model1.copy()\n",
    "        \n",
    "        cpd_e=TabularCPD(variable='Enfermedad', variable_card=2, values=[self.beliefs['Enfermedad']])\n",
    "        cpd_tr=TabularCPD(variable='Tratamiento', variable_card=2, values=[self.beliefs['Tratamiento']])\n",
    "        cpd_r_tr=cpd_r_tr = TabularCPD(variable='Reaccion', variable_card=2, values=self.beliefs['Reaccion|Tratamiento'], evidence=['Tratamiento'],evidence_card=[2])\n",
    "        cpd_f_e_tr_r= TabularCPD(variable='Final', variable_card=2, values=self.beliefs['Final|Enfermedad, Tratamiento, Reaccion'],evidence=['Enfermedad', 'Tratamiento','Reaccion'],evidence_card=[2, 2,2])\n",
    "        model.add_cpds(cpd_e, cpd_tr, cpd_r_tr, cpd_f_e_tr_r)\n",
    "        \n",
    "        if (model.check_model()):\n",
    "            self.local_model=model\n",
    "            self.infer= VariableElimination(model)\n",
    "            print(\"Modelo Causal local creado\")\n",
    "            return(model,infer)\n",
    "        else:\n",
    "            print(\"Error en CPT\")\n",
    "        \n",
    "    def do_calculus(self,final,treatment): \n",
    "        #La distribución P(Final|do(Tratamiento))=P(Final|Enfermedad, Tratamiento, Reaccion)P(Reaccion|Tratamiento)P(Enfermedad)\n",
    "        #Treatment = 1 ó 0\n",
    "        #Quiero que me de la probabilidad de vivir=0 ó =1 dado treatment=0 ó =1\n",
    "        if (treatment==0):\n",
    "            res=self.beliefs['Final|Enfermedad, Tratamiento, Reaccion'][final][0]*self.beliefs['Reaccion|Tratamiento'][0][0]*self.beliefs['Enfermedad'][0] \\\n",
    "            +self.beliefs['Final|Enfermedad, Tratamiento, Reaccion'][final][1]*self.beliefs['Reaccion|Tratamiento'][1][0]*self.beliefs['Enfermedad'][0] \\\n",
    "            +self.beliefs['Final|Enfermedad, Tratamiento, Reaccion'][final][4]*self.beliefs['Reaccion|Tratamiento'][0][0]*self.beliefs['Enfermedad'][1] \\\n",
    "            +self.beliefs['Final|Enfermedad, Tratamiento, Reaccion'][final][5]*self.beliefs['Reaccion|Tratamiento'][1][0]*self.beliefs['Enfermedad'][1]\n",
    "        else:\n",
    "            res=self.beliefs['Final|Enfermedad, Tratamiento, Reaccion'][final][2]*self.beliefs['Reaccion|Tratamiento'][0][1]*self.beliefs['Enfermedad'][0] \\\n",
    "                +self.beliefs['Final|Enfermedad, Tratamiento, Reaccion'][final][3]*self.beliefs['Reaccion|Tratamiento'][1][1]*self.beliefs['Enfermedad'][0] \\\n",
    "                +self.beliefs['Final|Enfermedad, Tratamiento, Reaccion'][final][6]*self.beliefs['Reaccion|Tratamiento'][0][1]*self.beliefs['Enfermedad'][1] \\\n",
    "                +self.beliefs['Final|Enfermedad, Tratamiento, Reaccion'][final][7]*self.beliefs['Reaccion|Tratamiento'][1][1]*self.beliefs['Enfermedad'][1]\n",
    "        return(res)\n",
    "    \n",
    "    def make_decision(self,final=1):\n",
    "        f_0= self.do_calculus(final,0)\n",
    "        f_1=self.do_calculus(final,1)\n",
    "        if (f_0 > f_1):\n",
    "            return(0)\n",
    "        else:\n",
    "            return(1)\n",
    "        \n",
    "    def observing_external(self):\n",
    "        self.rounds=self.rounds+1\n",
    "        chosen_action=self.make_decision()\n",
    "        datos=self.simulator(chosen_action)\n",
    "        self.recompensa.append(datos['Final'])\n",
    "        return(datos)\n",
    "        \n",
    "    #def prob_data_given_beliefs(self,datos):\n",
    "        #Dados los beliefs, que son distribuciones, genero un modelo gráfico causal\n",
    "        #Este modelo gráfico causal da lugar a una distribución intervencional y puedo calcular\n",
    "        #la probabilidad de ver esa observación dadas las dirichlet\n",
    "        #result = [a * 8 for a in self.alpha]\n",
    "        \n",
    "        \n",
    "    def belief_updating(self):\n",
    "        datos=self.observing_external()\n",
    "        lista_datos=list(datos.values())\n",
    "        #self.alpha=list(map(add,self.alpha,self.conteo))\n",
    "        \n",
    "        #Conteo de enfermedad\n",
    "        if(lista_datos[0]==0):\n",
    "            self.conteo_enfermedad_A=self.conteo_enfermedad_A+1\n",
    "            self.alpha_enfermedad[0]=self.alpha_enfermedad[0]+self.conteo_enfermedad_A\n",
    "        else:\n",
    "            self.conteo_enfermedad_B=self.conteo_enfermedad_B+1\n",
    "            self.alpha_enfermedad[1]=self.alpha_enfermedad[0]+self.conteo_enfermedad_B\n",
    "        \n",
    "        #Conteo de tratamiento\n",
    "        if(lista_datos[1]==0):\n",
    "            self.conteo_tratamiento_f=self.conteo_tratamiento_f+1\n",
    "            self.alpha_tratamiento[0]=self.alpha_tratamiento[0]+self.conteo_tratamiento_f\n",
    "        else:\n",
    "            self.conteo_tratamiento_c=self.conteo_tratamiento_c+1\n",
    "            self.alpha_tratamiento[1]=self.alpha_tratamiento[0]+self.conteo_tratamiento_c\n",
    "        \n",
    "        #Conteo de reaccion dado tratamiento\n",
    "        if(lista_datos[1]==0 & lista_datos[2]==0):\n",
    "            self.conteo_reaccion_v_f=self.conteo_reaccion_v_f+1\n",
    "            self.alpha_reaccion_farmaco[0]=self.alpha_reaccion_farmaco[0]+self.conteo_reaccion_v_f\n",
    "        if(lista_datos[1]==0 & lista_datos[2]==1):\n",
    "            self.conteo_reaccion_m_f=self.conteo_reaccion_m_f+1\n",
    "            self.alpha_reaccion_farmaco[1]=self.alpha_reaccion_farmaco[1]+self.conteo_reaccion_m_f\n",
    "        \n",
    "        if(lista_datos[1]==1 & lista_datos[2]==0):\n",
    "            self.conteo_reaccion_v_c=self.conteo_reaccion_v_c+1\n",
    "            self.alpha_reaccion_cirugia[0]+self.conteo_reaccion_v_c\n",
    "        if(lista_datos[1]==0 & lista_datos[2]==1):\n",
    "            self.conteo_reaccion_m_c=self.conteo_reaccion_m_c+1\n",
    "            self.alpha_reaccion_cirugia[1]=self.alpha_reaccion_cirugia[1]+self.conteo_reaccion_m_c\n",
    "        \n",
    "        #Conteo de vivir dado enfermedad, tratamiento y reaccion\n",
    "        #Para vivir\n",
    "        if(lista_datos[0]==0 & lista_datos[1]==0 & lista_datos[2]==0 & lista_datos[3]==0):\n",
    "            self.conteo_v_A_f_v=self.conteo_v_A_f_v+1\n",
    "            self.alpha_A_f_v[0]=self.alpha_A_f_v[0]+self.conteo_v_A_f_v\n",
    "            \n",
    "        if(lista_datos[0]==0 & lista_datos[1]==0 & lista_datos[2]==1 & lista_datos[3]==0):\n",
    "            self.conteo_v_A_f_m=self.conteo_v_A_f_m+1\n",
    "            self.alpha_A_f_m[0]=self.alpha_A_f_m[0]+self.conteo_v_A_f_m\n",
    "            \n",
    "        if(lista_datos[0]==0 & lista_datos[1]==1 & lista_datos[2]==0 & lista_datos[3]==0):\n",
    "            self.conteo_v_A_c_v=self.conteo_v_A_c_v+1\n",
    "            self.alpha_A_c_v[0]=self.alpha_A_c_v[0]+self.conteo_v_A_c_v\n",
    "            \n",
    "        if(lista_datos[0]==0 & lista_datos[1]==1 & lista_datos[2]==1 & lista_datos[3]==0):\n",
    "            self.conteo_v_A_c_m=self.conteo_v_A_c_m+1\n",
    "            self.alpha_A_c_m[0]=self.alpha_A_c_m[0]+self.conteo_v_A_c_m\n",
    "        \n",
    "        if(lista_datos[0]==1 & lista_datos[1]==0 & lista_datos[2]==0 & lista_datos[3]==0):\n",
    "            self.conteo_v_B_f_v=self.conteo_v_B_f_v+1\n",
    "            self.alpha_B_f_v[0]=self.alpha_B_f_v[0]+self.conteo_v_B_f_v\n",
    "        \n",
    "        if(lista_datos[0]==1 & lista_datos[1]==0 & lista_datos[2]==1 & lista_datos[3]==0):\n",
    "            self.conteo_v_B_f_m=self.conteo_v_B_f_m+1\n",
    "            self.alpha_B_f_m[0]=self.alpha_B_f_m[0]+self.conteo_v_B_f_m\n",
    "            \n",
    "        if(lista_datos[0]==1 & lista_datos[1]==1 & lista_datos[2]==0 & lista_datos[3]==0):\n",
    "            self.conteo_v_B_c_v=self.conteo_v_B_c_v+1\n",
    "            self.alpha_B_c_v[0]=self.alpha_B_c_v[0]+self.conteo_v_B_c_v\n",
    "            \n",
    "        if(lista_datos[0]==1 & lista_datos[1]==1 & lista_datos[2]==1 & lista_datos[3]==0):\n",
    "            self.conteo_v_B_c_m=self.conteo_v_B_c_m+1\n",
    "            self.alpha_B_c_m[0]=self.alpha_B_c_m[0]+self.conteo_v_B_c_m\n",
    "        #Para morir\n",
    "        if(lista_datos[0]==0 & lista_datos[1]==0 & lista_datos[2]==0 & lista_datos[3]==1):\n",
    "            self.conteo_m_A_f_v=self.conteo_m_A_f_v+1\n",
    "            self.alpha_A_f_v[1]=self.alpha_A_f_v[1]+self.conteo_m_A_f_v\n",
    "            \n",
    "        if(lista_datos[0]==0 & lista_datos[1]==0 & lista_datos[2]==1 & lista_datos[3]==1):     \n",
    "            self.conteo_m_A_f_m=self.conteo_m_A_f_m+1\n",
    "            self.alpha_A_f_m[1]=self.alpha_A_f_m[1]+self.conteo_m_A_f_m\n",
    "            \n",
    "        if(lista_datos[0]==0 & lista_datos[1]==1 & lista_datos[2]==0 & lista_datos[3]==1):    \n",
    "            self.conteo_m_A_c_v=self.conteo_m_A_c_v+1\n",
    "            self.alpha_A_c_v[1]=self.alpha_A_c_v[1]+self.conteo_m_A_c_v\n",
    "            \n",
    "        if(lista_datos[0]==0 & lista_datos[1]==1 & lista_datos[2]==1 & lista_datos[3]==1):\n",
    "            self.conteo_m_A_c_m=self.conteo_m_A_c_m+1\n",
    "            self.alpha_A_c_m[1]=self.alpha_A_c_m[1]+self.conteo_m_A_c_m\n",
    "            \n",
    "        if(lista_datos[0]==1 & lista_datos[1]==0 & lista_datos[2]==0 & lista_datos[3]==1):\n",
    "            self.conteo_m_B_f_v=self.conteo_m_B_f_v+1\n",
    "            self.alpha_B_f_v[1]=self.alpha_B_f_v[1]+self.conteo_m_B_f_v\n",
    "            \n",
    "        if(lista_datos[0]==1 & lista_datos[1]==0 & lista_datos[2]==1 & lista_datos[3]==1):\n",
    "            self.conteo_m_B_f_m=self.conteo_m_B_f_m+1\n",
    "            self.alpha_B_f_m[1]=self.alpha_B_f_m[1]+self.conteo_m_B_f_m\n",
    "            \n",
    "        if(lista_datos[0]==1 & lista_datos[1]==1 & lista_datos[2]==0 & lista_datos[3]==1):\n",
    "            self.conteo_m_B_c_v=self.conteo_m_B_c_v+1\n",
    "            self.alpha_B_c_v[1]=self.alpha_B_c_v[1]+self.conteo_m_B_c_v\n",
    "            \n",
    "        if(lista_datos[0]==1 & lista_datos[1]==1 & lista_datos[2]==1 & lista_datos[3]==0):\n",
    "            self.conteo_m_B_c_m=self.conteo_m_B_c_m+1\n",
    "            self.alpha_B_c_m[1]=self.alpha_B_c_m[1]+self.conteo_m_B_c_m\n",
    "        \n",
    "        \n",
    "        self.beliefs=self.belief_formation()\n",
    "        \n",
    "    def get_reward(self):\n",
    "        return(self.recompensa)\n",
    "            \n",
    "    "
   ]
  },
  {
   "cell_type": "markdown",
   "metadata": {},
   "source": [
    "### Main "
   ]
  },
  {
   "cell_type": "code",
   "execution_count": 107,
   "metadata": {},
   "outputs": [],
   "source": [
    "modelo=true_causal_model(4,infer,sampling,model)"
   ]
  },
  {
   "cell_type": "code",
   "execution_count": 108,
   "metadata": {},
   "outputs": [],
   "source": [
    "agente=causal_agent(model,modelo,4,2)"
   ]
  },
  {
   "cell_type": "code",
   "execution_count": 109,
   "metadata": {},
   "outputs": [
    {
     "name": "stdout",
     "output_type": "stream",
     "text": [
      "Creencias formadas\n"
     ]
    },
    {
     "data": {
      "text/plain": [
       "{'Enfermedad': [0.5255610752313467, 0.47443892476865335],\n",
       " 'Final|Enfermedad, Tratamiento, Reaccion': [[0.08464625829176006,\n",
       "   0.0005700113368944244,\n",
       "   0.09881973154705269,\n",
       "   0.16962772163626538,\n",
       "   0.9638894920713688,\n",
       "   0.9996888349251768,\n",
       "   0.2532282080203023,\n",
       "   0.0451185989784925],\n",
       "  [0.9153537417082398,\n",
       "   0.9994299886631056,\n",
       "   0.9011802684529474,\n",
       "   0.8303722783637345,\n",
       "   0.03611050792863141,\n",
       "   0.0003111650748232231,\n",
       "   0.7467717919796976,\n",
       "   0.9548814010215074]],\n",
       " 'Reaccion|Tratamiento': [[0.9999999999999927, 1.0],\n",
       "  [7.362353674706603e-15, 1.5985534843700706e-19]],\n",
       " 'Tratamiento': [0.820553307517167, 0.17944669248283293]}"
      ]
     },
     "execution_count": 109,
     "metadata": {},
     "output_type": "execute_result"
    }
   ],
   "source": [
    "agente.belief_formation()"
   ]
  },
  {
   "cell_type": "code",
   "execution_count": 110,
   "metadata": {},
   "outputs": [
    {
     "data": {
      "text/plain": [
       "{'Enfermedad': [0.5255610752313467, 0.47443892476865335],\n",
       " 'Final|Enfermedad, Tratamiento, Reaccion': [[0.08464625829176006,\n",
       "   0.0005700113368944244,\n",
       "   0.09881973154705269,\n",
       "   0.16962772163626538,\n",
       "   0.9638894920713688,\n",
       "   0.9996888349251768,\n",
       "   0.2532282080203023,\n",
       "   0.0451185989784925],\n",
       "  [0.9153537417082398,\n",
       "   0.9994299886631056,\n",
       "   0.9011802684529474,\n",
       "   0.8303722783637345,\n",
       "   0.03611050792863141,\n",
       "   0.0003111650748232231,\n",
       "   0.7467717919796976,\n",
       "   0.9548814010215074]],\n",
       " 'Reaccion|Tratamiento': [[0.9999999999999927, 1.0],\n",
       "  [7.362353674706603e-15, 1.5985534843700706e-19]],\n",
       " 'Tratamiento': [0.820553307517167, 0.17944669248283293]}"
      ]
     },
     "execution_count": 110,
     "metadata": {},
     "output_type": "execute_result"
    }
   ],
   "source": [
    "agente.print_beliefs()"
   ]
  },
  {
   "cell_type": "code",
   "execution_count": null,
   "metadata": {},
   "outputs": [],
   "source": []
  },
  {
   "cell_type": "code",
   "execution_count": 111,
   "metadata": {},
   "outputs": [
    {
     "name": "stderr",
     "output_type": "stream",
     "text": [
      "WARNING:root:Replacing existing CPD for Enfermedad\n",
      "WARNING:root:Replacing existing CPD for Tratamiento\n",
      "WARNING:root:Replacing existing CPD for Reaccion\n",
      "WARNING:root:Replacing existing CPD for Final\n"
     ]
    },
    {
     "name": "stdout",
     "output_type": "stream",
     "text": [
      "Modelo Causal local creado\n"
     ]
    },
    {
     "data": {
      "text/plain": [
       "(<pgmpy.models.BayesianModel.BayesianModel at 0x10d1f5f28>,\n",
       " <pgmpy.inference.ExactInference.VariableElimination at 0x10bc01e10>)"
      ]
     },
     "execution_count": 111,
     "metadata": {},
     "output_type": "execute_result"
    }
   ],
   "source": [
    "agente.fix_causal_model()"
   ]
  },
  {
   "cell_type": "code",
   "execution_count": 112,
   "metadata": {},
   "outputs": [
    {
     "name": "stdout",
     "output_type": "stream",
     "text": [
      "Creencias formadas\n"
     ]
    }
   ],
   "source": [
    "agente.belief_updating()"
   ]
  },
  {
   "cell_type": "code",
   "execution_count": 113,
   "metadata": {},
   "outputs": [
    {
     "data": {
      "text/plain": [
       "{'Enfermedad': [0.9519180791125786, 0.04808192088742129],\n",
       " 'Final|Enfermedad, Tratamiento, Reaccion': [[0.41699561221534776,\n",
       "   1.1704542239092254e-12,\n",
       "   0.16804721019056426,\n",
       "   0.9900851174857838,\n",
       "   0.9769735554646464,\n",
       "   0.5724296439098879,\n",
       "   0.41371758745075227,\n",
       "   0.007766282374698364],\n",
       "  [0.5830043877846522,\n",
       "   0.9999999999988297,\n",
       "   0.8319527898094359,\n",
       "   0.009914882514216357,\n",
       "   0.02302644453535359,\n",
       "   0.42757035609011207,\n",
       "   0.5862824125492478,\n",
       "   0.9922337176253015]],\n",
       " 'Reaccion|Tratamiento': [[0.9744790842286116, 0.9999999999991703],\n",
       "  [0.025520915771388406, 8.296425109690643e-13]],\n",
       " 'Tratamiento': [0.3222668334742259, 0.6777331665257741]}"
      ]
     },
     "execution_count": 113,
     "metadata": {},
     "output_type": "execute_result"
    }
   ],
   "source": [
    "agente.print_beliefs()"
   ]
  },
  {
   "cell_type": "code",
   "execution_count": 114,
   "metadata": {},
   "outputs": [
    {
     "data": {
      "text/plain": [
       "[0, 1]"
      ]
     },
     "execution_count": 114,
     "metadata": {},
     "output_type": "execute_result"
    }
   ],
   "source": [
    "agente.get_reward()"
   ]
  },
  {
   "cell_type": "code",
   "execution_count": 118,
   "metadata": {},
   "outputs": [
    {
     "name": "stderr",
     "output_type": "stream",
     "text": [
      "WARNING:root:Replacing existing CPD for Enfermedad\n",
      "WARNING:root:Replacing existing CPD for Tratamiento\n",
      "WARNING:root:Replacing existing CPD for Reaccion\n",
      "WARNING:root:Replacing existing CPD for Final\n",
      "WARNING:root:Replacing existing CPD for Enfermedad\n",
      "WARNING:root:Replacing existing CPD for Tratamiento\n",
      "WARNING:root:Replacing existing CPD for Reaccion\n",
      "WARNING:root:Replacing existing CPD for Final\n",
      "WARNING:root:Replacing existing CPD for Enfermedad\n",
      "WARNING:root:Replacing existing CPD for Tratamiento\n",
      "WARNING:root:Replacing existing CPD for Reaccion\n",
      "WARNING:root:Replacing existing CPD for Final\n",
      "WARNING:root:Replacing existing CPD for Enfermedad\n",
      "WARNING:root:Replacing existing CPD for Tratamiento\n",
      "WARNING:root:Replacing existing CPD for Reaccion\n",
      "WARNING:root:Replacing existing CPD for Final\n",
      "WARNING:root:Replacing existing CPD for Enfermedad\n",
      "WARNING:root:Replacing existing CPD for Tratamiento\n",
      "WARNING:root:Replacing existing CPD for Reaccion\n",
      "WARNING:root:Replacing existing CPD for Final\n",
      "WARNING:root:Replacing existing CPD for Enfermedad\n",
      "WARNING:root:Replacing existing CPD for Tratamiento\n",
      "WARNING:root:Replacing existing CPD for Reaccion\n",
      "WARNING:root:Replacing existing CPD for Final\n"
     ]
    },
    {
     "name": "stdout",
     "output_type": "stream",
     "text": [
      "Creencias formadas\n",
      "Modelo Causal local creado\n",
      "Creencias formadas\n",
      "Modelo Causal local creado\n",
      "Creencias formadas\n",
      "Modelo Causal local creado\n",
      "Creencias formadas\n",
      "Modelo Causal local creado\n",
      "Creencias formadas\n",
      "Modelo Causal local creado\n",
      "Creencias formadas\n"
     ]
    },
    {
     "name": "stderr",
     "output_type": "stream",
     "text": [
      "WARNING:root:Replacing existing CPD for Enfermedad\n",
      "WARNING:root:Replacing existing CPD for Tratamiento\n",
      "WARNING:root:Replacing existing CPD for Reaccion\n",
      "WARNING:root:Replacing existing CPD for Final\n",
      "WARNING:root:Replacing existing CPD for Enfermedad\n",
      "WARNING:root:Replacing existing CPD for Tratamiento\n",
      "WARNING:root:Replacing existing CPD for Reaccion\n",
      "WARNING:root:Replacing existing CPD for Final\n",
      "WARNING:root:Replacing existing CPD for Enfermedad\n",
      "WARNING:root:Replacing existing CPD for Tratamiento\n",
      "WARNING:root:Replacing existing CPD for Reaccion\n",
      "WARNING:root:Replacing existing CPD for Final\n",
      "WARNING:root:Replacing existing CPD for Enfermedad\n",
      "WARNING:root:Replacing existing CPD for Tratamiento\n",
      "WARNING:root:Replacing existing CPD for Reaccion\n",
      "WARNING:root:Replacing existing CPD for Final\n",
      "WARNING:root:Replacing existing CPD for Enfermedad\n",
      "WARNING:root:Replacing existing CPD for Tratamiento\n",
      "WARNING:root:Replacing existing CPD for Reaccion\n",
      "WARNING:root:Replacing existing CPD for Final\n",
      "WARNING:root:Replacing existing CPD for Enfermedad\n",
      "WARNING:root:Replacing existing CPD for Tratamiento\n",
      "WARNING:root:Replacing existing CPD for Reaccion\n",
      "WARNING:root:Replacing existing CPD for Final\n",
      "WARNING:root:Replacing existing CPD for Enfermedad\n",
      "WARNING:root:Replacing existing CPD for Tratamiento\n",
      "WARNING:root:Replacing existing CPD for Reaccion\n",
      "WARNING:root:Replacing existing CPD for Final\n"
     ]
    },
    {
     "name": "stdout",
     "output_type": "stream",
     "text": [
      "Modelo Causal local creado\n",
      "Creencias formadas\n",
      "Modelo Causal local creado\n",
      "Creencias formadas\n",
      "Modelo Causal local creado\n",
      "Creencias formadas\n",
      "Modelo Causal local creado\n",
      "Creencias formadas\n",
      "Modelo Causal local creado\n",
      "Creencias formadas\n",
      "Modelo Causal local creado\n",
      "Creencias formadas\n",
      "Modelo Causal local creado\n",
      "Creencias formadas\n",
      "Modelo Causal local creado"
     ]
    },
    {
     "name": "stderr",
     "output_type": "stream",
     "text": [
      "WARNING:root:Replacing existing CPD for Enfermedad\n",
      "WARNING:root:Replacing existing CPD for Tratamiento\n",
      "WARNING:root:Replacing existing CPD for Reaccion\n",
      "WARNING:root:Replacing existing CPD for Final\n",
      "WARNING:root:Replacing existing CPD for Enfermedad\n",
      "WARNING:root:Replacing existing CPD for Tratamiento\n",
      "WARNING:root:Replacing existing CPD for Reaccion\n",
      "WARNING:root:Replacing existing CPD for Final\n",
      "WARNING:root:Replacing existing CPD for Enfermedad\n",
      "WARNING:root:Replacing existing CPD for Tratamiento\n",
      "WARNING:root:Replacing existing CPD for Reaccion\n",
      "WARNING:root:Replacing existing CPD for Final\n",
      "WARNING:root:Replacing existing CPD for Enfermedad\n",
      "WARNING:root:Replacing existing CPD for Tratamiento\n",
      "WARNING:root:Replacing existing CPD for Reaccion\n",
      "WARNING:root:Replacing existing CPD for Final\n",
      "WARNING:root:Replacing existing CPD for Enfermedad\n",
      "WARNING:root:Replacing existing CPD for Tratamiento\n",
      "WARNING:root:Replacing existing CPD for Reaccion\n",
      "WARNING:root:Replacing existing CPD for Final\n",
      "WARNING:root:Replacing existing CPD for Enfermedad\n",
      "WARNING:root:Replacing existing CPD for Tratamiento\n",
      "WARNING:root:Replacing existing CPD for Reaccion\n",
      "WARNING:root:Replacing existing CPD for Final\n"
     ]
    },
    {
     "name": "stdout",
     "output_type": "stream",
     "text": [
      "\n",
      "Creencias formadas\n",
      "Modelo Causal local creado\n",
      "Creencias formadas\n",
      "Modelo Causal local creado\n",
      "Creencias formadas\n",
      "Modelo Causal local creado\n",
      "Creencias formadas\n",
      "Modelo Causal local creado\n",
      "Creencias formadas\n",
      "Modelo Causal local creado\n",
      "Creencias formadas\n",
      "Modelo Causal local creado\n"
     ]
    },
    {
     "name": "stderr",
     "output_type": "stream",
     "text": [
      "WARNING:root:Replacing existing CPD for Enfermedad\n",
      "WARNING:root:Replacing existing CPD for Tratamiento\n",
      "WARNING:root:Replacing existing CPD for Reaccion\n",
      "WARNING:root:Replacing existing CPD for Final\n",
      "WARNING:root:Replacing existing CPD for Enfermedad\n",
      "WARNING:root:Replacing existing CPD for Tratamiento\n",
      "WARNING:root:Replacing existing CPD for Reaccion\n",
      "WARNING:root:Replacing existing CPD for Final\n",
      "WARNING:root:Replacing existing CPD for Enfermedad\n",
      "WARNING:root:Replacing existing CPD for Tratamiento\n",
      "WARNING:root:Replacing existing CPD for Reaccion\n",
      "WARNING:root:Replacing existing CPD for Final\n",
      "WARNING:root:Replacing existing CPD for Enfermedad\n",
      "WARNING:root:Replacing existing CPD for Tratamiento\n",
      "WARNING:root:Replacing existing CPD for Reaccion\n",
      "WARNING:root:Replacing existing CPD for Final\n",
      "WARNING:root:Replacing existing CPD for Enfermedad\n",
      "WARNING:root:Replacing existing CPD for Tratamiento\n",
      "WARNING:root:Replacing existing CPD for Reaccion\n",
      "WARNING:root:Replacing existing CPD for Final\n",
      "WARNING:root:Replacing existing CPD for Enfermedad\n",
      "WARNING:root:Replacing existing CPD for Tratamiento\n",
      "WARNING:root:Replacing existing CPD for Reaccion\n",
      "WARNING:root:Replacing existing CPD for Final\n"
     ]
    },
    {
     "name": "stdout",
     "output_type": "stream",
     "text": [
      "Creencias formadas\n",
      "Modelo Causal local creado\n",
      "Creencias formadas\n",
      "Modelo Causal local creado\n",
      "Creencias formadas\n",
      "Modelo Causal local creado\n",
      "Creencias formadas\n",
      "Modelo Causal local creado\n",
      "Creencias formadas\n",
      "Modelo Causal local creado\n",
      "Creencias formadas\n"
     ]
    },
    {
     "name": "stderr",
     "output_type": "stream",
     "text": [
      "WARNING:root:Replacing existing CPD for Enfermedad\n",
      "WARNING:root:Replacing existing CPD for Tratamiento\n",
      "WARNING:root:Replacing existing CPD for Reaccion\n",
      "WARNING:root:Replacing existing CPD for Final\n",
      "WARNING:root:Replacing existing CPD for Enfermedad\n",
      "WARNING:root:Replacing existing CPD for Tratamiento\n",
      "WARNING:root:Replacing existing CPD for Reaccion\n",
      "WARNING:root:Replacing existing CPD for Final\n",
      "WARNING:root:Replacing existing CPD for Enfermedad\n",
      "WARNING:root:Replacing existing CPD for Tratamiento\n",
      "WARNING:root:Replacing existing CPD for Reaccion\n",
      "WARNING:root:Replacing existing CPD for Final\n",
      "WARNING:root:Replacing existing CPD for Enfermedad\n",
      "WARNING:root:Replacing existing CPD for Tratamiento\n",
      "WARNING:root:Replacing existing CPD for Reaccion\n",
      "WARNING:root:Replacing existing CPD for Final\n",
      "WARNING:root:Replacing existing CPD for Enfermedad\n",
      "WARNING:root:Replacing existing CPD for Tratamiento\n",
      "WARNING:root:Replacing existing CPD for Reaccion\n",
      "WARNING:root:Replacing existing CPD for Final\n",
      "WARNING:root:Replacing existing CPD for Enfermedad\n",
      "WARNING:root:Replacing existing CPD for Tratamiento\n",
      "WARNING:root:Replacing existing CPD for Reaccion\n",
      "WARNING:root:Replacing existing CPD for Final\n",
      "WARNING:root:Replacing existing CPD for Enfermedad\n",
      "WARNING:root:Replacing existing CPD for Tratamiento\n",
      "WARNING:root:Replacing existing CPD for Reaccion\n",
      "WARNING:root:Replacing existing CPD for Final\n"
     ]
    },
    {
     "name": "stdout",
     "output_type": "stream",
     "text": [
      "Modelo Causal local creado\n",
      "Creencias formadas\n",
      "Modelo Causal local creado\n",
      "Creencias formadas\n",
      "Modelo Causal local creado\n",
      "Creencias formadas\n",
      "Modelo Causal local creado\n",
      "Creencias formadas\n",
      "Modelo Causal local creado\n",
      "Creencias formadas\n",
      "Modelo Causal local creado\n",
      "Creencias formadas\n",
      "Modelo Causal local creado\n",
      "Creencias formadas\n",
      "Modelo Causal local creado\n"
     ]
    },
    {
     "name": "stderr",
     "output_type": "stream",
     "text": [
      "WARNING:root:Replacing existing CPD for Enfermedad\n",
      "WARNING:root:Replacing existing CPD for Tratamiento\n",
      "WARNING:root:Replacing existing CPD for Reaccion\n",
      "WARNING:root:Replacing existing CPD for Final\n",
      "WARNING:root:Replacing existing CPD for Enfermedad\n",
      "WARNING:root:Replacing existing CPD for Tratamiento\n",
      "WARNING:root:Replacing existing CPD for Reaccion\n",
      "WARNING:root:Replacing existing CPD for Final\n",
      "WARNING:root:Replacing existing CPD for Enfermedad\n",
      "WARNING:root:Replacing existing CPD for Tratamiento\n",
      "WARNING:root:Replacing existing CPD for Reaccion\n",
      "WARNING:root:Replacing existing CPD for Final\n",
      "WARNING:root:Replacing existing CPD for Enfermedad\n",
      "WARNING:root:Replacing existing CPD for Tratamiento\n",
      "WARNING:root:Replacing existing CPD for Reaccion\n",
      "WARNING:root:Replacing existing CPD for Final\n",
      "WARNING:root:Replacing existing CPD for Enfermedad\n",
      "WARNING:root:Replacing existing CPD for Tratamiento\n",
      "WARNING:root:Replacing existing CPD for Reaccion\n",
      "WARNING:root:Replacing existing CPD for Final\n",
      "WARNING:root:Replacing existing CPD for Enfermedad\n",
      "WARNING:root:Replacing existing CPD for Tratamiento\n",
      "WARNING:root:Replacing existing CPD for Reaccion\n",
      "WARNING:root:Replacing existing CPD for Final\n"
     ]
    },
    {
     "name": "stdout",
     "output_type": "stream",
     "text": [
      "Creencias formadas\n",
      "Modelo Causal local creado\n",
      "Creencias formadas\n",
      "Modelo Causal local creado\n",
      "Creencias formadas\n",
      "Modelo Causal local creado\n",
      "Creencias formadas\n",
      "Modelo Causal local creado\n",
      "Creencias formadas\n",
      "Modelo Causal local creado\n",
      "Creencias formadas\n",
      "Modelo Causal local creado\n"
     ]
    },
    {
     "name": "stderr",
     "output_type": "stream",
     "text": [
      "WARNING:root:Replacing existing CPD for Enfermedad\n",
      "WARNING:root:Replacing existing CPD for Tratamiento\n",
      "WARNING:root:Replacing existing CPD for Reaccion\n",
      "WARNING:root:Replacing existing CPD for Final\n",
      "WARNING:root:Replacing existing CPD for Enfermedad\n",
      "WARNING:root:Replacing existing CPD for Tratamiento\n",
      "WARNING:root:Replacing existing CPD for Reaccion\n",
      "WARNING:root:Replacing existing CPD for Final\n",
      "WARNING:root:Replacing existing CPD for Enfermedad\n",
      "WARNING:root:Replacing existing CPD for Tratamiento\n",
      "WARNING:root:Replacing existing CPD for Reaccion\n",
      "WARNING:root:Replacing existing CPD for Final\n",
      "WARNING:root:Replacing existing CPD for Enfermedad\n",
      "WARNING:root:Replacing existing CPD for Tratamiento\n",
      "WARNING:root:Replacing existing CPD for Reaccion\n",
      "WARNING:root:Replacing existing CPD for Final\n",
      "WARNING:root:Replacing existing CPD for Enfermedad\n",
      "WARNING:root:Replacing existing CPD for Tratamiento\n",
      "WARNING:root:Replacing existing CPD for Reaccion\n",
      "WARNING:root:Replacing existing CPD for Final\n",
      "WARNING:root:Replacing existing CPD for Enfermedad\n",
      "WARNING:root:Replacing existing CPD for Tratamiento\n",
      "WARNING:root:Replacing existing CPD for Reaccion\n",
      "WARNING:root:Replacing existing CPD for Final\n",
      "WARNING:root:Replacing existing CPD for Enfermedad\n",
      "WARNING:root:Replacing existing CPD for Tratamiento\n",
      "WARNING:root:Replacing existing CPD for Reaccion\n",
      "WARNING:root:Replacing existing CPD for Final\n"
     ]
    },
    {
     "name": "stdout",
     "output_type": "stream",
     "text": [
      "Creencias formadas\n",
      "Modelo Causal local creado\n",
      "Creencias formadas\n",
      "Modelo Causal local creado\n",
      "Creencias formadas\n",
      "Modelo Causal local creado\n",
      "Creencias formadas\n",
      "Modelo Causal local creado\n",
      "Creencias formadas\n",
      "Modelo Causal local creado\n",
      "Creencias formadas\n",
      "Modelo Causal local creado\n",
      "Creencias formadas\n",
      "Modelo Causal local creado"
     ]
    },
    {
     "name": "stderr",
     "output_type": "stream",
     "text": [
      "WARNING:root:Replacing existing CPD for Enfermedad\n",
      "WARNING:root:Replacing existing CPD for Tratamiento\n",
      "WARNING:root:Replacing existing CPD for Reaccion\n",
      "WARNING:root:Replacing existing CPD for Final\n",
      "WARNING:root:Replacing existing CPD for Enfermedad\n",
      "WARNING:root:Replacing existing CPD for Tratamiento\n",
      "WARNING:root:Replacing existing CPD for Reaccion\n",
      "WARNING:root:Replacing existing CPD for Final\n",
      "WARNING:root:Replacing existing CPD for Enfermedad\n",
      "WARNING:root:Replacing existing CPD for Tratamiento\n",
      "WARNING:root:Replacing existing CPD for Reaccion\n",
      "WARNING:root:Replacing existing CPD for Final\n",
      "WARNING:root:Replacing existing CPD for Enfermedad\n",
      "WARNING:root:Replacing existing CPD for Tratamiento\n",
      "WARNING:root:Replacing existing CPD for Reaccion\n",
      "WARNING:root:Replacing existing CPD for Final\n",
      "WARNING:root:Replacing existing CPD for Enfermedad\n",
      "WARNING:root:Replacing existing CPD for Tratamiento\n",
      "WARNING:root:Replacing existing CPD for Reaccion\n",
      "WARNING:root:Replacing existing CPD for Final\n"
     ]
    },
    {
     "name": "stdout",
     "output_type": "stream",
     "text": [
      "\n",
      "Creencias formadas\n",
      "Modelo Causal local creado\n",
      "Creencias formadas\n",
      "Modelo Causal local creado\n",
      "Creencias formadas\n",
      "Modelo Causal local creado\n",
      "Creencias formadas\n",
      "Modelo Causal local creado\n",
      "Creencias formadas\n",
      "Modelo Causal local creado\n",
      "Creencias formadas\n"
     ]
    }
   ],
   "source": [
    "N=50\n",
    "modelo=true_causal_model(4,infer,sampling,model)\n",
    "agente=causal_agent(model,modelo,4,2)\n",
    "agente.belief_formation()\n",
    "recompensa=np.zeros(N,dtype='float')\n",
    "recompensa_promedio=np.zeros(N,dtype='float')\n",
    "for i in range(N):\n",
    "    agente.fix_causal_model()\n",
    "    agente.belief_updating()\n",
    "recompensas=agente.get_reward()\n"
   ]
  },
  {
   "cell_type": "code",
   "execution_count": null,
   "metadata": {},
   "outputs": [],
   "source": []
  },
  {
   "cell_type": "code",
   "execution_count": 119,
   "metadata": {},
   "outputs": [
    {
     "data": {
      "text/plain": [
       "(0, 50)"
      ]
     },
     "execution_count": 119,
     "metadata": {},
     "output_type": "execute_result"
    },
    {
     "data": {
      "image/png": "[encoded data removed]",
      "text/plain": [
       "<matplotlib.figure.Figure at 0x10c6dc080>"
      ]
     },
     "metadata": {},
     "output_type": "display_data"
    }
   ],
   "source": [
    "plt.plot(agente.get_reward())\n",
    "plt.xlim([1, N])\n",
    "plt.ylim([0, N])"
   ]
  },
  {
   "cell_type": "code",
   "execution_count": 127,
   "metadata": {},
   "outputs": [
    {
     "data": {
      "text/plain": [
       "Text(0,0.5,'Average Reward')"
      ]
     },
     "execution_count": 127,
     "metadata": {},
     "output_type": "execute_result"
    },
    {
     "data": {
      "image/png": "[encoded data removed]",
      "text/plain": [
       "<matplotlib.figure.Figure at 0x10d43cba8>"
      ]
     },
     "metadata": {},
     "output_type": "display_data"
    }
   ],
   "source": [
    "recompensa_acumulada=np.cumsum(agente.get_reward())\n",
    "recompensa_promedio=recompensa_acumulada/N\n",
    "plt.plot(recompensa_promedio)\n",
    "plt.xlabel(\"Rounds\")\n",
    "plt.ylabel(\"Average Reward\".format())"
   ]
  },
  {
   "cell_type": "code",
   "execution_count": 125,
   "metadata": {},
   "outputs": [
    {
     "data": {
      "text/plain": [
       "array([ 0,  1,  2,  3,  4,  4,  5,  6,  6,  7,  8,  9, 10, 11, 12, 13, 14,\n",
       "       15, 16, 17, 18, 19, 20, 21, 22, 22, 23, 24, 25, 26, 27, 28, 28, 29,\n",
       "       30, 31, 32, 33, 34, 35, 36, 37, 38, 39, 40, 41, 42, 43, 44, 45, 46])"
      ]
     },
     "execution_count": 125,
     "metadata": {},
     "output_type": "execute_result"
    }
   ],
   "source": [
    "recompensa_acumulada"
   ]
  },
  {
   "cell_type": "code",
   "execution_count": 126,
   "metadata": {},
   "outputs": [
    {
     "data": {
      "text/plain": [
       "[0,\n",
       " 1,\n",
       " 1,\n",
       " 1,\n",
       " 1,\n",
       " 0,\n",
       " 1,\n",
       " 1,\n",
       " 0,\n",
       " 1,\n",
       " 1,\n",
       " 1,\n",
       " 1,\n",
       " 1,\n",
       " 1,\n",
       " 1,\n",
       " 1,\n",
       " 1,\n",
       " 1,\n",
       " 1,\n",
       " 1,\n",
       " 1,\n",
       " 1,\n",
       " 1,\n",
       " 1,\n",
       " 0,\n",
       " 1,\n",
       " 1,\n",
       " 1,\n",
       " 1,\n",
       " 1,\n",
       " 1,\n",
       " 0,\n",
       " 1,\n",
       " 1,\n",
       " 1,\n",
       " 1,\n",
       " 1,\n",
       " 1,\n",
       " 1,\n",
       " 1,\n",
       " 1,\n",
       " 1,\n",
       " 1,\n",
       " 1,\n",
       " 1,\n",
       " 1,\n",
       " 1,\n",
       " 1,\n",
       " 1,\n",
       " 1]"
      ]
     },
     "execution_count": 126,
     "metadata": {},
     "output_type": "execute_result"
    }
   ],
   "source": [
    "agente.get_reward()"
   ]
  },
  {
   "cell_type": "code",
   "execution_count": 85,
   "metadata": {},
   "outputs": [
    {
     "data": {
      "text/plain": [
       "array([ 0.1,  0.2,  0.3,  0.4,  0.5,  0.6,  0.7,  0.8,  0.9,  1. ])"
      ]
     },
     "execution_count": 85,
     "metadata": {},
     "output_type": "execute_result"
    }
   ],
   "source": []
  },
  {
   "cell_type": "code",
   "execution_count": null,
   "metadata": {},
   "outputs": [],
   "source": []
  },
  {
   "cell_type": "code",
   "execution_count": null,
   "metadata": {},
   "outputs": [],
   "source": []
  },
  {
   "cell_type": "code",
   "execution_count": null,
   "metadata": {},
   "outputs": [],
   "source": []
  },
  {
   "cell_type": "code",
   "execution_count": null,
   "metadata": {},
   "outputs": [],
   "source": []
  }
 ],
 "metadata": {
  "kernelspec": {
   "display_name": "Python 3",
   "language": "python",
   "name": "python3"
  },
  "language_info": {
   "codemirror_mode": {
    "name": "ipython",
    "version": 3
   },
   "file_extension": ".py",
   "mimetype": "text/x-python",
   "name": "python",
   "nbconvert_exporter": "python",
   "pygments_lexer": "ipython3",
   "version": "3.6.4"
  }
 },
 "nbformat": 4,
 "nbformat_minor": 2
}
