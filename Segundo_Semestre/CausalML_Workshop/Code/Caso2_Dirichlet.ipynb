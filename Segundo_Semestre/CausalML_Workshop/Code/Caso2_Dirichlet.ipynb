{
 "cells": [
  {
   "cell_type": "code",
   "execution_count": 1,
   "metadata": {},
   "outputs": [],
   "source": [
    "import numpy as np\n",
    "import networkx as nx\n",
    "from pgmpy.models import BayesianModel\n",
    "from pgmpy.factors.discrete import TabularCPD\n",
    "from pgmpy.inference import VariableElimination\n",
    "from pgmpy.sampling import BayesianModelSampling\n",
    "from scipy.stats import beta, dirichlet\n",
    "from operator import add\n",
    "import matplotlib.pyplot as plt"
   ]
  },
  {
   "cell_type": "markdown",
   "metadata": {},
   "source": [
    "## True Causal Model From Environment:"
   ]
  },
  {
   "cell_type": "code",
   "execution_count": 2,
   "metadata": {},
   "outputs": [],
   "source": [
    "model = BayesianModel([('Enfermedad', 'Final'), ('Tratamiento', 'Final'), ('Tratamiento', 'Reaccion'),\n",
    "                       ('Reaccion', 'Final')])\n",
    "\n",
    "cpd_e = TabularCPD(variable='Enfermedad', variable_card=2, values=[[0.6, 0.4]])\n",
    "cpd_tr = TabularCPD(variable='Tratamiento', variable_card=2, values=[[0.5, 0.5]])\n",
    "\n",
    "cpd_r_tr = TabularCPD(variable='Reaccion', variable_card=2, \n",
    "                   values=[[.7,.4], [.3,.6]], #vivir|farmaco vivir|cirugia #morir|farmaco morir|cirugia\n",
    "                   evidence=['Tratamiento'],\n",
    "                   evidence_card=[2])\n",
    "\n",
    "cpd_f_e_tr_r = TabularCPD(variable='Final', variable_card=2, \n",
    "                   values=[[.9,0,.6,0,.3,0,.8,0],  [.1,1,.4,1,.7,1,.2,1]], #vivir|vivir,farmaco,a #morir|\n",
    "                  evidence=['Enfermedad', 'Tratamiento','Reaccion'],\n",
    "                  evidence_card=[2, 2,2])\n",
    "\n",
    "model.add_cpds(cpd_e, cpd_tr, cpd_r_tr, cpd_f_e_tr_r)\n",
    "\n",
    "infer = VariableElimination(model)\n",
    "sampling = BayesianModelSampling(model)"
   ]
  },
  {
   "cell_type": "code",
   "execution_count": 3,
   "metadata": {},
   "outputs": [],
   "source": [
    "class true_causal_model:\n",
    "    def __init__(self,N,infer,sampling,model):\n",
    "        self.num_variables=N\n",
    "        self.infer=infer\n",
    "        self.sampling=sampling\n",
    "        self.true_model=model\n",
    "\n",
    "    def action_simulator(self,chosen_action):\n",
    "        response=dict()\n",
    "        response['Enfermedad']=np.random.randint(0,2)\n",
    "        response['Tratamiento']=chosen_action\n",
    "        response['Reaccion']=self.infer.map_query(['Reaccion'],evidence={'Tratamiento': response['Tratamiento'],'Enfermedad': response['Enfermedad']})['Reaccion']\n",
    "        response['Final']=self.infer.map_query(['Final'],evidence={'Tratamiento': response['Tratamiento'],'Enfermedad': response['Enfermedad'],'Reaccion':response['Reaccion']})['Final']\n",
    "        return(response)"
   ]
  },
  {
   "cell_type": "code",
   "execution_count": 138,
   "metadata": {},
   "outputs": [],
   "source": [
    "class fully_informed_agent:\n",
    "    def __init__(self):\n",
    "        self.beliefs=dict()\n",
    "        self.beliefs['Enfermedad']=[0.6, 0.4]\n",
    "        self.beliefs['Tratamiento']=[0.5, 0.5]\n",
    "        self.beliefs['Reaccion|Tratamiento']=[[.7,.4], [.3,.6]]\n",
    "        self.beliefs['Final|Enfermedad, Tratamiento, Reaccion']=[[.9,0.0,.6,0.0,.3,0.0,.8,0.0],  [.1,1.0,.4,1.0,.7,1.0,.2,1.0]]\n",
    "        \n",
    "    def do_calculus(self,final,treatment): \n",
    "        #La distribución P(Final|do(Tratamiento))=P(Final|Enfermedad, Tratamiento, Reaccion)P(Reaccion|Tratamiento)P(Enfermedad)\n",
    "        #Treatment = 1 ó 0\n",
    "        #Quiero que me de la probabilidad de vivir=0 ó =1 dado treatment=0 ó =1\n",
    "        if (treatment==0):\n",
    "            res=self.beliefs['Final|Enfermedad, Tratamiento, Reaccion'][final][0]*self.beliefs['Reaccion|Tratamiento'][0][0]*self.beliefs['Enfermedad'][0] \\\n",
    "            +self.beliefs['Final|Enfermedad, Tratamiento, Reaccion'][final][1]*self.beliefs['Reaccion|Tratamiento'][1][0]*self.beliefs['Enfermedad'][0] \\\n",
    "            +self.beliefs['Final|Enfermedad, Tratamiento, Reaccion'][final][4]*self.beliefs['Reaccion|Tratamiento'][0][0]*self.beliefs['Enfermedad'][1] \\\n",
    "            +self.beliefs['Final|Enfermedad, Tratamiento, Reaccion'][final][5]*self.beliefs['Reaccion|Tratamiento'][1][0]*self.beliefs['Enfermedad'][1]\n",
    "        else:\n",
    "            res=self.beliefs['Final|Enfermedad, Tratamiento, Reaccion'][final][2]*self.beliefs['Reaccion|Tratamiento'][0][1]*self.beliefs['Enfermedad'][0] \\\n",
    "                +self.beliefs['Final|Enfermedad, Tratamiento, Reaccion'][final][3]*self.beliefs['Reaccion|Tratamiento'][1][1]*self.beliefs['Enfermedad'][0] \\\n",
    "                +self.beliefs['Final|Enfermedad, Tratamiento, Reaccion'][final][6]*self.beliefs['Reaccion|Tratamiento'][0][1]*self.beliefs['Enfermedad'][1] \\\n",
    "                +self.beliefs['Final|Enfermedad, Tratamiento, Reaccion'][final][7]*self.beliefs['Reaccion|Tratamiento'][1][1]*self.beliefs['Enfermedad'][1]\n",
    "        return(res)\n",
    "    \n",
    "    def make_decision(self,final=1):\n",
    "        f_0= self.do_calculus(final,0)\n",
    "        f_1=self.do_calculus(final,1)\n",
    "        if (f_0 > f_1):\n",
    "            return(0)\n",
    "        else:\n",
    "            return(1)"
   ]
  },
  {
   "cell_type": "code",
   "execution_count": 4,
   "metadata": {},
   "outputs": [],
   "source": [
    "class causal_agent:\n",
    "    def __init__(self, true_model,model_simulator, max_variables, max_valores):\n",
    "        self.max_variables=max_variables\n",
    "        self.local_model=true_model ## Este es el directamente creado con PGMPY, no la clase true_causal_model\n",
    "        self.infer=VariableElimination(self.local_model)\n",
    "        self.beliefs=dict()\n",
    "        self.K=max_valores\n",
    "        self.simulator=model_simulator.action_simulator\n",
    "        \n",
    "        self.alpha_enfermedad=np.random.rand(self.K).tolist()\n",
    "        self.alpha_tratamiento=np.random.rand(self.K).tolist()\n",
    "        self.alpha_reaccion_farmaco=np.random.rand(self.K).tolist()\n",
    "        self.alpha_reaccion_cirugia=np.random.rand(self.K).tolist()\n",
    "        self.alpha_A_f_v=np.random.rand(self.K).tolist()\n",
    "        self.alpha_A_f_m=np.random.rand(self.K).tolist()\n",
    "        self.alpha_A_c_v=np.random.rand(self.K).tolist()\n",
    "        self.alpha_A_c_m=np.random.rand(self.K).tolist()\n",
    "        self.alpha_B_f_v=np.random.rand(self.K).tolist()\n",
    "        self.alpha_B_f_m=np.random.rand(self.K).tolist()\n",
    "        self.alpha_B_c_v=np.random.rand(self.K).tolist()\n",
    "        self.alpha_B_c_m=np.random.rand(self.K).tolist()\n",
    "                \n",
    "        self.conteo_enfermedad_A=0\n",
    "        self.conteo_enfermedad_B=0\n",
    "        self.conteo_tratamiento_f=0\n",
    "        self.conteo_tratamiento_c=0\n",
    "        self.conteo_reaccion_v_f=0\n",
    "        self.conteo_reaccion_m_f=0\n",
    "        self.conteo_reaccion_v_c=0\n",
    "        self.conteo_reaccion_m_c=0\n",
    "        \n",
    "        self.conteo_v_A_f_v=0\n",
    "        self.conteo_v_A_f_m=0\n",
    "        self.conteo_v_A_c_v=0\n",
    "        self.conteo_v_A_c_m=0\n",
    "        self.conteo_v_B_f_v=0\n",
    "        self.conteo_v_B_f_m=0\n",
    "        self.conteo_v_B_c_v=0\n",
    "        self.conteo_v_B_c_m=0\n",
    "        self.conteo_m_A_f_v=0\n",
    "        self.conteo_m_A_f_m=0\n",
    "        self.conteo_m_A_c_v=0\n",
    "        self.conteo_m_A_c_m=0\n",
    "        self.conteo_m_B_f_v=0\n",
    "        self.conteo_m_B_f_m=0\n",
    "        self.conteo_m_B_c_v=0\n",
    "        self.conteo_m_B_c_m=0\n",
    "        \n",
    "        self.recompensa=[0]\n",
    "        self.rounds=0\n",
    "    \n",
    "    def belief_formation(self):\n",
    "        alpha_enfermedad=self.alpha_enfermedad\n",
    "        alpha_tratamiento=self.alpha_tratamiento\n",
    "        \n",
    "        alpha_reaccion_farmaco=self.alpha_reaccion_farmaco\n",
    "        alpha_reaccion_cirugia=self.alpha_reaccion_cirugia\n",
    "        \n",
    "        alpha_A_f_v=self.alpha_A_f_v\n",
    "        alpha_A_f_m=self.alpha_A_f_m\n",
    "        alpha_A_c_v=self.alpha_A_c_v\n",
    "        alpha_A_c_m=self.alpha_A_c_m\n",
    "        alpha_B_f_v=self.alpha_B_f_v\n",
    "        alpha_B_f_m=self.alpha_B_f_m\n",
    "        alpha_B_c_v=self.alpha_B_c_v\n",
    "        alpha_B_c_m=self.alpha_B_c_m\n",
    "        \n",
    "        \n",
    "        lista=dirichlet.rvs(alpha_enfermedad,size=1).tolist()\n",
    "        self.beliefs['Enfermedad']=lista[0]\n",
    "        \n",
    "        lista=dirichlet.rvs(alpha_tratamiento,size=1).tolist()\n",
    "        self.beliefs['Tratamiento']=lista[0]\n",
    "        \n",
    "        lista_1=dirichlet.rvs(alpha_reaccion_farmaco,size=1).tolist()\n",
    "        lista_2=dirichlet.rvs(alpha_reaccion_cirugia,size=1).tolist()\n",
    "        lista_3=np.array([lista_1[0],lista_2[0]]).transpose()\n",
    "        lista_4=lista_3.tolist()\n",
    "        self.beliefs['Reaccion|Tratamiento']=lista_4\n",
    "        \n",
    "        lista_1=dirichlet.rvs(alpha_A_f_v,size=1).tolist()\n",
    "        lista_2=dirichlet.rvs(alpha_A_f_m,size=1).tolist()\n",
    "        lista_3=dirichlet.rvs(alpha_A_c_v,size=1).tolist()\n",
    "        lista_4=dirichlet.rvs(alpha_A_c_m,size=1).tolist()\n",
    "        lista_5=dirichlet.rvs(alpha_B_f_v,size=1).tolist()\n",
    "        lista_6=dirichlet.rvs(alpha_B_f_m,size=1).tolist()\n",
    "        lista_7=dirichlet.rvs(alpha_B_c_v,size=1).tolist()\n",
    "        lista_8=dirichlet.rvs(alpha_B_c_m,size=1).tolist()\n",
    "        lista_9=np.array([lista_1[0],lista_2[0],lista_3[0],lista_4[0],lista_5[0],lista_6[0],lista_7[0],lista_8[0]]).transpose()\n",
    "        lista_10=lista_9.tolist()\n",
    "        self.beliefs['Final|Enfermedad, Tratamiento, Reaccion']=lista_10\n",
    "        print(\"Creencias formadas\")\n",
    "        return(self.beliefs)\n",
    "    \n",
    "    def print_beliefs(self):\n",
    "        return(self.beliefs)\n",
    "    \n",
    "    def fix_causal_model(self):\n",
    "        model1=self.local_model\n",
    "        model=model1.copy()\n",
    "        \n",
    "        cpd_e=TabularCPD(variable='Enfermedad', variable_card=2, values=[self.beliefs['Enfermedad']])\n",
    "        cpd_tr=TabularCPD(variable='Tratamiento', variable_card=2, values=[self.beliefs['Tratamiento']])\n",
    "        cpd_r_tr=cpd_r_tr = TabularCPD(variable='Reaccion', variable_card=2, values=self.beliefs['Reaccion|Tratamiento'], evidence=['Tratamiento'],evidence_card=[2])\n",
    "        cpd_f_e_tr_r= TabularCPD(variable='Final', variable_card=2, values=self.beliefs['Final|Enfermedad, Tratamiento, Reaccion'],evidence=['Enfermedad', 'Tratamiento','Reaccion'],evidence_card=[2, 2,2])\n",
    "        model.add_cpds(cpd_e, cpd_tr, cpd_r_tr, cpd_f_e_tr_r)\n",
    "        \n",
    "        if (model.check_model()):\n",
    "            self.local_model=model\n",
    "            self.infer= VariableElimination(model)\n",
    "            print(\"Modelo Causal local creado\")\n",
    "            return(model,infer)\n",
    "        else:\n",
    "            print(\"Error en CPT\")\n",
    "        \n",
    "    def do_calculus(self,final,treatment): \n",
    "        #La distribución P(Final|do(Tratamiento))=P(Final|Enfermedad, Tratamiento, Reaccion)P(Reaccion|Tratamiento)P(Enfermedad)\n",
    "        #Treatment = 1 ó 0\n",
    "        #Quiero que me de la probabilidad de vivir=0 ó =1 dado treatment=0 ó =1\n",
    "        if (treatment==0):\n",
    "            res=self.beliefs['Final|Enfermedad, Tratamiento, Reaccion'][final][0]*self.beliefs['Reaccion|Tratamiento'][0][0]*self.beliefs['Enfermedad'][0] \\\n",
    "            +self.beliefs['Final|Enfermedad, Tratamiento, Reaccion'][final][1]*self.beliefs['Reaccion|Tratamiento'][1][0]*self.beliefs['Enfermedad'][0] \\\n",
    "            +self.beliefs['Final|Enfermedad, Tratamiento, Reaccion'][final][4]*self.beliefs['Reaccion|Tratamiento'][0][0]*self.beliefs['Enfermedad'][1] \\\n",
    "            +self.beliefs['Final|Enfermedad, Tratamiento, Reaccion'][final][5]*self.beliefs['Reaccion|Tratamiento'][1][0]*self.beliefs['Enfermedad'][1]\n",
    "        else:\n",
    "            res=self.beliefs['Final|Enfermedad, Tratamiento, Reaccion'][final][2]*self.beliefs['Reaccion|Tratamiento'][0][1]*self.beliefs['Enfermedad'][0] \\\n",
    "                +self.beliefs['Final|Enfermedad, Tratamiento, Reaccion'][final][3]*self.beliefs['Reaccion|Tratamiento'][1][1]*self.beliefs['Enfermedad'][0] \\\n",
    "                +self.beliefs['Final|Enfermedad, Tratamiento, Reaccion'][final][6]*self.beliefs['Reaccion|Tratamiento'][0][1]*self.beliefs['Enfermedad'][1] \\\n",
    "                +self.beliefs['Final|Enfermedad, Tratamiento, Reaccion'][final][7]*self.beliefs['Reaccion|Tratamiento'][1][1]*self.beliefs['Enfermedad'][1]\n",
    "        return(res)\n",
    "    \n",
    "    def make_decision(self,final=1):\n",
    "        f_0= self.do_calculus(final,0)\n",
    "        f_1=self.do_calculus(final,1)\n",
    "        if (f_0 > f_1):\n",
    "            return(0)\n",
    "        else:\n",
    "            return(1)\n",
    "        \n",
    "    def observing_external(self):\n",
    "        self.rounds=self.rounds+1\n",
    "        chosen_action=self.make_decision()\n",
    "        datos=self.simulator(chosen_action)\n",
    "        self.recompensa.append(datos['Final'])\n",
    "        return(datos)\n",
    "        \n",
    "    #def prob_data_given_beliefs(self,datos):\n",
    "        #Dados los beliefs, que son distribuciones, genero un modelo gráfico causal\n",
    "        #Este modelo gráfico causal da lugar a una distribución intervencional y puedo calcular\n",
    "        #la probabilidad de ver esa observación dadas las dirichlet\n",
    "        #result = [a * 8 for a in self.alpha]\n",
    "        \n",
    "        \n",
    "    def belief_updating(self):\n",
    "        datos=self.observing_external()\n",
    "        lista_datos=list(datos.values())\n",
    "        #self.alpha=list(map(add,self.alpha,self.conteo))\n",
    "        \n",
    "        #Conteo de enfermedad\n",
    "        if(lista_datos[0]==0):\n",
    "            self.conteo_enfermedad_A=self.conteo_enfermedad_A+1\n",
    "            self.alpha_enfermedad[0]=self.alpha_enfermedad[0]+self.conteo_enfermedad_A\n",
    "        else:\n",
    "            self.conteo_enfermedad_B=self.conteo_enfermedad_B+1\n",
    "            self.alpha_enfermedad[1]=self.alpha_enfermedad[0]+self.conteo_enfermedad_B\n",
    "        \n",
    "        #Conteo de tratamiento\n",
    "        if(lista_datos[1]==0):\n",
    "            self.conteo_tratamiento_f=self.conteo_tratamiento_f+1\n",
    "            self.alpha_tratamiento[0]=self.alpha_tratamiento[0]+self.conteo_tratamiento_f\n",
    "        else:\n",
    "            self.conteo_tratamiento_c=self.conteo_tratamiento_c+1\n",
    "            self.alpha_tratamiento[1]=self.alpha_tratamiento[0]+self.conteo_tratamiento_c\n",
    "        \n",
    "        #Conteo de reaccion dado tratamiento\n",
    "        if(lista_datos[1]==0 & lista_datos[2]==0):\n",
    "            self.conteo_reaccion_v_f=self.conteo_reaccion_v_f+1\n",
    "            self.alpha_reaccion_farmaco[0]=self.alpha_reaccion_farmaco[0]+self.conteo_reaccion_v_f\n",
    "        if(lista_datos[1]==0 & lista_datos[2]==1):\n",
    "            self.conteo_reaccion_m_f=self.conteo_reaccion_m_f+1\n",
    "            self.alpha_reaccion_farmaco[1]=self.alpha_reaccion_farmaco[1]+self.conteo_reaccion_m_f\n",
    "        \n",
    "        if(lista_datos[1]==1 & lista_datos[2]==0):\n",
    "            self.conteo_reaccion_v_c=self.conteo_reaccion_v_c+1\n",
    "            self.alpha_reaccion_cirugia[0]+self.conteo_reaccion_v_c\n",
    "        if(lista_datos[1]==0 & lista_datos[2]==1):\n",
    "            self.conteo_reaccion_m_c=self.conteo_reaccion_m_c+1\n",
    "            self.alpha_reaccion_cirugia[1]=self.alpha_reaccion_cirugia[1]+self.conteo_reaccion_m_c\n",
    "        \n",
    "        #Conteo de vivir dado enfermedad, tratamiento y reaccion\n",
    "        #Para vivir\n",
    "        if(lista_datos[0]==0 & lista_datos[1]==0 & lista_datos[2]==0 & lista_datos[3]==0):\n",
    "            self.conteo_v_A_f_v=self.conteo_v_A_f_v+1\n",
    "            self.alpha_A_f_v[0]=self.alpha_A_f_v[0]+self.conteo_v_A_f_v\n",
    "            \n",
    "        if(lista_datos[0]==0 & lista_datos[1]==0 & lista_datos[2]==1 & lista_datos[3]==0):\n",
    "            self.conteo_v_A_f_m=self.conteo_v_A_f_m+1\n",
    "            self.alpha_A_f_m[0]=self.alpha_A_f_m[0]+self.conteo_v_A_f_m\n",
    "            \n",
    "        if(lista_datos[0]==0 & lista_datos[1]==1 & lista_datos[2]==0 & lista_datos[3]==0):\n",
    "            self.conteo_v_A_c_v=self.conteo_v_A_c_v+1\n",
    "            self.alpha_A_c_v[0]=self.alpha_A_c_v[0]+self.conteo_v_A_c_v\n",
    "            \n",
    "        if(lista_datos[0]==0 & lista_datos[1]==1 & lista_datos[2]==1 & lista_datos[3]==0):\n",
    "            self.conteo_v_A_c_m=self.conteo_v_A_c_m+1\n",
    "            self.alpha_A_c_m[0]=self.alpha_A_c_m[0]+self.conteo_v_A_c_m\n",
    "        \n",
    "        if(lista_datos[0]==1 & lista_datos[1]==0 & lista_datos[2]==0 & lista_datos[3]==0):\n",
    "            self.conteo_v_B_f_v=self.conteo_v_B_f_v+1\n",
    "            self.alpha_B_f_v[0]=self.alpha_B_f_v[0]+self.conteo_v_B_f_v\n",
    "        \n",
    "        if(lista_datos[0]==1 & lista_datos[1]==0 & lista_datos[2]==1 & lista_datos[3]==0):\n",
    "            self.conteo_v_B_f_m=self.conteo_v_B_f_m+1\n",
    "            self.alpha_B_f_m[0]=self.alpha_B_f_m[0]+self.conteo_v_B_f_m\n",
    "            \n",
    "        if(lista_datos[0]==1 & lista_datos[1]==1 & lista_datos[2]==0 & lista_datos[3]==0):\n",
    "            self.conteo_v_B_c_v=self.conteo_v_B_c_v+1\n",
    "            self.alpha_B_c_v[0]=self.alpha_B_c_v[0]+self.conteo_v_B_c_v\n",
    "            \n",
    "        if(lista_datos[0]==1 & lista_datos[1]==1 & lista_datos[2]==1 & lista_datos[3]==0):\n",
    "            self.conteo_v_B_c_m=self.conteo_v_B_c_m+1\n",
    "            self.alpha_B_c_m[0]=self.alpha_B_c_m[0]+self.conteo_v_B_c_m\n",
    "        #Para morir\n",
    "        if(lista_datos[0]==0 & lista_datos[1]==0 & lista_datos[2]==0 & lista_datos[3]==1):\n",
    "            self.conteo_m_A_f_v=self.conteo_m_A_f_v+1\n",
    "            self.alpha_A_f_v[1]=self.alpha_A_f_v[1]+self.conteo_m_A_f_v\n",
    "            \n",
    "        if(lista_datos[0]==0 & lista_datos[1]==0 & lista_datos[2]==1 & lista_datos[3]==1):     \n",
    "            self.conteo_m_A_f_m=self.conteo_m_A_f_m+1\n",
    "            self.alpha_A_f_m[1]=self.alpha_A_f_m[1]+self.conteo_m_A_f_m\n",
    "            \n",
    "        if(lista_datos[0]==0 & lista_datos[1]==1 & lista_datos[2]==0 & lista_datos[3]==1):    \n",
    "            self.conteo_m_A_c_v=self.conteo_m_A_c_v+1\n",
    "            self.alpha_A_c_v[1]=self.alpha_A_c_v[1]+self.conteo_m_A_c_v\n",
    "            \n",
    "        if(lista_datos[0]==0 & lista_datos[1]==1 & lista_datos[2]==1 & lista_datos[3]==1):\n",
    "            self.conteo_m_A_c_m=self.conteo_m_A_c_m+1\n",
    "            self.alpha_A_c_m[1]=self.alpha_A_c_m[1]+self.conteo_m_A_c_m\n",
    "            \n",
    "        if(lista_datos[0]==1 & lista_datos[1]==0 & lista_datos[2]==0 & lista_datos[3]==1):\n",
    "            self.conteo_m_B_f_v=self.conteo_m_B_f_v+1\n",
    "            self.alpha_B_f_v[1]=self.alpha_B_f_v[1]+self.conteo_m_B_f_v\n",
    "            \n",
    "        if(lista_datos[0]==1 & lista_datos[1]==0 & lista_datos[2]==1 & lista_datos[3]==1):\n",
    "            self.conteo_m_B_f_m=self.conteo_m_B_f_m+1\n",
    "            self.alpha_B_f_m[1]=self.alpha_B_f_m[1]+self.conteo_m_B_f_m\n",
    "            \n",
    "        if(lista_datos[0]==1 & lista_datos[1]==1 & lista_datos[2]==0 & lista_datos[3]==1):\n",
    "            self.conteo_m_B_c_v=self.conteo_m_B_c_v+1\n",
    "            self.alpha_B_c_v[1]=self.alpha_B_c_v[1]+self.conteo_m_B_c_v\n",
    "            \n",
    "        if(lista_datos[0]==1 & lista_datos[1]==1 & lista_datos[2]==1 & lista_datos[3]==0):\n",
    "            self.conteo_m_B_c_m=self.conteo_m_B_c_m+1\n",
    "            self.alpha_B_c_m[1]=self.alpha_B_c_m[1]+self.conteo_m_B_c_m\n",
    "        \n",
    "        \n",
    "        self.beliefs=self.belief_formation()\n",
    "        \n",
    "    def get_reward(self):\n",
    "        return(self.recompensa)\n",
    "            \n",
    "    "
   ]
  },
  {
   "cell_type": "code",
   "execution_count": 5,
   "metadata": {},
   "outputs": [],
   "source": [
    "class random_agent:\n",
    "    def __init__(self,true_model,model_simulator, max_variables, max_valores):\n",
    "        self.recompensa=[0]\n",
    "        self.simulator=model_simulator.action_simulator\n",
    "    \n",
    "    def make_decision(self):\n",
    "        p=list(np.random.random_sample(1))\n",
    "        if (p[0] > 0.5):\n",
    "            return(0)\n",
    "        else:\n",
    "            return(1)\n",
    "        \n",
    "    def observing_external(self):\n",
    "        chosen_action=self.make_decision()\n",
    "        datos=self.simulator(chosen_action)\n",
    "        self.recompensa.append(datos['Final'])\n",
    "        return(datos)\n",
    "    \n",
    "    def get_reward(self):\n",
    "        return(self.recompensa)"
   ]
  },
  {
   "cell_type": "code",
   "execution_count": 70,
   "metadata": {},
   "outputs": [],
   "source": [
    "class Q_learning_agent:\n",
    "    def __init__(self, model_simulator, max_valores,epsilon):\n",
    "        self.epsilon = epsilon\n",
    "        self.simulator=model_simulator.action_simulator\n",
    "        self.K=max_valores\n",
    "        self.k = np.zeros(self.K, dtype=np.int)  # number of times action was chosen\n",
    "        self.Q = np.zeros(self.K, dtype=np.float)  # estimated value\n",
    "        self.reward_history = []\n",
    "\n",
    "    # Update Q action-value using:\n",
    "    # Q(a) <- Q(a) + 1/(k+1) * (r(a) - Q(a))\n",
    "    def update_Q(self, action, reward):\n",
    "        self.k[action] += 1  # update action counter k -> k+1\n",
    "        self.Q[action] += (1./self.k[action]) * (reward - self.Q[action])\n",
    "\n",
    "        # Choose action using an epsilon-greedy agent\n",
    "    def choose_action(self, force_explore=False):\n",
    "        rand = np.random.random()  # [0.0,1.0)\n",
    "        if (rand < self.epsilon) or force_explore:\n",
    "            action_explore = np.random.randint(self.K)  # explore random bandit\n",
    "            return action_explore\n",
    "        else:\n",
    "            #action_greedy = np.argmax(self.Q)  # exploit best current bandit\n",
    "            action_greedy = np.random.choice(np.flatnonzero(self.Q == self.Q.max()))\n",
    "            return action_greedy\n",
    "    \n",
    "    def observe_external(self):\n",
    "        chosen_action=self.choose_action()\n",
    "        datos=self.simulator(chosen_action)\n",
    "        reward=datos['Final']\n",
    "        self.update_Q(chosen_action,reward)\n",
    "        self.reward_history.append(reward)\n",
    "        \n",
    "    def get_reward(self):\n",
    "        return(self.reward_history)\n",
    "        "
   ]
  },
  {
   "cell_type": "markdown",
   "metadata": {},
   "source": [
    "### Main "
   ]
  },
  {
   "cell_type": "code",
   "execution_count": null,
   "metadata": {},
   "outputs": [],
   "source": [
    "modelo=true_causal_model(4,infer,sampling,model)"
   ]
  },
  {
   "cell_type": "code",
   "execution_count": null,
   "metadata": {},
   "outputs": [],
   "source": [
    "agente_random=random_agent(model,modelo,4,2)"
   ]
  },
  {
   "cell_type": "code",
   "execution_count": 136,
   "metadata": {},
   "outputs": [],
   "source": [
    "agente=causal_agent(model,modelo,4,2)"
   ]
  },
  {
   "cell_type": "code",
   "execution_count": 137,
   "metadata": {
    "scrolled": true
   },
   "outputs": [
    {
     "name": "stdout",
     "output_type": "stream",
     "text": [
      "Creencias formadas\n"
     ]
    },
    {
     "data": {
      "text/plain": [
       "{'Enfermedad': [0.00012623120841684374, 0.9998737687915832],\n",
       " 'Final|Enfermedad, Tratamiento, Reaccion': [[0.8378417574029517,\n",
       "   0.09401469090984936,\n",
       "   3.620595383022995e-05,\n",
       "   4.7830642883586204e-05,\n",
       "   0.999925505069122,\n",
       "   0.19621497084825962,\n",
       "   0.12502581200416366,\n",
       "   0.7181801830362224],\n",
       "  [0.16215824259704828,\n",
       "   0.9059853090901506,\n",
       "   0.9999637940461696,\n",
       "   0.9999521693571164,\n",
       "   7.449493087804096e-05,\n",
       "   0.8037850291517404,\n",
       "   0.8749741879958365,\n",
       "   0.2818198169637775]],\n",
       " 'Reaccion|Tratamiento': [[0.36192905569025996, 0.4311757906473293],\n",
       "  [0.6380709443097401, 0.5688242093526706]],\n",
       " 'Tratamiento': [0.9998798779082816, 0.0001201220917185199]}"
      ]
     },
     "execution_count": 137,
     "metadata": {},
     "output_type": "execute_result"
    }
   ],
   "source": [
    "agente.belief_formation()"
   ]
  },
  {
   "cell_type": "code",
   "execution_count": null,
   "metadata": {},
   "outputs": [],
   "source": [
    "agente.print_beliefs()"
   ]
  },
  {
   "cell_type": "code",
   "execution_count": null,
   "metadata": {},
   "outputs": [],
   "source": []
  },
  {
   "cell_type": "code",
   "execution_count": null,
   "metadata": {},
   "outputs": [],
   "source": [
    "agente.fix_causal_model()"
   ]
  },
  {
   "cell_type": "code",
   "execution_count": null,
   "metadata": {},
   "outputs": [],
   "source": [
    "agente.belief_updating()"
   ]
  },
  {
   "cell_type": "code",
   "execution_count": null,
   "metadata": {},
   "outputs": [],
   "source": [
    "agente.print_beliefs()"
   ]
  },
  {
   "cell_type": "code",
   "execution_count": null,
   "metadata": {},
   "outputs": [],
   "source": [
    "agente.get_reward()"
   ]
  },
  {
   "cell_type": "code",
   "execution_count": null,
   "metadata": {},
   "outputs": [],
   "source": [
    "N=50\n",
    "modelo=true_causal_model(4,infer,sampling,model)\n",
    "agente=causal_agent(model,modelo,4,2)\n",
    "agente.belief_formation()\n",
    "recompensa=np.zeros(N,dtype='float')\n",
    "recompensa_promedio=np.zeros(N,dtype='float')\n",
    "for i in range(N):\n",
    "    agente.fix_causal_model()\n",
    "    agente.belief_updating()\n",
    "recompensas=agente.get_reward()\n"
   ]
  },
  {
   "cell_type": "code",
   "execution_count": null,
   "metadata": {},
   "outputs": [],
   "source": [
    "plt.plot(agente.get_reward())\n",
    "plt.xlim([1, N])\n",
    "plt.ylim([0, N])"
   ]
  },
  {
   "cell_type": "code",
   "execution_count": null,
   "metadata": {},
   "outputs": [],
   "source": [
    "recompensa_acumulada=np.cumsum(agente.get_reward())\n",
    "recompensa_promedio=recompensa_acumulada/N\n",
    "plt.plot(recompensa_promedio)\n",
    "plt.xlabel(\"Rounds\")\n",
    "plt.ylabel(\"Average Reward\".format())"
   ]
  },
  {
   "cell_type": "code",
   "execution_count": null,
   "metadata": {},
   "outputs": [],
   "source": [
    "recompensa_acumulada"
   ]
  },
  {
   "cell_type": "markdown",
   "metadata": {},
   "source": [
    "### Random agent"
   ]
  },
  {
   "cell_type": "code",
   "execution_count": null,
   "metadata": {},
   "outputs": [],
   "source": [
    "N=50\n",
    "modelo=true_causal_model(4,infer,sampling,model)\n",
    "agente_random=random_agent(model,modelo,4,2)\n",
    "recompensa=np.zeros(N,dtype='float')\n",
    "recompensa_promedio=np.zeros(N,dtype='float')\n",
    "for i in range(N):\n",
    "    agente_random.observing_external()\n",
    "recompensas_random=agente_random.get_reward()"
   ]
  },
  {
   "cell_type": "code",
   "execution_count": null,
   "metadata": {},
   "outputs": [],
   "source": [
    "plt.plot(agente_random.get_reward())\n",
    "plt.xlim([1, N])\n",
    "plt.ylim([0, N])"
   ]
  },
  {
   "cell_type": "code",
   "execution_count": null,
   "metadata": {},
   "outputs": [],
   "source": [
    "recompensa_acumulada_random=np.cumsum(agente_random.get_reward())\n",
    "recompensa_promedio_random=recompensa_acumulada/N\n",
    "plt.plot(recompensa_promedio_random)\n",
    "plt.xlabel(\"Rounds for random agent\")\n",
    "plt.ylabel(\"Average Reward\".format())"
   ]
  },
  {
   "cell_type": "code",
   "execution_count": null,
   "metadata": {},
   "outputs": [],
   "source": [
    "recompensa_acumulada_random"
   ]
  },
  {
   "cell_type": "code",
   "execution_count": 71,
   "metadata": {},
   "outputs": [],
   "source": [
    "agente_Q=Q_learning_agent(modelo,4,0.1)"
   ]
  },
  {
   "cell_type": "code",
   "execution_count": 75,
   "metadata": {},
   "outputs": [],
   "source": [
    "agente_Q.observe_external()"
   ]
  },
  {
   "cell_type": "code",
   "execution_count": null,
   "metadata": {},
   "outputs": [],
   "source": [
    "## Q-Learning"
   ]
  },
  {
   "cell_type": "code",
   "execution_count": 103,
   "metadata": {},
   "outputs": [],
   "source": [
    "N=50\n",
    "modelo=true_causal_model(4,infer,sampling,model)\n",
    "agente_Q=Q_learning_agent(modelo,2,0.3)\n",
    "recompensa=np.zeros(N,dtype='float')\n",
    "recompensa_Q=np.zeros(N,dtype='float')\n",
    "for i in range(N):\n",
    "    agente_Q.observe_external()\n",
    "    \n"
   ]
  },
  {
   "cell_type": "code",
   "execution_count": 104,
   "metadata": {},
   "outputs": [
    {
     "data": {
      "text/plain": [
       "(0, 5)"
      ]
     },
     "execution_count": 104,
     "metadata": {},
     "output_type": "execute_result"
    },
    {
     "data": {
      "image/png": "[encoded data removed]",
      "text/plain": [
       "<matplotlib.figure.Figure at 0x1118c7240>"
      ]
     },
     "metadata": {},
     "output_type": "display_data"
    }
   ],
   "source": [
    "recompensas_Q=agente_Q.get_reward()\n",
    "plt.plot(recompensas_Q)\n",
    "plt.xlim([1, N])\n",
    "plt.ylim([0, 5])"
   ]
  },
  {
   "cell_type": "code",
   "execution_count": 105,
   "metadata": {},
   "outputs": [
    {
     "data": {
      "text/plain": [
       "Text(0,0.5,'Average Reward')"
      ]
     },
     "execution_count": 105,
     "metadata": {},
     "output_type": "execute_result"
    },
    {
     "data": {
      "image/png": "[encoded data removed]",
      "text/plain": [
       "<matplotlib.figure.Figure at 0x111984940>"
      ]
     },
     "metadata": {},
     "output_type": "display_data"
    }
   ],
   "source": [
    "recompensa_acumulada_Q=np.cumsum(recompensas_Q)\n",
    "recompensa_promedio_Q=recompensa_acumulada_Q/N\n",
    "plt.plot(recompensa_promedio_Q)\n",
    "plt.xlabel(\"Rounds for Q-learning agent\")\n",
    "plt.ylabel(\"Average Reward\".format())"
   ]
  },
  {
   "cell_type": "code",
   "execution_count": 108,
   "metadata": {},
   "outputs": [
    {
     "data": {
      "text/plain": [
       "array([ 0.  ,  0.02,  0.04,  0.06,  0.08,  0.1 ,  0.1 ,  0.12,  0.14,\n",
       "        0.14,  0.16,  0.18,  0.2 ,  0.22,  0.24,  0.24,  0.26,  0.28,\n",
       "        0.3 ,  0.32,  0.34,  0.36,  0.38,  0.4 ,  0.42,  0.44,  0.46,\n",
       "        0.48,  0.5 ,  0.52,  0.54,  0.56,  0.58,  0.6 ,  0.62,  0.64,\n",
       "        0.66,  0.68,  0.7 ,  0.72,  0.74,  0.76,  0.78,  0.8 ,  0.82,\n",
       "        0.84,  0.86,  0.88,  0.9 ,  0.92])"
      ]
     },
     "execution_count": 108,
     "metadata": {},
     "output_type": "execute_result"
    }
   ],
   "source": [
    "recompensa_promedio_Q"
   ]
  },
  {
   "cell_type": "code",
   "execution_count": 139,
   "metadata": {},
   "outputs": [],
   "source": [
    "agente_informado=fully_informed_agent()\n"
   ]
  },
  {
   "cell_type": "code",
   "execution_count": 144,
   "metadata": {},
   "outputs": [
    {
     "data": {
      "text/plain": [
       "1"
      ]
     },
     "execution_count": 144,
     "metadata": {},
     "output_type": "execute_result"
    }
   ],
   "source": [
    "agente_informado.make_decision()"
   ]
  },
  {
   "cell_type": "code",
   "execution_count": 142,
   "metadata": {},
   "outputs": [
    {
     "data": {
      "text/plain": [
       "0.06999999999999999"
      ]
     },
     "execution_count": 142,
     "metadata": {},
     "output_type": "execute_result"
    }
   ],
   "source": [
    "agente_informado.beliefs['Final|Enfermedad, Tratamiento, Reaccion'][final][0]*agente_informado.beliefs['Reaccion|Tratamiento'][0][0]"
   ]
  },
  {
   "cell_type": "code",
   "execution_count": 129,
   "metadata": {},
   "outputs": [
    {
     "data": {
      "text/plain": [
       "0.1"
      ]
     },
     "execution_count": 129,
     "metadata": {},
     "output_type": "execute_result"
    }
   ],
   "source": [
    "agente_informado.beliefs['Final|Enfermedad, Tratamiento, Reaccion'][final][0]"
   ]
  },
  {
   "cell_type": "code",
   "execution_count": 130,
   "metadata": {},
   "outputs": [
    {
     "data": {
      "text/plain": [
       "0.7"
      ]
     },
     "execution_count": 130,
     "metadata": {},
     "output_type": "execute_result"
    }
   ],
   "source": [
    "agente_informado.beliefs['Reaccion|Tratamiento'][0][0]"
   ]
  },
  {
   "cell_type": "code",
   "execution_count": 132,
   "metadata": {},
   "outputs": [
    {
     "data": {
      "text/plain": [
       "0.06999999999999999"
      ]
     },
     "execution_count": 132,
     "metadata": {},
     "output_type": "execute_result"
    }
   ],
   "source": [
    "agente_informado.beliefs['Final|Enfermedad, Tratamiento, Reaccion'][final][0]*agente_informado.beliefs['Reaccion|Tratamiento'][0][0]"
   ]
  },
  {
   "cell_type": "code",
   "execution_count": 133,
   "metadata": {},
   "outputs": [
    {
     "data": {
      "text/plain": [
       "0.1"
      ]
     },
     "execution_count": 133,
     "metadata": {},
     "output_type": "execute_result"
    }
   ],
   "source": [
    "agente_informado.beliefs['Final|Enfermedad, Tratamiento, Reaccion'][final][0]"
   ]
  },
  {
   "cell_type": "code",
   "execution_count": 134,
   "metadata": {},
   "outputs": [
    {
     "data": {
      "text/plain": [
       "0.7"
      ]
     },
     "execution_count": 134,
     "metadata": {},
     "output_type": "execute_result"
    }
   ],
   "source": [
    "agente_informado.beliefs['Reaccion|Tratamiento'][0][0]"
   ]
  },
  {
   "cell_type": "code",
   "execution_count": 135,
   "metadata": {},
   "outputs": [
    {
     "data": {
      "text/plain": [
       "[0.6, 0.4]"
      ]
     },
     "execution_count": 135,
     "metadata": {},
     "output_type": "execute_result"
    }
   ],
   "source": [
    "agente_informado.beliefs['Enfermedad'][0]"
   ]
  },
  {
   "cell_type": "code",
   "execution_count": null,
   "metadata": {},
   "outputs": [],
   "source": []
  }
 ],
 "metadata": {
  "kernelspec": {
   "display_name": "Python 3",
   "language": "python",
   "name": "python3"
  },
  "language_info": {
   "codemirror_mode": {
    "name": "ipython",
    "version": 3
   },
   "file_extension": ".py",
   "mimetype": "text/x-python",
   "name": "python",
   "nbconvert_exporter": "python",
   "pygments_lexer": "ipython3",
   "version": "3.6.4"
  }
 },
 "nbformat": 4,
 "nbformat_minor": 2
}
