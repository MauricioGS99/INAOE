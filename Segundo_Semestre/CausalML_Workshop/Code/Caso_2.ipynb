{
 "cells": [
  {
   "cell_type": "code",
   "execution_count": 2,
   "metadata": {},
   "outputs": [],
   "source": [
    "import numpy as np\n",
    "import networkx as nx\n",
    "from pgmpy.models import BayesianModel\n",
    "from pgmpy.factors.discrete import TabularCPD\n",
    "from pgmpy.inference import VariableElimination\n",
    "from pgmpy.sampling import BayesianModelSampling\n",
    "from scipy.stats import beta, dirichlet"
   ]
  },
  {
   "cell_type": "markdown",
   "metadata": {},
   "source": [
    "## True Causal Model From Environment:"
   ]
  },
  {
   "cell_type": "code",
   "execution_count": null,
   "metadata": {},
   "outputs": [],
   "source": [
    "model = BayesianModel([('Enfermedad', 'Final'), ('Tratamiento', 'Final'), ('Tratamiento', 'Reaccion'),\n",
    "                       ('Reaccion', 'Final')])\n",
    "\n",
    "cpd_e = TabularCPD(variable='Enfermedad', variable_card=2, values=[[0.6, 0.4]])\n",
    "cpd_tr = TabularCPD(variable='Tratamiento', variable_card=2, values=[[0.5, 0.5]])\n",
    "\n",
    "cpd_r_tr = TabularCPD(variable='Reaccion', variable_card=2, \n",
    "                   values=[[.7,.4], [.3,.6]], #vivir|farmaco vivir|cirugia #morir|farmaco morir|cirugia\n",
    "                   evidence=['Tratamiento'],\n",
    "                   evidence_card=[2])\n",
    "\n",
    "cpd_f_e_tr_r = TabularCPD(variable='Final', variable_card=2, \n",
    "                   values=[[.9,0,.6,0,.3,0,.8,0],  [.1,1,.4,1,.7,1,.2,1]], #vivir|vivir,farmaco,a #morir|\n",
    "                  evidence=['Enfermedad', 'Tratamiento','Reaccion'],\n",
    "                  evidence_card=[2, 2,2])\n",
    "\n",
    "model.add_cpds(cpd_e, cpd_tr, cpd_r_tr, cpd_f_e_tr_r)\n",
    "\n",
    "infer = VariableElimination(model)\n",
    "sampling = BayesianModelSampling(model)"
   ]
  },
  {
   "cell_type": "markdown",
   "metadata": {},
   "source": []
  },
  {
   "cell_type": "code",
   "execution_count": null,
   "metadata": {},
   "outputs": [],
   "source": []
  },
  {
   "cell_type": "code",
   "execution_count": null,
   "metadata": {},
   "outputs": [],
   "source": [
    "class true_causal_model:\n",
    "    def __init__(self,N,infer,sampling):\n",
    "        self.num_variables=N\n",
    "        self.infer=infer\n",
    "        self.sampling=sampling\n",
    "        \n",
    "   # def action_simulator(self,chosen_action):\n",
    "   #     lista=list(sampling.forward_sample(size=1, return_type='sampled'))\n",
    "   #     response=dict()\n",
    "   #     lista_2=list(lista[0])\n",
    "   #     response['Enfermedad']=lista_2[0]\n",
    "   #     response['Tratamiento']=lista_2[1]\n",
    "   #     response['Reaccion']=lista_2[2]\n",
    "   #     response['Final']=lista_2[3]\n",
    "   #     return(response)\n",
    "    \n",
    "    def action_simulator(self,chosen_action):\n",
    "        response=dict()\n",
    "        response['Enfermedad']=np.random.randint(0,2)\n",
    "        response['Tratamiento']=chosen_action\n",
    "        response['Reaccion']=self.infer.map_query(['Reaccion'],evidence={'Tratamiento': response['Tratamiento'],'Enfermedad': response['Enfermedad']})['Reaccion']\n",
    "        response['Final']=self.infer.map_query(['Final'],evidence={'Tratamiento': response['Tratamiento'],'Enfermedad': response['Enfermedad'],'Reaccion':response['Reaccion']})['Final']\n",
    "        return(response)"
   ]
  },
  {
   "cell_type": "markdown",
   "metadata": {},
   "source": [
    "### Ejemplo de uso"
   ]
  },
  {
   "cell_type": "code",
   "execution_count": null,
   "metadata": {},
   "outputs": [],
   "source": [
    "modelo_causal=true_causal_model(4,infer,sampling)"
   ]
  },
  {
   "cell_type": "code",
   "execution_count": null,
   "metadata": {},
   "outputs": [],
   "source": [
    "modelo_causal.action_simulator(1)"
   ]
  },
  {
   "cell_type": "markdown",
   "metadata": {},
   "source": [
    "## Agent and beliefs"
   ]
  },
  {
   "cell_type": "code",
   "execution_count": null,
   "metadata": {},
   "outputs": [],
   "source": [
    "class causal_agent:\n",
    "    def __init__(self, true_causal_model, max_variables):\n",
    "        self.max_variables=max_variables\n",
    "        self.true=true_causal_model\n",
    "        self.beliefs=dict()\n",
    "    \n",
    "    def belief_random_formation(self):\n",
    "        enf_0=beta.rvs(1, 2, size=1)[0]\n",
    "        self.beliefs['Enfermedad']=[enf_0, 1-enf_0]\n",
    "        \n",
    "        tr_0=beta.rvs(1, 2, size=1)[0]\n",
    "        self.beliefs['Tratamiento']=[tr_0, 1-tr_0]\n",
    "        \n",
    "        r_1=beta.rvs(1, 2, size=1)[0]\n",
    "        r_2=beta.rvs(1, 2, size=1)[0]\n",
    "        self.beliefs['Reaccion|Tratamiento']=[[r_1,r_2],\n",
    "                                              [1-r_1,1-r_2]]\n",
    "        \n",
    "        f_1=beta.rvs(1, 2, size=1)[0]\n",
    "        f_2=beta.rvs(1, 2, size=1)[0]\n",
    "        f_3=beta.rvs(1, 2, size=1)[0]\n",
    "        f_4=beta.rvs(1, 2, size=1)[0]\n",
    "        f_5=beta.rvs(1, 2, size=1)[0]\n",
    "        f_6=beta.rvs(1, 2, size=1)[0]\n",
    "        f_7=beta.rvs(1, 2, size=1)[0]\n",
    "        f_8=beta.rvs(1, 2, size=1)[0]\n",
    "        self.beliefs['Final']=[[f_1,f_2,f_3,f_4,f_5,f_6,f_7,f_8],\n",
    "                               [1-f_1,1-f_2,1-f_3,1-f_4,1-f_5,1-f_6,1-f_7,1-f_8]]\n",
    "        return(self.beliefs)\n",
    "        \n",
    "    def prob_data_given_beliefs(self,datos, self.beliefs):\n",
    "        #Esto se debe usar al final de cada juego\n",
    "        #datos es un diccionario Enfermedad Tratamiento Reaccion Final\n",
    "        #Entonces P(Enfermedad,Tratamiento,Reaccion,Final)=P(Final|Enfermedad,Tratamiento,Reaccion)P(Tratamiento|Reaccion)P(Tratamiento)P(Enfermedad)\n",
    "        #datos es una lista [1,0,0,1] en el orden Enfermedad, Tratamiento, Reaccion, Final\n",
    "        \n",
    "        #Para Tratamiento:\n",
    "        prob_enfermedad=self.beliefs['Enfermedad'][datos[0]]\n",
    "        \n",
    "        #Para Tratamiento\n",
    "        prob_tratamiento=self.beliefs['Tratamiento'][datos[1]]\n",
    "        \n",
    "        #Para reaccion dado tratamiento\n",
    "        prob_tr_reac = self.beliefs['Reaccion|Tratamiento'][datos[2]][datos[1]]\n",
    "        \n",
    "        #Para final dado enfermedad, tratamiento y reaccion:\n",
    "        prob_final = self.beliefs['Final'][datos[3]][datos[2]][datos[1]][datos[0]]\n",
    "        \n",
    "        probability=prob_enfermedad*prob_tratamiento*prob_tr_reac*prob_final\n",
    "        \n",
    "        return(probability)\n",
    "    \n",
    "    \n",
    "    def belief_bayesian_updating(self,datos,prior_beliefs):\n",
    "        proba_datos=prob_data_given_beliefs(datos,prior_beliefs)\n",
    "        self.beliefs['Enfermedad'][datos[0]]=proba_datos*prior_beliefs['Enfermedad'][datos[0]]\n",
    "        self.beliefs['Tratamiento'][datos[1]]=proba_datos*prior_beliefs['Tratamiento'][datos[1]]\n",
    "        self.beliefs['Reaccion|Tratamiento'][datos[2]][datos[1]]=proba_datos*prior_beliefs['Reaccion|Tratamiento'][datos[2]][datos[1]]\n",
    "        self.beliefs['Final'][datos[3]][datos[2]][datos[1]][datos[0]]=proba_datos*prior_beliefs[datos[3]][datos[2]][datos[1]][datos[0]]\n",
    "        \n",
    "    def fix_causal_model(self):\n",
    "        model=self.true.copy()\n",
    "        cpd_e=TabularCPD(variable='Enfermedad', variable_card=2, values=self.beliefs['Enfermedad'])\n",
    "        cpd_tr=TabularCPD(variable='Tratamiento', variable_card=2, values=self.beliefs['Tratamiento'])\n",
    "        cpd_r_tr=cpd_r_tr = TabularCPD(variable='Reaccion', variable_card=2, values=self.beliefs['Reaccion|Tratamiento'], evidence=['Tratamiento'],evidence_card=[2])\n",
    "        cpd_f_e_tr_r= TabularCPD(variable='Final', variable_card=2, values=self.beliefs['Final'],evidence=['Enfermedad', 'Tratamiento','Reaccion'],evidence_card=[2, 2,2])\n",
    "        model.add_cpds(cpd_e, cpd_tr, cpd_r_tr, cpd_f_e_tr_r)\n",
    "        inference = VariableElimination(model)\n",
    "        \n",
    "        \n",
    "    def decision_making():"
   ]
  },
  {
   "cell_type": "markdown",
   "metadata": {},
   "source": [
    "## Use"
   ]
  },
  {
   "cell_type": "code",
   "execution_count": null,
   "metadata": {},
   "outputs": [],
   "source": [
    "modelo=true_causal_model(4,infer,sampling)\n",
    "agent=causal_agent(modelo,4)"
   ]
  },
  {
   "cell_type": "code",
   "execution_count": null,
   "metadata": {},
   "outputs": [],
   "source": [
    "# Luego con true_causal_model.action_simulator voy a simular una accion\n",
    "# Con lo que se observe, voy a usar causal_agent.belief_updating, luego fix model, luego make choice, etc\n",
    "# Todo esto en un loop cuya ultima linea sea sumar el reward obtenido "
   ]
  },
  {
   "cell_type": "code",
   "execution_count": null,
   "metadata": {},
   "outputs": [],
   "source": []
  },
  {
   "cell_type": "code",
   "execution_count": null,
   "metadata": {},
   "outputs": [],
   "source": [
    "from scipy.stats import beta\n",
    "beta.rvs(1, 2, size=1)[0]"
   ]
  },
  {
   "cell_type": "code",
   "execution_count": null,
   "metadata": {},
   "outputs": [],
   "source": [
    "r[0]"
   ]
  },
  {
   "cell_type": "code",
   "execution_count": null,
   "metadata": {},
   "outputs": [],
   "source": [
    "[beta.rvs(1, 2, size=1), 1]"
   ]
  },
  {
   "cell_type": "code",
   "execution_count": null,
   "metadata": {},
   "outputs": [],
   "source": [
    "test=[[1,2],[3,4]]"
   ]
  },
  {
   "cell_type": "code",
   "execution_count": null,
   "metadata": {},
   "outputs": [],
   "source": [
    "test[0][1]"
   ]
  },
  {
   "cell_type": "code",
   "execution_count": 3,
   "metadata": {},
   "outputs": [
    {
     "data": {
      "text/plain": [
       "array([ 0.,  0.,  0.,  0.,  0.])"
      ]
     },
     "execution_count": 3,
     "metadata": {},
     "output_type": "execute_result"
    }
   ],
   "source": [
    "np.zeros(5,dtype='float')"
   ]
  },
  {
   "cell_type": "code",
   "execution_count": null,
   "metadata": {},
   "outputs": [],
   "source": []
  }
 ],
 "metadata": {
  "kernelspec": {
   "display_name": "Python 3",
   "language": "python",
   "name": "python3"
  }
 },
 "nbformat": 4,
 "nbformat_minor": 2
}
