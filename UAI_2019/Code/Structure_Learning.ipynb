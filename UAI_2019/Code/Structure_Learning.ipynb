{
 "cells": [
  {
   "cell_type": "code",
   "execution_count": 1,
   "metadata": {},
   "outputs": [],
   "source": [
    "import numpy as np\n",
    "import networkx as nx\n",
    "from pgmpy.models import BayesianModel\n",
    "from pgmpy.factors.discrete import TabularCPD\n",
    "from pgmpy.inference import VariableElimination\n",
    "from pgmpy.sampling import BayesianModelSampling\n",
    "from scipy.stats import beta, dirichlet\n",
    "from operator import add\n",
    "import matplotlib.pyplot as plt"
   ]
  },
  {
   "cell_type": "markdown",
   "metadata": {},
   "source": [
    "## Variables"
   ]
  },
  {
   "cell_type": "code",
   "execution_count": 27,
   "metadata": {},
   "outputs": [],
   "source": [
    "variables=list()\n",
    "variables=['Enfermedad','Tratamiento','Reaccion','Final']"
   ]
  },
  {
   "cell_type": "code",
   "execution_count": null,
   "metadata": {},
   "outputs": [],
   "source": [
    "## Parametros"
   ]
  },
  {
   "cell_type": "code",
   "execution_count": 476,
   "metadata": {},
   "outputs": [],
   "source": [
    "alpha=0.75"
   ]
  },
  {
   "cell_type": "markdown",
   "metadata": {},
   "source": [
    "## Orden"
   ]
  },
  {
   "cell_type": "code",
   "execution_count": 28,
   "metadata": {},
   "outputs": [],
   "source": [
    "orden=list()\n",
    "orden=[['Tratamiento','Enfermedad'],\n",
    "       ['Reaccion','Tratamiento'],\n",
    "       ['Reaccion','Enfermedad'],\n",
    "       ['Final','Enfermedad'],\n",
    "       ['Final','Tratamiento'],\n",
    "       ['Final','Reaccion']]"
   ]
  },
  {
   "cell_type": "markdown",
   "metadata": {},
   "source": [
    "## True Causal Model From Environment:"
   ]
  },
  {
   "cell_type": "code",
   "execution_count": 622,
   "metadata": {},
   "outputs": [],
   "source": [
    "model = BayesianModel([('Enfermedad', 'Final'), ('Tratamiento', 'Final'), ('Tratamiento', 'Reaccion'),\n",
    "                       ('Reaccion', 'Final')])\n",
    "\n",
    "cpd_e = TabularCPD(variable='Enfermedad', variable_card=2, values=[[0.7, 0.3]])\n",
    "cpd_tr = TabularCPD(variable='Tratamiento', variable_card=2, values=[[0.5, 0.5]])\n",
    "\n",
    "cpd_r_tr = TabularCPD(variable='Reaccion', variable_card=2, \n",
    "                   values=[[.7,.4], [.3,.6]], #vivir|farmaco vivir|cirugia #morir|farmaco morir|cirugia\n",
    "                   evidence=['Tratamiento'],\n",
    "                   evidence_card=[2])\n",
    "\n",
    "cpd_f_e_tr_r = TabularCPD(variable='Final', variable_card=2, \n",
    "                   values=[[.6,0,.8,0,.4,0,.9,0],\n",
    "                           [.4,1,.2,1,.6,1,.1,1]], #vivir|vivir,farmaco,a #morir|\n",
    "                  evidence=['Enfermedad', 'Tratamiento','Reaccion'],\n",
    "                  evidence_card=[2, 2,2])\n",
    "\n",
    "model.add_cpds(cpd_e, cpd_tr, cpd_r_tr, cpd_f_e_tr_r)\n",
    "\n",
    "infer = VariableElimination(model)\n",
    "sampling = BayesianModelSampling(model)"
   ]
  },
  {
   "cell_type": "markdown",
   "metadata": {},
   "source": [
    "## Inicializando modelo verdadero para simulaciones"
   ]
  },
  {
   "cell_type": "code",
   "execution_count": 623,
   "metadata": {},
   "outputs": [],
   "source": [
    "true_model_class=true_causal_model(4,infer,sampling,model)\n"
   ]
  },
  {
   "cell_type": "code",
   "execution_count": 624,
   "metadata": {},
   "outputs": [
    {
     "data": {
      "text/plain": [
       "{'Enfermedad': 1, 'Final': 1, 'Reaccion': 0, 'Tratamiento': 0}"
      ]
     },
     "execution_count": 624,
     "metadata": {},
     "output_type": "execute_result"
    }
   ],
   "source": [
    "true_model_class.action_simulator()"
   ]
  },
  {
   "cell_type": "code",
   "execution_count": 625,
   "metadata": {},
   "outputs": [],
   "source": [
    "class true_causal_model:\n",
    "    def __init__(self,N,infer,sampling,model):\n",
    "        self.num_variables=N\n",
    "        self.infer=infer\n",
    "        self.sampling=sampling\n",
    "        self.true_model=model\n",
    "\n",
    "    def action_simulator(self):\n",
    "        response=dict()\n",
    "        elements = [0,1]\n",
    "        probabilities = [0.5,0.5]\n",
    "        res=np.random.choice(elements, 1, p=probabilities)\n",
    "        enf=np.random.choice(elements, 1, p=probabilities)\n",
    "        response['Enfermedad']=res[0]\n",
    "        response['Tratamiento']=enf[0]\n",
    "        response['Reaccion']=self.infer.map_query(['Reaccion'],evidence={'Tratamiento': response['Tratamiento'],'Enfermedad': response['Enfermedad']})['Reaccion']\n",
    "        response['Final']=self.infer.map_query(['Final'],evidence={'Tratamiento': response['Tratamiento'],'Enfermedad': response['Enfermedad'],'Reaccion':response['Reaccion']})['Final']\n",
    "        return(response)\n",
    "        "
   ]
  },
  {
   "cell_type": "markdown",
   "metadata": {},
   "source": [
    "## Para simular:"
   ]
  },
  {
   "cell_type": "code",
   "execution_count": 626,
   "metadata": {},
   "outputs": [],
   "source": [
    "class structure_learning:\n",
    "    def __init__(self, alpha, variables, true_model,model_simulator, orden):\n",
    "        self.local_model=true_model ## Este es el directamente creado con PGMPY, no la clase true_causal_model\n",
    "        self.simulator=model_simulator.action_simulator\n",
    "        self.a=alpha\n",
    "        self.orden=orden\n",
    "        self.variables=variables\n",
    "        self.causas_posibles=list()\n",
    "        self.beliefs=dict()\n",
    "    \n",
    "    def print_variables(self):\n",
    "        return(self.variables)\n",
    "    \n",
    "    def print_orden(self):\n",
    "        return(self.orden)\n",
    "    \n",
    "    def possible_causes(self):\n",
    "        for i in range(len(self.variables)):\n",
    "            for j in range(len(self.variables)):\n",
    "                if(self.variables[i] != self.variables[j]):\n",
    "                    lista_temp=[self.variables[i],self.variables[j]]\n",
    "                    if(lista_temp not in self.orden):\n",
    "                        self.causas_posibles.append(lista_temp)\n",
    "        return(self.causas_posibles)\n",
    "    \n",
    "    \n",
    "    def initial_beliefs(self):\n",
    "        self.causas_posibles=self.possible_causes()\n",
    "        causas_posibles=self.causas_posibles\n",
    "        for i in causas_posibles:\n",
    "            i=str(i)\n",
    "            self.beliefs[i]=np.random.rand(1).tolist()[0]\n",
    "        return(self.beliefs)\n",
    "\n",
    "    def observing_external(self):\n",
    "        datos=self.simulator()\n",
    "        return(datos)\n",
    "    \n",
    "    def belief_updating(self):\n",
    "        datos=self.observing_external()\n",
    "        print(datos)\n",
    "        for i in self.causas_posibles:\n",
    "            if(datos[i[0]]==1 and datos[i[1]]==1):\n",
    "                i=str(i)\n",
    "                self.beliefs[i]=self.beliefs[i]+self.a*(1-self.beliefs[i])\n",
    "            else:\n",
    "                if(datos[i[0]]==1 and datos[i[1]]==0):\n",
    "                    i=str(i)\n",
    "                    self.beliefs[i]=self.a*self.beliefs[i]\n",
    "                else:\n",
    "                    if(datos[i[0]]==0 and datos[i[1]]==1):\n",
    "                        i=str(i)\n",
    "                        self.beliefs[i]=self.a*self.beliefs[i]\n",
    "                   # else:\n",
    "                   #     if(datos[i[0]]==0 and datos[i[1]]==0):\n",
    "                            \n",
    "        return(self.beliefs)\n",
    "    \n",
    "            \n",
    "        \n",
    "        \n",
    "        "
   ]
  },
  {
   "cell_type": "markdown",
   "metadata": {},
   "source": [
    "## Inicializando clase para aprendizaje de estructura"
   ]
  },
  {
   "cell_type": "code",
   "execution_count": 627,
   "metadata": {},
   "outputs": [],
   "source": [
    "aprendizaje=structure_learning(alpha,variables,model,true_model_class,orden)"
   ]
  },
  {
   "cell_type": "code",
   "execution_count": 628,
   "metadata": {},
   "outputs": [
    {
     "data": {
      "text/plain": [
       "{'Enfermedad': 0, 'Final': 1, 'Reaccion': 1, 'Tratamiento': 1}"
      ]
     },
     "execution_count": 628,
     "metadata": {},
     "output_type": "execute_result"
    }
   ],
   "source": [
    "aprendizaje.observing_external()"
   ]
  },
  {
   "cell_type": "code",
   "execution_count": 629,
   "metadata": {},
   "outputs": [
    {
     "data": {
      "text/plain": [
       "{\"['Enfermedad', 'Final']\": 0.11247686487073938,\n",
       " \"['Enfermedad', 'Reaccion']\": 0.9545007563520017,\n",
       " \"['Enfermedad', 'Tratamiento']\": 0.5714960415820615,\n",
       " \"['Reaccion', 'Final']\": 0.2959079879922909,\n",
       " \"['Tratamiento', 'Final']\": 0.18607108036487952,\n",
       " \"['Tratamiento', 'Reaccion']\": 0.17242955188227838}"
      ]
     },
     "execution_count": 629,
     "metadata": {},
     "output_type": "execute_result"
    }
   ],
   "source": [
    "aprendizaje.initial_beliefs()"
   ]
  },
  {
   "cell_type": "code",
   "execution_count": 639,
   "metadata": {},
   "outputs": [
    {
     "name": "stdout",
     "output_type": "stream",
     "text": [
      "{'Enfermedad': 0, 'Tratamiento': 0, 'Reaccion': 0, 'Final': 0}\n"
     ]
    },
    {
     "data": {
      "text/plain": [
       "{\"['Enfermedad', 'Final']\": 0.9988609271603157,\n",
       " \"['Enfermedad', 'Reaccion']\": 0.7430001563271796,\n",
       " \"['Enfermedad', 'Tratamiento']\": 0.7411066393657317,\n",
       " \"['Reaccion', 'Final']\": 0.7475579538376338,\n",
       " \"['Tratamiento', 'Final']\": 0.7473769481915192,\n",
       " \"['Tratamiento', 'Reaccion']\": 0.9967673029370401}"
      ]
     },
     "execution_count": 639,
     "metadata": {},
     "output_type": "execute_result"
    }
   ],
   "source": [
    "aprendizaje.belief_updating()"
   ]
  },
  {
   "cell_type": "code",
   "execution_count": 517,
   "metadata": {},
   "outputs": [],
   "source": [
    "lista_prueba=list()\n",
    "causas_posibles=list()"
   ]
  },
  {
   "cell_type": "code",
   "execution_count": 518,
   "metadata": {},
   "outputs": [],
   "source": [
    "variables\n",
    "for i in range(len(variables)):\n",
    "    for j in range(len(variables)):\n",
    "        if(variables[i] != variables[j]):\n",
    "            lista_temp=[variables[i],variables[j]]\n",
    "            if(lista_temp not in orden):\n",
    "                causas_posibles.append(lista_temp)"
   ]
  },
  {
   "cell_type": "code",
   "execution_count": 519,
   "metadata": {},
   "outputs": [
    {
     "data": {
      "text/plain": [
       "[['Enfermedad', 'Tratamiento'],\n",
       " ['Enfermedad', 'Reaccion'],\n",
       " ['Enfermedad', 'Final'],\n",
       " ['Tratamiento', 'Reaccion'],\n",
       " ['Tratamiento', 'Final'],\n",
       " ['Reaccion', 'Final']]"
      ]
     },
     "execution_count": 519,
     "metadata": {},
     "output_type": "execute_result"
    }
   ],
   "source": [
    "causas_posibles"
   ]
  },
  {
   "cell_type": "code",
   "execution_count": 520,
   "metadata": {},
   "outputs": [],
   "source": [
    "beliefs=dict()"
   ]
  },
  {
   "cell_type": "code",
   "execution_count": 521,
   "metadata": {},
   "outputs": [],
   "source": [
    "for i in causas_posibles:\n",
    "    i=str(i)\n",
    "    beliefs[i]=np.random.rand(1).tolist()[0]\n",
    "    a=0.5"
   ]
  },
  {
   "cell_type": "code",
   "execution_count": 523,
   "metadata": {},
   "outputs": [
    {
     "data": {
      "text/plain": [
       "{\"['Enfermedad', 'Final']\": 0.07851783356862196,\n",
       " \"['Enfermedad', 'Reaccion']\": 0.9940126956664775,\n",
       " \"['Enfermedad', 'Tratamiento']\": 0.658307719441343,\n",
       " \"['Reaccion', 'Final']\": 0.41196424432502143,\n",
       " \"['Tratamiento', 'Final']\": 0.931092792873572,\n",
       " \"['Tratamiento', 'Reaccion']\": 0.8587132550163319}"
      ]
     },
     "execution_count": 523,
     "metadata": {},
     "output_type": "execute_result"
    }
   ],
   "source": [
    "beliefs"
   ]
  },
  {
   "cell_type": "code",
   "execution_count": 207,
   "metadata": {},
   "outputs": [],
   "source": [
    "for i in causas_posibles:\n",
    "    if(i[0]==1 and i[1==1]):\n",
    "        i=str(i)\n",
    "        beliefs[i]=beliefs[i]+a*(1-beliefs[i])\n",
    "    else:\n",
    "        i=str(i)\n",
    "        beliefs[i]=a*beliefs[i]"
   ]
  },
  {
   "cell_type": "code",
   "execution_count": 516,
   "metadata": {},
   "outputs": [
    {
     "data": {
      "text/plain": [
       "[]"
      ]
     },
     "execution_count": 516,
     "metadata": {},
     "output_type": "execute_result"
    }
   ],
   "source": [
    "causas_posibles"
   ]
  },
  {
   "cell_type": "code",
   "execution_count": 199,
   "metadata": {},
   "outputs": [
    {
     "ename": "TypeError",
     "evalue": "'float' object is not subscriptable",
     "output_type": "error",
     "traceback": [
      "\u001b[0;31m---------------------------------------------------------------------------\u001b[0m",
      "\u001b[0;31mTypeError\u001b[0m                                 Traceback (most recent call last)",
      "\u001b[0;32m<ipython-input-199-ff4e8cd73823>\u001b[0m in \u001b[0;36m<module>\u001b[0;34m()\u001b[0m\n\u001b[1;32m      1\u001b[0m \u001b[0;32mfor\u001b[0m \u001b[0mi\u001b[0m \u001b[0;32min\u001b[0m \u001b[0mcausas_posibles\u001b[0m\u001b[0;34m:\u001b[0m\u001b[0;34m\u001b[0m\u001b[0m\n\u001b[1;32m      2\u001b[0m     \u001b[0mi\u001b[0m\u001b[0;34m=\u001b[0m\u001b[0mstr\u001b[0m\u001b[0;34m(\u001b[0m\u001b[0mi\u001b[0m\u001b[0;34m)\u001b[0m\u001b[0;34m\u001b[0m\u001b[0m\n\u001b[0;32m----> 3\u001b[0;31m     \u001b[0mprint\u001b[0m\u001b[0;34m(\u001b[0m\u001b[0mbeliefs\u001b[0m\u001b[0;34m[\u001b[0m\u001b[0mi\u001b[0m\u001b[0;34m]\u001b[0m\u001b[0;34m[\u001b[0m\u001b[0;36m0\u001b[0m\u001b[0;34m]\u001b[0m\u001b[0;34m)\u001b[0m\u001b[0;34m\u001b[0m\u001b[0m\n\u001b[0m",
      "\u001b[0;31mTypeError\u001b[0m: 'float' object is not subscriptable"
     ]
    }
   ],
   "source": [
    "for i in causas_posibles:\n",
    "    i=str(i)\n",
    "    print(beliefs[i][0])"
   ]
  },
  {
   "cell_type": "code",
   "execution_count": 75,
   "metadata": {},
   "outputs": [
    {
     "data": {
      "text/plain": [
       "True"
      ]
     },
     "execution_count": 75,
     "metadata": {},
     "output_type": "execute_result"
    }
   ],
   "source": []
  },
  {
   "cell_type": "code",
   "execution_count": 78,
   "metadata": {},
   "outputs": [
    {
     "name": "stdout",
     "output_type": "stream",
     "text": [
      "a\n"
     ]
    }
   ],
   "source": [
    "if 4!=3:\n",
    "    print('a')"
   ]
  },
  {
   "cell_type": "code",
   "execution_count": 98,
   "metadata": {},
   "outputs": [
    {
     "data": {
      "text/plain": [
       "[0.1413996337890877]"
      ]
     },
     "execution_count": 98,
     "metadata": {},
     "output_type": "execute_result"
    }
   ],
   "source": [
    "np.random.rand(1).tolist()"
   ]
  },
  {
   "cell_type": "code",
   "execution_count": 111,
   "metadata": {},
   "outputs": [
    {
     "data": {
      "text/plain": [
       "True"
      ]
     },
     "execution_count": 111,
     "metadata": {},
     "output_type": "execute_result"
    }
   ],
   "source": [
    "1==1 and 2==2"
   ]
  },
  {
   "cell_type": "code",
   "execution_count": 122,
   "metadata": {},
   "outputs": [
    {
     "data": {
      "text/plain": [
       "0.5"
      ]
     },
     "execution_count": 122,
     "metadata": {},
     "output_type": "execute_result"
    }
   ],
   "source": [
    "alpha"
   ]
  },
  {
   "cell_type": "code",
   "execution_count": 204,
   "metadata": {},
   "outputs": [
    {
     "data": {
      "text/plain": [
       "0.5581863603408671"
      ]
     },
     "execution_count": 204,
     "metadata": {},
     "output_type": "execute_result"
    }
   ],
   "source": [
    "np.random.rand(1).tolist()[0]"
   ]
  },
  {
   "cell_type": "code",
   "execution_count": 529,
   "metadata": {},
   "outputs": [],
   "source": [
    "for i in causas_posibles:\n",
    "    if(i[0]==1 and i[1]==1):\n",
    "        print('1')\n",
    "        i=str(i)\n",
    "        beliefs[i]=beliefs[i]+a*(1-beliefs[i])\n",
    "    elif(i[0]==1 and i[1]==2):\n",
    "        print('2')\n",
    "        i=str(i)\n",
    "        beliefs[i]=a*beliefs[i]\n",
    "    elif(i[0]==0 and i[1]==1):\n",
    "        print('3')\n",
    "        i=str(i)\n",
    "        beliefs[i]=a*beliefs[i]"
   ]
  },
  {
   "cell_type": "code",
   "execution_count": 525,
   "metadata": {},
   "outputs": [
    {
     "data": {
      "text/plain": [
       "{\"['Enfermedad', 'Final']\": 0.07851783356862196,\n",
       " \"['Enfermedad', 'Reaccion']\": 0.9940126956664775,\n",
       " \"['Enfermedad', 'Tratamiento']\": 0.658307719441343,\n",
       " \"['Reaccion', 'Final']\": 0.41196424432502143,\n",
       " \"['Tratamiento', 'Final']\": 0.931092792873572,\n",
       " \"['Tratamiento', 'Reaccion']\": 0.8587132550163319}"
      ]
     },
     "execution_count": 525,
     "metadata": {},
     "output_type": "execute_result"
    }
   ],
   "source": [
    "beliefs"
   ]
  },
  {
   "cell_type": "code",
   "execution_count": 526,
   "metadata": {},
   "outputs": [
    {
     "data": {
      "text/plain": [
       "0.5"
      ]
     },
     "execution_count": 526,
     "metadata": {},
     "output_type": "execute_result"
    }
   ],
   "source": [
    "a"
   ]
  },
  {
   "cell_type": "code",
   "execution_count": 535,
   "metadata": {},
   "outputs": [],
   "source": [
    "datos=aprendizaje.observing_external()"
   ]
  },
  {
   "cell_type": "code",
   "execution_count": 536,
   "metadata": {},
   "outputs": [
    {
     "data": {
      "text/plain": [
       "{'Enfermedad': 0, 'Final': 1, 'Reaccion': 1, 'Tratamiento': 0}"
      ]
     },
     "execution_count": 536,
     "metadata": {},
     "output_type": "execute_result"
    }
   ],
   "source": [
    "datos"
   ]
  },
  {
   "cell_type": "code",
   "execution_count": 538,
   "metadata": {},
   "outputs": [
    {
     "data": {
      "text/plain": [
       "[['Enfermedad', 'Tratamiento'],\n",
       " ['Enfermedad', 'Reaccion'],\n",
       " ['Enfermedad', 'Final'],\n",
       " ['Tratamiento', 'Reaccion'],\n",
       " ['Tratamiento', 'Final'],\n",
       " ['Reaccion', 'Final']]"
      ]
     },
     "execution_count": 538,
     "metadata": {},
     "output_type": "execute_result"
    }
   ],
   "source": [
    "causas_posibles"
   ]
  },
  {
   "cell_type": "code",
   "execution_count": 548,
   "metadata": {},
   "outputs": [
    {
     "name": "stdout",
     "output_type": "stream",
     "text": [
      "['Reaccion', 'Final']\n",
      "si\n"
     ]
    }
   ],
   "source": [
    "for i in causas_posibles:\n",
    "    if(datos[i[0]]==1 and datos[i[1]]==1):\n",
    "        print(i)\n",
    "        print('si')"
   ]
  },
  {
   "cell_type": "code",
   "execution_count": 546,
   "metadata": {},
   "outputs": [
    {
     "data": {
      "text/plain": [
       "0"
      ]
     },
     "execution_count": 546,
     "metadata": {},
     "output_type": "execute_result"
    }
   ],
   "source": [
    "datos['Enfermedad']"
   ]
  },
  {
   "cell_type": "code",
   "execution_count": null,
   "metadata": {},
   "outputs": [],
   "source": []
  }
 ],
 "metadata": {
  "kernelspec": {
   "display_name": "Python 3",
   "language": "python",
   "name": "python3"
  },
  "language_info": {
   "codemirror_mode": {
    "name": "ipython",
    "version": 3
   },
   "file_extension": ".py",
   "mimetype": "text/x-python",
   "name": "python",
   "nbconvert_exporter": "python",
   "pygments_lexer": "ipython3",
   "version": "3.6.4"
  }
 },
 "nbformat": 4,
 "nbformat_minor": 2
}
